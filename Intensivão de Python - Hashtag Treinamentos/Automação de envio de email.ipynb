{
 "cells": [
  {
   "cell_type": "markdown",
   "metadata": {},
   "source": [
    "O presente projeto foi desenvolvido durantes as aulas do \"Intensivão de Python\" da Hashtag Treinamentos"
   ]
  },
  {
   "cell_type": "markdown",
   "metadata": {},
   "source": [
    "## Lógica de programação\n",
    "\n",
    "\n",
    "#### Passo 0\n",
    "O passo inicial é criar a lógica de programação\n",
    "\n",
    "\n",
    "#### Passo 1\n",
    "Entrar no sistema da empresa\n",
    "\n",
    "--Onde está a base de dados com as vendas do dia anterior\n",
    "\n",
    "--O sistema vai ser um link do drive\n",
    "\n",
    "---Não é necessário instalar nada\n",
    "\n",
    "##### 1.1 - Como fazer\n",
    "Abrir uma nova aba no navegador (CTRL+T)\n",
    "\n",
    "Escrever o endereço do drive que está a base de dados\n",
    "\n",
    "Apertar ENTER para pesquisar\n",
    "\n",
    "\n",
    "#### Passo 2\n",
    "Navegar no sistema até encontrar a base de dados\n",
    "\n",
    "##### 2.1- Como fazer\n",
    "Descobrir a posição do mouse na tela\n",
    "\n",
    "--Tem que dar tempo de deixar o cursor na posição que deseja ser clicada\n",
    "\n",
    "\n",
    "#### Passo 3\n",
    "Exportar a base de vendas\n",
    "\n",
    "##### 3.1 - Como fazer a exportação\n",
    "Clicar no arquivo que contém a base de dados\n",
    "\n",
    "Clicar nos \"...\"\n",
    "\n",
    "Clicar em \"Fazer download\"\n",
    "\n",
    "(Esse exemplo foi feito com o google drive, podem haver variações de download para outro cloud)\n",
    "\n",
    "##### 3.2 - Como fazer o armazenamento\n",
    "Ler e armazenar a base de dados em Excel no código\n",
    "\n",
    "--Criar uma variável\n",
    "\n",
    "\n",
    "#### Passo 4\n",
    "Criar os indicadores\n",
    "\n",
    "--Faturamento\n",
    "\n",
    "--Quantidade de produtos vendidos\n",
    "\n",
    "##### 4.1 Como fazer\n",
    "Somar a coluna \"Quantidade\"\n",
    "\n",
    "Somar a coluna \"Valor Final\"\n",
    "\n",
    "\n",
    "#### Passo 5\n",
    "Enviar um email para a diretoria com os indicadores\n",
    "\n",
    "##### 5.1 Como fazer\n",
    "Abrir uma nova guia no navegador\n",
    "\n",
    "Digitar o endereço do email (site)\n",
    "\n",
    "Clicar ENTER\n",
    "\n",
    "Clicar em \"Escrever\"\n",
    "\n",
    "Clicar em \"Para\"\n",
    "\n",
    "Escrever o destinatário\n",
    "\n",
    "Clicar em \"Assunto\"\n",
    "\n",
    "Escrever o assunto\n",
    "\n",
    "Clicar no corpo do email\n",
    "\n",
    "Escrever o corpo do email\n",
    "\n",
    "Enviar o email"
   ]
  },
  {
   "cell_type": "markdown",
   "metadata": {},
   "source": [
    "## Instalando bibliotecas\n",
    "A instalação só precisa ser realizada uma vez no computador\n",
    "\n",
    "#### pyautogui\n",
    "Biblioteca de automação de comandos do mouse, do teclado e da tela\n",
    "\n",
    "--É instalado conjuntamente com o pyperclip"
   ]
  },
  {
   "cell_type": "code",
   "execution_count": 23,
   "metadata": {},
   "outputs": [],
   "source": [
    "#!pip install pyautogui\n",
    "#!pip install pyperclip"
   ]
  },
  {
   "cell_type": "markdown",
   "metadata": {},
   "source": [
    "## Importações\n",
    "A importação deve ser feita todas as vezes\n",
    "\n",
    "Após a importação as bibliotecas estão prontas para serem usadas\n",
    "\n",
    "time - Pausa o programa por um tempo definido \n",
    "\n",
    "Sempre que for trabalhar com base de dados no Python é necessário importar o PANDAS"
   ]
  },
  {
   "cell_type": "code",
   "execution_count": 24,
   "metadata": {},
   "outputs": [],
   "source": [
    "import pyautogui\n",
    "import pyperclip\n",
    "import time\n",
    "import pandas as pd"
   ]
  },
  {
   "cell_type": "markdown",
   "metadata": {},
   "source": [
    "## Comandos do pyautogui - Exemplos\n",
    "\n",
    "pyautogui.hotkey() - Aperta um conjunto de teclas\n",
    "\n",
    "pyautogui.write() - Escreve algo\n",
    "\n",
    "pyautogui.click() - Clica em algo\n",
    "\n",
    "pyautogui.press() - Aperta uma tecla\n",
    "\n",
    "O comando pyautogui.hotkey(\"ctrl\", \"t\") abre uma guia do navegador automaticamente"
   ]
  },
  {
   "cell_type": "markdown",
   "metadata": {},
   "source": [
    "## Passo 1"
   ]
  },
  {
   "cell_type": "markdown",
   "metadata": {},
   "source": [
    "#### Pausa \n",
    "Uma pause de 1 segundo entre as execuções dos comandos do pyautogui\n",
    "\n",
    "Evita que um comando rode encima do outro e dê erros"
   ]
  },
  {
   "cell_type": "code",
   "execution_count": 25,
   "metadata": {},
   "outputs": [],
   "source": [
    "pyautogui.PAUSE = 1"
   ]
  },
  {
   "cell_type": "markdown",
   "metadata": {},
   "source": [
    "#### Acessando o sistema com o navegador aberto\n",
    "\n",
    "O pyautogui tem problema com alguns caracteres especiais, como o \"?\" e o \"ç\"\n",
    "\n",
    "É quando entra o pyperclip\n",
    "\n",
    "--Essa ferramenta copia o texto integralmente\n",
    "\n",
    "--Esse texto vai ser colado no pyautogui"
   ]
  },
  {
   "cell_type": "code",
   "execution_count": 26,
   "metadata": {},
   "outputs": [],
   "source": [
    "pyautogui.hotkey(\"ctrl\", \"t\")\n",
    "\n",
    "pyperclip.copy(\"COLOCAR O LOCAL DA BASE DE DADOS\")\n",
    "\n",
    "pyautogui.hotkey(\"ctrl\", \"v\")\n",
    "\n",
    "pyautogui.press(\"enter\")\n",
    "\n",
    "time.sleep(8)"
   ]
  },
  {
   "cell_type": "markdown",
   "metadata": {},
   "source": [
    "#### Acessando o sistema com o navegador fechado"
   ]
  },
  {
   "cell_type": "code",
   "execution_count": 27,
   "metadata": {},
   "outputs": [],
   "source": [
    "#pyautogui.press(\"win\")\n",
    "#pyautogui.write(\"chrome\")\n",
    "#pyautogui.press(\"enter\")\n",
    "#pyperclip.copy(\"COLOCAR O LOCAL DA BASE DE DADOS\")\n",
    "#pyautogui.hotkey(\"ctrl\", \"v\")\n",
    "#pyautogui.press(\"enter\")"
   ]
  },
  {
   "cell_type": "markdown",
   "metadata": {},
   "source": [
    "## Passo 2"
   ]
  },
  {
   "cell_type": "markdown",
   "metadata": {},
   "source": [
    "Descobrir a posição do mouse usando o código no final do arquivo (\"Posição do mouse\")\n",
    "\n",
    "Varia de acordo com cada tipo de tela."
   ]
  },
  {
   "cell_type": "code",
   "execution_count": 28,
   "metadata": {},
   "outputs": [],
   "source": [
    "pyautogui.click(x=\"INSIRA AQUI A SUA POSIÇÃO\", y=\"INSIRA AQUI A SUA POSIÇÃO\", clicks=2)\n",
    "\n",
    "time.sleep(4)"
   ]
  },
  {
   "cell_type": "markdown",
   "metadata": {},
   "source": [
    "## Passo 3"
   ]
  },
  {
   "cell_type": "markdown",
   "metadata": {},
   "source": [
    "#### Exportando o arquivo do drive\n",
    "\n",
    "O download do arquivo pode demorar um pouco"
   ]
  },
  {
   "cell_type": "code",
   "execution_count": 29,
   "metadata": {},
   "outputs": [],
   "source": [
    "pyautogui.click(x=\"INSIRA AQUI A SUA POSIÇÃO\", y=\"INSIRA AQUI A SUA POSIÇÃO\")\n",
    "time.sleep(4)\n",
    "\n",
    "pyautogui.click(x=\"INSIRA AQUI A SUA POSIÇÃO\", y=\"INSIRA AQUI A SUA POSIÇÃO\")\n",
    "time.sleep(4)\n",
    "\n",
    "pyautogui.click(x=\"INSIRA AQUI A SUA POSIÇÃO\", y=\"INSIRA AQUI A SUA POSIÇÃO\")\n",
    "time.sleep(10)"
   ]
  },
  {
   "cell_type": "markdown",
   "metadata": {},
   "source": [
    "#### Leitura e armazenamento da base de dados no código\n",
    "\n",
    "A variável \"Tabela\" vai armazenar os dados da base de dados no código e o PANDAS vai ler a base de dados\n",
    "\n",
    "Procurar o local do arquivo que contém a base de dados\n",
    "\n",
    "Colocar um \"r\" quando for passar texto que é caminho de arquivo\n",
    "\n",
    "--Raw string: Ignora as contrabarras que possam ser caracteres especiais\n"
   ]
  },
  {
   "cell_type": "code",
   "execution_count": 30,
   "metadata": {},
   "outputs": [
    {
     "data": {
      "text/html": [
       "<div>\n",
       "<style scoped>\n",
       "    .dataframe tbody tr th:only-of-type {\n",
       "        vertical-align: middle;\n",
       "    }\n",
       "\n",
       "    .dataframe tbody tr th {\n",
       "        vertical-align: top;\n",
       "    }\n",
       "\n",
       "    .dataframe thead th {\n",
       "        text-align: right;\n",
       "    }\n",
       "</style>\n",
       "<table border=\"1\" class=\"dataframe\">\n",
       "  <thead>\n",
       "    <tr style=\"text-align: right;\">\n",
       "      <th></th>\n",
       "      <th>Código Venda</th>\n",
       "      <th>Data</th>\n",
       "      <th>ID Loja</th>\n",
       "      <th>Produto</th>\n",
       "      <th>Quantidade</th>\n",
       "      <th>Valor Unitário</th>\n",
       "      <th>Valor Final</th>\n",
       "    </tr>\n",
       "  </thead>\n",
       "  <tbody>\n",
       "    <tr>\n",
       "      <th>0</th>\n",
       "      <td>65014</td>\n",
       "      <td>2019-12-01</td>\n",
       "      <td>Shopping Morumbi</td>\n",
       "      <td>Sunga Listrado</td>\n",
       "      <td>5</td>\n",
       "      <td>114</td>\n",
       "      <td>570</td>\n",
       "    </tr>\n",
       "    <tr>\n",
       "      <th>1</th>\n",
       "      <td>65014</td>\n",
       "      <td>2019-12-01</td>\n",
       "      <td>Shopping Morumbi</td>\n",
       "      <td>Casaco Listrado</td>\n",
       "      <td>1</td>\n",
       "      <td>269</td>\n",
       "      <td>269</td>\n",
       "    </tr>\n",
       "    <tr>\n",
       "      <th>2</th>\n",
       "      <td>65016</td>\n",
       "      <td>2019-12-01</td>\n",
       "      <td>Iguatemi Campinas</td>\n",
       "      <td>Sapato Listrado</td>\n",
       "      <td>2</td>\n",
       "      <td>363</td>\n",
       "      <td>726</td>\n",
       "    </tr>\n",
       "    <tr>\n",
       "      <th>3</th>\n",
       "      <td>65016</td>\n",
       "      <td>2019-12-01</td>\n",
       "      <td>Iguatemi Campinas</td>\n",
       "      <td>Casaco</td>\n",
       "      <td>1</td>\n",
       "      <td>250</td>\n",
       "      <td>250</td>\n",
       "    </tr>\n",
       "    <tr>\n",
       "      <th>4</th>\n",
       "      <td>65017</td>\n",
       "      <td>2019-12-01</td>\n",
       "      <td>Shopping SP Market</td>\n",
       "      <td>Gorro Liso</td>\n",
       "      <td>3</td>\n",
       "      <td>92</td>\n",
       "      <td>276</td>\n",
       "    </tr>\n",
       "    <tr>\n",
       "      <th>...</th>\n",
       "      <td>...</td>\n",
       "      <td>...</td>\n",
       "      <td>...</td>\n",
       "      <td>...</td>\n",
       "      <td>...</td>\n",
       "      <td>...</td>\n",
       "      <td>...</td>\n",
       "    </tr>\n",
       "    <tr>\n",
       "      <th>7084</th>\n",
       "      <td>69996</td>\n",
       "      <td>2019-12-26</td>\n",
       "      <td>Center Shopping Uberlândia</td>\n",
       "      <td>Short Listrado</td>\n",
       "      <td>2</td>\n",
       "      <td>102</td>\n",
       "      <td>204</td>\n",
       "    </tr>\n",
       "    <tr>\n",
       "      <th>7085</th>\n",
       "      <td>69996</td>\n",
       "      <td>2019-12-26</td>\n",
       "      <td>Center Shopping Uberlândia</td>\n",
       "      <td>Mochila</td>\n",
       "      <td>4</td>\n",
       "      <td>270</td>\n",
       "      <td>1080</td>\n",
       "    </tr>\n",
       "    <tr>\n",
       "      <th>7086</th>\n",
       "      <td>69996</td>\n",
       "      <td>2019-12-26</td>\n",
       "      <td>Center Shopping Uberlândia</td>\n",
       "      <td>Pulseira Estampa</td>\n",
       "      <td>1</td>\n",
       "      <td>87</td>\n",
       "      <td>87</td>\n",
       "    </tr>\n",
       "    <tr>\n",
       "      <th>7087</th>\n",
       "      <td>69997</td>\n",
       "      <td>2019-12-26</td>\n",
       "      <td>Ribeirão Shopping</td>\n",
       "      <td>Camisa Listrado</td>\n",
       "      <td>1</td>\n",
       "      <td>108</td>\n",
       "      <td>108</td>\n",
       "    </tr>\n",
       "    <tr>\n",
       "      <th>7088</th>\n",
       "      <td>69997</td>\n",
       "      <td>2019-12-26</td>\n",
       "      <td>Ribeirão Shopping</td>\n",
       "      <td>Short Linho</td>\n",
       "      <td>2</td>\n",
       "      <td>133</td>\n",
       "      <td>266</td>\n",
       "    </tr>\n",
       "  </tbody>\n",
       "</table>\n",
       "<p>7089 rows × 7 columns</p>\n",
       "</div>"
      ],
      "text/plain": [
       "      Código Venda       Data                     ID Loja           Produto  \\\n",
       "0            65014 2019-12-01            Shopping Morumbi    Sunga Listrado   \n",
       "1            65014 2019-12-01            Shopping Morumbi   Casaco Listrado   \n",
       "2            65016 2019-12-01           Iguatemi Campinas   Sapato Listrado   \n",
       "3            65016 2019-12-01           Iguatemi Campinas            Casaco   \n",
       "4            65017 2019-12-01          Shopping SP Market        Gorro Liso   \n",
       "...            ...        ...                         ...               ...   \n",
       "7084         69996 2019-12-26  Center Shopping Uberlândia    Short Listrado   \n",
       "7085         69996 2019-12-26  Center Shopping Uberlândia           Mochila   \n",
       "7086         69996 2019-12-26  Center Shopping Uberlândia  Pulseira Estampa   \n",
       "7087         69997 2019-12-26           Ribeirão Shopping   Camisa Listrado   \n",
       "7088         69997 2019-12-26           Ribeirão Shopping       Short Linho   \n",
       "\n",
       "      Quantidade  Valor Unitário  Valor Final  \n",
       "0              5             114          570  \n",
       "1              1             269          269  \n",
       "2              2             363          726  \n",
       "3              1             250          250  \n",
       "4              3              92          276  \n",
       "...          ...             ...          ...  \n",
       "7084           2             102          204  \n",
       "7085           4             270         1080  \n",
       "7086           1              87           87  \n",
       "7087           1             108          108  \n",
       "7088           2             133          266  \n",
       "\n",
       "[7089 rows x 7 columns]"
      ]
     },
     "metadata": {},
     "output_type": "display_data"
    }
   ],
   "source": [
    "tabela = pd.read_excel(r\"INSIRA AQUI O CAMINHO DO ARQUIVO DA SUA BASE DE DADOS\")\n",
    "\n",
    "display(tabela)"
   ]
  },
  {
   "cell_type": "markdown",
   "metadata": {},
   "source": [
    "## Passo 4\n",
    "\n",
    "Realizar os cálculos necessários, nesse caso foram feitos um de faturamento e um de quantidade.\n",
    "\n",
    "O nome passado para as variáveis tem que ser exatamente igual\n",
    "\n",
    "O Python é case sensitive"
   ]
  },
  {
   "cell_type": "code",
   "execution_count": 31,
   "metadata": {
    "scrolled": true
   },
   "outputs": [],
   "source": [
    "faturamento = tabela[\"NOME DA COLUNA\"].sum()\n",
    "\n",
    "quantidade = tabela[\"NOME DA COLUNA\"].sum()"
   ]
  },
  {
   "cell_type": "markdown",
   "metadata": {},
   "source": [
    "## Passo 5"
   ]
  },
  {
   "cell_type": "markdown",
   "metadata": {},
   "source": [
    "#### Entrando no email"
   ]
  },
  {
   "cell_type": "code",
   "execution_count": 32,
   "metadata": {},
   "outputs": [],
   "source": [
    "pyautogui.hotkey(\"ctrl\", \"t\")\n",
    "\n",
    "pyperclip.copy(\"CAMINHO DO EMAIL DE PREFERÊNCIA\")\n",
    "\n",
    "pyautogui.hotkey(\"ctrl\", \"v\")\n",
    "\n",
    "pyautogui.press(\"enter\")\n",
    "\n",
    "time.sleep(8)"
   ]
  },
  {
   "cell_type": "markdown",
   "metadata": {},
   "source": [
    "#### Escrevendo o email\n",
    "Como o corpo do email e o assunto tem caracteres especiais, é bom usar o pyperclip.\n",
    "\n",
    "A edição de números (separador de milhar, casas decimais, etc) é feita no final."
   ]
  },
  {
   "cell_type": "code",
   "execution_count": 33,
   "metadata": {},
   "outputs": [],
   "source": [
    "pyautogui.click(x=\"INSIRA AQUI A SUA POSIÇÃO\", y=\"INSIRA AQUI A SUA POSIÇÃO\")\n",
    "time.sleep(2)\n",
    "\n",
    "pyautogui.click(x=\"INSIRA AQUI A SUA POSIÇÃO\", y=\"INSIRA AQUI A SUA POSIÇÃO\")\n",
    "time.sleep(2)\n",
    "\n",
    "pyperclip.copy(\"EMAIL\")\n",
    "pyautogui.hotkey(\"ctrl\", \"v\")\n",
    "time.sleep(2)\n",
    "\n",
    "pyautogui.press(\"tab\")\n",
    "time.sleep(2)\n",
    "\n",
    "pyperclip.copy(\"ASSUNTO\")\n",
    "pyautogui.hotkey(\"ctrl\", \"v\")\n",
    "time.sleep(2)\n",
    "\n",
    "pyautogui.press(\"tab\")\n",
    "time.sleep(2)\n",
    "\n",
    "texto = f\"\"\"Prezados(as), bom dia\n",
    "\n",
    "O faturamento de ontem foi de: R$ {faturamento:,.2f}\n",
    "\n",
    "A quantidade de produtos vendidos foi de: {quantidade:,}\n",
    "\n",
    "Att,\n",
    "\n",
    "PESSOA\n",
    "\"\"\"\n",
    "pyperclip.copy(texto)\n",
    "pyautogui.hotkey(\"ctrl\", \"v\")\n",
    "time.sleep(2)\n",
    "\n",
    "pyautogui.hotkey(\"ctrl\", \"enter\")"
   ]
  },
  {
   "cell_type": "markdown",
   "metadata": {},
   "source": [
    "#### Mandando o email"
   ]
  },
  {
   "cell_type": "code",
   "execution_count": 34,
   "metadata": {},
   "outputs": [],
   "source": [
    "pyautogui.hotkey(\"ctrl\", \"enter\")"
   ]
  },
  {
   "cell_type": "markdown",
   "metadata": {},
   "source": [
    "## Extra - Posição do mouse\n",
    "\n",
    "O código do position irá retornar a posição em que o cursos se encontra\n",
    "\n",
    "--É a informação necessária para gerar um clique em outra tela\n",
    "\n",
    "A posição do mouse difere para cada computador/tela"
   ]
  },
  {
   "cell_type": "code",
   "execution_count": 35,
   "metadata": {},
   "outputs": [],
   "source": [
    "#time.sleep(8)\n",
    "\n",
    "#pyautogui.position()"
   ]
  },
  {
   "cell_type": "markdown",
   "metadata": {},
   "source": [
    "## Programa inteiro"
   ]
  },
  {
   "cell_type": "code",
   "execution_count": null,
   "metadata": {},
   "outputs": [],
   "source": [
    "#!pip install pyautogui\n",
    "#!pip install pyperclip\n",
    "\n",
    "\n",
    "import pyautogui\n",
    "import pyperclip\n",
    "import time\n",
    "import pandas as pd\n",
    "\n",
    "\n",
    "pyautogui.PAUSE = 1\n",
    "\n",
    "\n",
    "pyautogui.hotkey(\"ctrl\", \"t\")\n",
    "\n",
    "pyperclip.copy(\"COLOCAR O LOCAL DA BASE DE DADOS\")\n",
    "\n",
    "pyautogui.hotkey(\"ctrl\", \"v\")\n",
    "\n",
    "pyautogui.press(\"enter\")\n",
    "\n",
    "time.sleep(8)\n",
    "\n",
    "\n",
    "pyautogui.click(x=\"INSIRA AQUI A SUA POSIÇÃO\", y=\"INSIRA AQUI A SUA POSIÇÃO\", clicks=2)\n",
    "\n",
    "time.sleep(4)\n",
    "\n",
    "\n",
    "pyautogui.click(x=\"INSIRA AQUI A SUA POSIÇÃO\", y=\"INSIRA AQUI A SUA POSIÇÃO\")\n",
    "time.sleep(4)\n",
    "\n",
    "pyautogui.click(x=\"INSIRA AQUI A SUA POSIÇÃO\", y=\"INSIRA AQUI A SUA POSIÇÃO\")\n",
    "time.sleep(4)\n",
    "\n",
    "pyautogui.click(x=\"INSIRA AQUI A SUA POSIÇÃO\", y=\"INSIRA AQUI A SUA POSIÇÃO\")\n",
    "time.sleep(10)\n",
    "\n",
    "\n",
    "tabela = pd.read_excel(r\"INSIRA AQUI O CAMINHO DO ARQUIVO DA SUA BASE DE DADOS\")\n",
    "\n",
    "display(tabela)\n",
    "\n",
    "\n",
    "faturamento = tabela[\"NOME DA COLUNA\"].sum()\n",
    "\n",
    "quantidade = tabela[\"NOME DA COLUNA\"].sum()\n",
    "\n",
    "\n",
    "pyautogui.hotkey(\"ctrl\", \"t\")\n",
    "\n",
    "pyperclip.copy(\"CAMINHO DO EMAIL DE PREFERÊNCIA\")\n",
    "\n",
    "pyautogui.hotkey(\"ctrl\", \"v\")\n",
    "\n",
    "pyautogui.press(\"enter\")\n",
    "\n",
    "time.sleep(8)\n",
    "\n",
    "\n",
    "pyautogui.click(x=\"INSIRA AQUI A SUA POSIÇÃO\", y=\"INSIRA AQUI A SUA POSIÇÃO\")\n",
    "time.sleep(2)\n",
    "\n",
    "pyautogui.click(x=\"INSIRA AQUI A SUA POSIÇÃO\", y=\"INSIRA AQUI A SUA POSIÇÃO\")\n",
    "time.sleep(2)\n",
    "\n",
    "pyperclip.copy(\"EMAIL\")\n",
    "pyautogui.hotkey(\"ctrl\", \"v\")\n",
    "time.sleep(2)\n",
    "\n",
    "pyautogui.press(\"tab\")\n",
    "time.sleep(2)\n",
    "\n",
    "pyperclip.copy(\"ASSUNTO\")\n",
    "pyautogui.hotkey(\"ctrl\", \"v\")\n",
    "time.sleep(2)\n",
    "\n",
    "pyautogui.press(\"tab\")\n",
    "time.sleep(2)\n",
    "\n",
    "texto = f\"\"\"Prezados(as), bom dia\n",
    "\n",
    "O faturamento de ontem foi de: R$ {faturamento:,.2f}\n",
    "\n",
    "A quantidade de produtos vendidos foi de: {quantidade:,}\n",
    "\n",
    "Att,\n",
    "\n",
    "PESSOA\n",
    "\"\"\"\n",
    "pyperclip.copy(texto)\n",
    "pyautogui.hotkey(\"ctrl\", \"v\")\n",
    "time.sleep(2)\n",
    "\n",
    "pyautogui.hotkey(\"ctrl\", \"enter\")\n",
    "\n",
    "\n",
    "pyautogui.hotkey(\"ctrl\", \"enter\")"
   ]
  }
 ],
 "metadata": {
  "kernelspec": {
   "display_name": "Python 3 (ipykernel)",
   "language": "python",
   "name": "python3"
  },
  "language_info": {
   "codemirror_mode": {
    "name": "ipython",
    "version": 3
   },
   "file_extension": ".py",
   "mimetype": "text/x-python",
   "name": "python",
   "nbconvert_exporter": "python",
   "pygments_lexer": "ipython3",
   "version": "3.9.7"
  }
 },
 "nbformat": 4,
 "nbformat_minor": 4
}

{
 "cells": [
  {
   "cell_type": "markdown",
   "metadata": {},
   "source": [
    "# Exercícios\n",
    "\n",
    "## 1. Tirando informações de listas e dicionários\n",
    "\n",
    "Digamos que você está analisando as vendas de produtos de uma empresa de varejo.\n",
    "\n",
    "Essa lista tem: (produto, vendas de 2019, vendas de 2020) para cada produto.\n",
    "\n",
    "Crie uma lista com as vendas de 2019."
   ]
  },
  {
   "cell_type": "code",
   "execution_count": 17,
   "metadata": {},
   "outputs": [
    {
     "name": "stdout",
     "output_type": "stream",
     "text": [
      "Vendas 2019 ->  [558147, 712350, 573823, 405252, 718654, 531580, 973139, 892292, 422760, 154753, 887061, 438508, 237467, 489705, 328311, 591120]\n"
     ]
    }
   ],
   "source": [
    "vendas_produtos = [('iphone', 558147, 951642), ('galaxy', 712350, 244295),\\\n",
    "                   ('ipad', 573823, 26964), ('tv', 405252, 787604),\\\n",
    "                   ('máquina de café', 718654, 867660),\\\n",
    "                   ('kindle', 531580, 78830), ('geladeira', 973139, 710331),\\\n",
    "                   ('adega', 892292, 646016),\\\n",
    "                   ('notebook dell', 422760, 694913),\\\n",
    "                   ('notebook hp', 154753, 539704),\\\n",
    "                   ('notebook asus', 887061, 324831),\\\n",
    "                   ('microsoft surface', 438508, 667179),\\\n",
    "                   ('webcam', 237467, 295633),\\\n",
    "                   ('caixa de som', 489705, 725316),\\\n",
    "                   ('microfone', 328311, 644622),\\\n",
    "                   ('câmera canon', 591120, 994303)]\n",
    "\n",
    "vendas2019 = [venda19 for produto, venda19, venda20 in vendas_produtos]\n",
    "\n",
    "print(\"Vendas 2019 -> \", vendas2019)"
   ]
  },
  {
   "cell_type": "markdown",
   "metadata": {},
   "source": [
    "- Agora, qual o maior valor de vendas de 2019?"
   ]
  },
  {
   "cell_type": "code",
   "execution_count": 18,
   "metadata": {},
   "outputs": [
    {
     "name": "stdout",
     "output_type": "stream",
     "text": [
      "973139\n"
     ]
    }
   ],
   "source": [
    "maior_valor_2019 = max(vendas2019)\n",
    "print(maior_valor_2019)"
   ]
  },
  {
   "cell_type": "markdown",
   "metadata": {},
   "source": [
    "- E se eu quisesse descobrir o produto que mais vendeu em 2019?\n",
    "Temos 2 formas de fazer, refazendo o list comprehension ou consultando a lista original"
   ]
  },
  {
   "cell_type": "code",
   "execution_count": 27,
   "metadata": {},
   "outputs": [
    {
     "name": "stdout",
     "output_type": "stream",
     "text": [
      "O produto mais vendido foi -> geladeira\n",
      "A quantia foi de -> 973139\n"
     ]
    }
   ],
   "source": [
    "Lista2019 = [(venda19, produto) for produto, venda19,\\\n",
    "             venda20 in vendas_produtos]\n",
    "\n",
    "produto_mais_vendido = max(Lista2019)\n",
    "\n",
    "print(\"O produto mais vendido foi -> {}\".format(produto_mais_vendido[1]))\n",
    "print(\"A quantia foi de -> {}\".format(produto_mais_vendido[0]))"
   ]
  }
 ],
 "metadata": {
  "kernelspec": {
   "display_name": "Python 3 (ipykernel)",
   "language": "python",
   "name": "python3"
  },
  "language_info": {
   "codemirror_mode": {
    "name": "ipython",
    "version": 3
   },
   "file_extension": ".py",
   "mimetype": "text/x-python",
   "name": "python",
   "nbconvert_exporter": "python",
   "pygments_lexer": "ipython3",
   "version": "3.9.7"
  }
 },
 "nbformat": 4,
 "nbformat_minor": 4
}

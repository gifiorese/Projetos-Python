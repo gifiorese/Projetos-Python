{
 "cells": [
  {
   "cell_type": "markdown",
   "metadata": {},
   "source": [
    "# Exercícios\n",
    "\n",
    "## 1. Faturamento do Melhor e do Pior Mês do Ano\n",
    "\n",
    "Qual foi o valor de vendas do melhor mês do Ano?\n",
    "E valor do pior mês do ano?"
   ]
  },
  {
   "cell_type": "code",
   "execution_count": 22,
   "metadata": {},
   "outputs": [],
   "source": [
    "meses = ['jan', 'fev', 'mar', 'abr', 'mai', 'jun', 'jul', 'ago',\\\n",
    "         'set', 'out', 'nov', 'dez']\n",
    "vendas_1sem = [25000, 29000, 22200, 17750, 15870, 19900]\n",
    "vendas_2sem = [19850, 20120, 17540, 15555, 49051, 9650]"
   ]
  },
  {
   "cell_type": "code",
   "execution_count": 32,
   "metadata": {},
   "outputs": [
    {
     "name": "stdout",
     "output_type": "stream",
     "text": [
      "Maior venda:  49051\n",
      "Menor venda:  9650\n"
     ]
    }
   ],
   "source": [
    "vendas_ano = vendas_1sem + vendas_2sem\n",
    "\n",
    "maior_venda = max(vendas_ano)\n",
    "\n",
    "menor_venda = min(vendas_ano)\n",
    "\n",
    "print(\"Maior venda: \", maior_venda)\n",
    "\n",
    "print(\"Menor venda: \", menor_venda)"
   ]
  },
  {
   "cell_type": "markdown",
   "metadata": {},
   "source": [
    "## 2. Continuação\n",
    "\n",
    "Agora relacione as duas listas para printar 'O melhor mês do ano foi {} com {} vendas' e o mesmo para o pior mês do ano.\n",
    "\n",
    "Calcule também o faturamento total do Ano e quanto que o melhor mês representou do faturamento total.\n",
    "\n",
    "Obs: Para o faturamento total, pode usar a função sum(lista) que soma todos os itens de uma lista"
   ]
  },
  {
   "cell_type": "code",
   "execution_count": 33,
   "metadata": {},
   "outputs": [
    {
     "name": "stdout",
     "output_type": "stream",
     "text": [
      "O melhor mês do ano foi nov com R$49051.00 vendas\n",
      "O pior mês do ano foi dez com R$9650.00 vendas\n",
      "O faturamento total foi de 261486.00 reais\n",
      "O melhor mês representou 18.8% das vendas do ano todo\n"
     ]
    }
   ],
   "source": [
    "i_maior = vendas_ano.index(maior_venda)\n",
    "\n",
    "i_menor = vendas_ano.index(menor_venda)\n",
    "\n",
    "print(\"O melhor mês do ano foi {} com R${:.2f} vendas\"\\\n",
    "      .format(meses[i_maior], maior_venda))\n",
    "\n",
    "print(\"O pior mês do ano foi {} com R${:.2f} vendas\"\\\n",
    "      .format(meses[i_menor], menor_venda))\n",
    "\n",
    "faturamento_total = sum(vendas_ano)\n",
    "\n",
    "print(\"O faturamento total foi de {:.2f} reais\".format(faturamento_total))\n",
    "\n",
    "percentual = maior_venda/faturamento_total\n",
    "\n",
    "print(\"O melhor mês representou {:.1%} das vendas do ano todo\"\\\n",
    "      .format(percentual))"
   ]
  },
  {
   "cell_type": "markdown",
   "metadata": {},
   "source": [
    "## 3. Crie uma lista com o top 3 valores de vendas do ano (sem fazer \"no olho\")\n",
    "\n",
    "Dica: o método remove retira um item da lista."
   ]
  },
  {
   "cell_type": "code",
   "execution_count": 34,
   "metadata": {},
   "outputs": [
    {
     "name": "stdout",
     "output_type": "stream",
     "text": [
      "[49051, 29000, 25000]\n"
     ]
    }
   ],
   "source": [
    "top3 = []\n",
    "\n",
    "maior_venda = max(vendas_ano)\n",
    "\n",
    "top3.append(maior_venda)\n",
    "\n",
    "vendas_ano.remove(maior_venda)\n",
    "\n",
    "maior_venda = max(vendas_ano)\n",
    "\n",
    "top3.append(maior_venda)\n",
    "\n",
    "vendas_ano.remove(maior_venda)\n",
    "\n",
    "maior_venda = max(vendas_ano)\n",
    "\n",
    "top3.append(maior_venda)\n",
    "\n",
    "vendas_ano.remove(maior_venda)\n",
    "\n",
    "print(top3)"
   ]
  },
  {
   "cell_type": "markdown",
   "metadata": {},
   "source": [
    "## 4. Mudança de Carga Tributária\n",
    "\n",
    "- Reformas e mudanças de cargas tributárias são bem comuns no Brasil.\n",
    "\n",
    "Digamos que você trabalhe em uma empresa de e-commerce\n",
    "\n",
    "No Brasil, o imposto sobre livros é zerado. De um ano para o outro, o governo criou um novo imposto que incide em 10% sobre o valor dos livros e agora você precisa alterar o registro dos preços dos livros da empresa para garantir que esse imposto vai ser repassado para o preço final do produto.\n",
    "\n",
    "Crie um código que recalcule o valor do livro da sua lista de produtos e ajuste na tabela.\n",
    "\n",
    "Além disso, calcule qual vai ser o impacto financeiro da criação desse imposto para a empresa (ou seja, quanto que o imposto vai aumentar de custo para a empresa)\n",
    "\n",
    "Obs: para facilitar, colocamos apenas 1 livro na lista, mas em breve vamos aprender um for que vai adaptar esse cenário para qualquer quantidade de livros na sua lista.\n",
    "\n",
    "Obs2: Seu código deve funcionar mesmo que não haja livros na lista de produtos da empresa"
   ]
  },
  {
   "cell_type": "code",
   "execution_count": 8,
   "metadata": {},
   "outputs": [
    {
     "name": "stdout",
     "output_type": "stream",
     "text": [
      "[50000, 44.0]\n",
      "Impacto financeiro: R$200000.00\n"
     ]
    }
   ],
   "source": [
    "produtos = ['computador', 'livro', 'tablet', 'celular', 'tv', 'ar condicionado', 'alexa', 'máquina de café', 'kindle']\n",
    "\n",
    "#cada item da lista dos produtos corresponde a quantidade de vendas no mês e preço, nessa ordem\n",
    "produtos_ecommerce = [\n",
    "    [10000, 2500],\n",
    "    [50000, 40],\n",
    "    [7000, 1200],\n",
    "    [20000, 1500],\n",
    "    [5800, 1300],\n",
    "    [7200, 2500],\n",
    "    [200, 800],\n",
    "    [3300, 700],\n",
    "    [1900, 400]\n",
    "]\n",
    "\n",
    "\n",
    "# Resolução\n",
    "if 'livro' in produtos:\n",
    "    i = produtos.index('livro')\n",
    "    \n",
    "    total_antigo = produtos_ecommerce[i][0] * produtos_ecommerce[i][1]\n",
    "    \n",
    "    #Modifiação do valor\n",
    "    produtos_ecommerce[i][1] = produtos_ecommerce[i][1] * 1.1\n",
    "    \n",
    "    print(produtos_ecommerce[i])\n",
    "    \n",
    "    #Impacto financeiro\n",
    "    total_novo = produtos_ecommerce[i][0] * produtos_ecommerce[i][1]\n",
    "\n",
    "    impacto_financeiro = total_novo - total_antigo\n",
    "    \n",
    "    print(\"Impacto financeiro: R${:.2f}\".format(impacto_financeiro))"
   ]
  }
 ],
 "metadata": {
  "kernelspec": {
   "display_name": "Python 3 (ipykernel)",
   "language": "python",
   "name": "python3"
  },
  "language_info": {
   "codemirror_mode": {
    "name": "ipython",
    "version": 3
   },
   "file_extension": ".py",
   "mimetype": "text/x-python",
   "name": "python",
   "nbconvert_exporter": "python",
   "pygments_lexer": "ipython3",
   "version": "3.9.7"
  }
 },
 "nbformat": 4,
 "nbformat_minor": 4
}

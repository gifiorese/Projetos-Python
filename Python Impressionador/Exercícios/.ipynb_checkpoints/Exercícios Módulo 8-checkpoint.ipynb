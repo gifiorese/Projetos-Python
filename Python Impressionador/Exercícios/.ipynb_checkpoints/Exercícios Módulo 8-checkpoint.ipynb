{
 "cells": [
  {
   "cell_type": "markdown",
   "metadata": {},
   "source": [
    "# Exercícios\n",
    "\n",
    "São exercícios bem parecidos com os que fizemos com listas. Mas na tupla, podemos não só trabalhar com índices, mas fazer o \"unpacking\" das tuplas, o que pode facilitar nossos códigos.\n",
    "\n",
    "## 1. Análise de Vendas\n",
    "\n",
    "Nesse exercício vamos fazer uma \"análise simples\" de atingimento de Meta.\n",
    "\n",
    "Temos uma lista com os vendedores e os valores de vendas e queremos identificar (printar) quais os vendedores que bateram a meta e qual foi o valor que eles venderam."
   ]
  },
  {
   "cell_type": "code",
   "execution_count": 12,
   "metadata": {},
   "outputs": [
    {
     "name": "stdout",
     "output_type": "stream",
     "text": [
      "João bateu a meta e vendeu R$15000,00\n",
      "Julia bateu a meta e vendeu R$27000,00\n",
      "Ana bateu a meta e vendeu R$10300,00\n"
     ]
    }
   ],
   "source": [
    "meta = 10000\n",
    "\n",
    "vendas = [\n",
    "    ('João', 15000),\n",
    "    ('Julia', 27000),\n",
    "    ('Marcus', 9900),\n",
    "    ('Maria', 3750),\n",
    "    ('Ana', 10300),\n",
    "    ('Alon', 7870),\n",
    "]\n",
    "\n",
    "for item in vendas:\n",
    "    vendedor, valor = item\n",
    "    if valor >= meta:\n",
    "        print(\"{} bateu a meta e vendeu R${},00\".format(vendedor, valor))"
   ]
  },
  {
   "cell_type": "markdown",
   "metadata": {},
   "source": [
    "## 2. Comparação com Ano Anterior\n",
    "\n",
    "Digamos que você está analisando as vendas de produtos de um ecommerce e quer identificar quais produtos tiveram no ano de 2020 mais vendas do que no ano de 2019, para reportar isso para a diretoria.\n",
    "\n",
    "Sua resposta pode ser um print de cada produto, qual foi a venda de 2019, a venda de 2020 e o % de crescimento de 2020 para 2019.\n",
    "\n",
    "Lembrando, para calcular o % de crescimento de um produto de um ano para o outro, podemos fazer: (vendas_produto2020/vendas_produto2019 - 1)\n",
    "\n",
    "A lógica da tupla é: (produto, vendas2019, vendas2020)"
   ]
  },
  {
   "cell_type": "code",
   "execution_count": 14,
   "metadata": {},
   "outputs": [
    {
     "name": "stdout",
     "output_type": "stream",
     "text": [
      "O item iphone teve uma venda maior em 2020. \n",
      " Vendas em 2019: 558147 \n",
      " Vendas em 2020: 951642 \n",
      " Crescimento: 70.5% \n",
      "\n",
      "\n",
      "O item tv teve uma venda maior em 2020. \n",
      " Vendas em 2019: 405252 \n",
      " Vendas em 2020: 787604 \n",
      " Crescimento: 94.3% \n",
      "\n",
      "\n",
      "O item máquina de café teve uma venda maior em 2020. \n",
      " Vendas em 2019: 718654 \n",
      " Vendas em 2020: 867660 \n",
      " Crescimento: 20.7% \n",
      "\n",
      "\n",
      "O item notebook dell teve uma venda maior em 2020. \n",
      " Vendas em 2019: 422760 \n",
      " Vendas em 2020: 694913 \n",
      " Crescimento: 64.4% \n",
      "\n",
      "\n",
      "O item notebook hp teve uma venda maior em 2020. \n",
      " Vendas em 2019: 154753 \n",
      " Vendas em 2020: 539704 \n",
      " Crescimento: 248.8% \n",
      "\n",
      "\n",
      "O item microsoft surface teve uma venda maior em 2020. \n",
      " Vendas em 2019: 438508 \n",
      " Vendas em 2020: 667179 \n",
      " Crescimento: 52.1% \n",
      "\n",
      "\n",
      "O item webcam teve uma venda maior em 2020. \n",
      " Vendas em 2019: 237467 \n",
      " Vendas em 2020: 295633 \n",
      " Crescimento: 24.5% \n",
      "\n",
      "\n",
      "O item caixa de som teve uma venda maior em 2020. \n",
      " Vendas em 2019: 489705 \n",
      " Vendas em 2020: 725316 \n",
      " Crescimento: 48.1% \n",
      "\n",
      "\n",
      "O item microfone teve uma venda maior em 2020. \n",
      " Vendas em 2019: 328311 \n",
      " Vendas em 2020: 644622 \n",
      " Crescimento: 96.3% \n",
      "\n",
      "\n",
      "O item câmera canon teve uma venda maior em 2020. \n",
      " Vendas em 2019: 591120 \n",
      " Vendas em 2020: 994303 \n",
      " Crescimento: 68.2% \n",
      "\n",
      "\n"
     ]
    }
   ],
   "source": [
    "vendas_produtos = [('iphone', 558147, 951642), \\\n",
    "                   ('galaxy', 712350, 244295), ('ipad', 573823, 26964),\\\n",
    "                   ('tv', 405252, 787604), ('máquina de café', 718654, 867660),\\\n",
    "                   ('kindle', 531580, 78830), ('geladeira', 973139, 710331),\\\n",
    "                   ('adega', 892292, 646016), ('notebook dell', 422760, 694913),\\\n",
    "                   ('notebook hp', 154753, 539704), ('notebook asus', 887061, 324831),\\\n",
    "                   ('microsoft surface', 438508, 667179), ('webcam', 237467, 295633),\\\n",
    "                   ('caixa de som', 489705, 725316), ('microfone', 328311, 644622),\\\n",
    "                   ('câmera canon', 591120, 994303)]\n",
    "\n",
    "for item in vendas_produtos:\n",
    "    produto, vendas2019, vendas2020 = item\n",
    "    if vendas2020 > vendas2019:\n",
    "        porcentagem = (vendas2020 / vendas2019) - 1\n",
    "        print(\"O item {} teve uma venda maior em 2020. \\n Vendas em 2019: {} \\n Vendas em 2020: {} \\n Crescimento: {:.1%} \\n\\n\"\\\n",
    "              .format(produto, vendas2019, vendas2020, porcentagem))\n",
    "    "
   ]
  }
 ],
 "metadata": {
  "kernelspec": {
   "display_name": "Python 3 (ipykernel)",
   "language": "python",
   "name": "python3"
  },
  "language_info": {
   "codemirror_mode": {
    "name": "ipython",
    "version": 3
   },
   "file_extension": ".py",
   "mimetype": "text/x-python",
   "name": "python",
   "nbconvert_exporter": "python",
   "pygments_lexer": "ipython3",
   "version": "3.9.7"
  }
 },
 "nbformat": 4,
 "nbformat_minor": 4
}

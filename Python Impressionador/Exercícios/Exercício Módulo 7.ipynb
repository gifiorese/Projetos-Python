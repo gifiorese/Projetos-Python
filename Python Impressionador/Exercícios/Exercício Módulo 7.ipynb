{
 "cells": [
  {
   "cell_type": "markdown",
   "metadata": {},
   "source": [
    "# Exercícios - Módulo 7\n",
    "\n",
    "## 1. Input até o usuário parar\n",
    "\n",
    "Vamos criar um sistema de vendas. Nosso programa deve registrar os produtos e as quantidades (2 inputs) e adicionar em uma lista.\n",
    "\n",
    "O programa deve continuar rodando até o input ser vazio, ou seja, o usuário apertar enter sem digitar nenhum produto ou quantidade.\n",
    "\n",
    "Ao final do programa, ele deve printar todos os produtos e quantidades vendidas.\n",
    "\n",
    "Obs: Caso queira, para o print ficar mais visual, pode usar o join para cada item ser printado em uma linha.\n",
    "Sugestão para sua lista de produtos vendidos:"
   ]
  },
  {
   "cell_type": "raw",
   "metadata": {},
   "source": [
    "vendas = [\n",
    "    ['maçã', 5],\n",
    "    ['banana', 15],\n",
    "    ['azeite', 1],\n",
    "    ['vinho', 3],\n",
    "]"
   ]
  },
  {
   "cell_type": "code",
   "execution_count": 6,
   "metadata": {},
   "outputs": [
    {
     "name": "stdout",
     "output_type": "stream",
     "text": [
      "Digite o nome do produto: Banana\n",
      "Digite a quantidade do produto: 2\n",
      "Digite o nome do produto: Maçã\n",
      "Digite a quantidade do produto: 4\n",
      "Digite o nome do produto: \n",
      "Digite a quantidade do produto: \n",
      "[['Banana', '2'], ['Maçã', '4']]\n"
     ]
    }
   ],
   "source": [
    "vendas = []\n",
    "\n",
    "produto = input(\"Digite o nome do produto: \")\n",
    "\n",
    "qtd = input(\"Digite a quantidade do produto: \")\n",
    "\n",
    "while produto != '' and qtd != '':\n",
    "    venda = [produto, qtd]\n",
    "    \n",
    "    vendas.append(venda)\n",
    "    \n",
    "    produto = input(\"Digite o nome do produto: \")\n",
    "    \n",
    "    qtd = input(\"Digite a quantidade do produto: \")\n",
    "\n",
    "print(vendas)"
   ]
  },
  {
   "cell_type": "markdown",
   "metadata": {},
   "source": [
    "### Outra resolução"
   ]
  },
  {
   "cell_type": "code",
   "execution_count": 10,
   "metadata": {},
   "outputs": [
    {
     "name": "stdout",
     "output_type": "stream",
     "text": [
      "Digite o nome do produto: Banana\n",
      "Digite a quantidade do produto: 4\n",
      "Digite o nome do produto: Maçã\n",
      "Digite a quantidade do produto: 5\n",
      "Digite o nome do produto: \n",
      "[['Banana', '4'], ['Maçã', '5']]\n"
     ]
    }
   ],
   "source": [
    "vendas = []\n",
    "\n",
    "while True:\n",
    "    produto = input(\"Digite o nome do produto: \")\n",
    "    \n",
    "    if not produto:\n",
    "        break\n",
    "        \n",
    "    qtd = input(\"Digite a quantidade do produto: \")\n",
    "    \n",
    "    vendas.append([produto, qtd])\n",
    "    \n",
    "print(vendas)"
   ]
  }
 ],
 "metadata": {
  "kernelspec": {
   "display_name": "Python 3 (ipykernel)",
   "language": "python",
   "name": "python3"
  },
  "language_info": {
   "codemirror_mode": {
    "name": "ipython",
    "version": 3
   },
   "file_extension": ".py",
   "mimetype": "text/x-python",
   "name": "python",
   "nbconvert_exporter": "python",
   "pygments_lexer": "ipython3",
   "version": "3.9.7"
  }
 },
 "nbformat": 4,
 "nbformat_minor": 4
}

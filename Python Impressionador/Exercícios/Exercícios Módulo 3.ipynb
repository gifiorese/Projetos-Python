{
 "cells": [
  {
   "cell_type": "markdown",
   "metadata": {},
   "source": [
    "# Exercícios do Módulo 3 - IF"
   ]
  },
  {
   "cell_type": "markdown",
   "metadata": {},
   "source": [
    "## 1. Cálculo de Bônus\n",
    "\n",
    "- Crie um programa que calcule e dê um print no bônus que os funcionários devem receber segundo a regra:\n",
    "\n",
    "A meta é 1000 vendas.<br> \n",
    "Se o valor de vendas for maior ou igual a meta, o valor do bônus do funcionário é 10% do valor de vendas.<br>\n",
    "Caso contrário o valor de bônus do funcionário é 0.<br>\n",
    "Print o bônus dos 3 funcionários"
   ]
  },
  {
   "cell_type": "code",
   "execution_count": 7,
   "metadata": {},
   "outputs": [
    {
     "name": "stdout",
     "output_type": "stream",
     "text": [
      "O funcionário 1 ganhou 100.0 de bônus\n",
      "O funcionário 2 ganhou 0 de bônus\n",
      "O funcionário 3 ganhou 270.0 de bônus\n"
     ]
    }
   ],
   "source": [
    "meta = 1000\n",
    "\n",
    "vendas_funcionario1 = 1000\n",
    "\n",
    "vendas_funcionario2 = 770\n",
    "\n",
    "vendas_funcionario3 = 2700\n",
    "\n",
    "if vendas_funcionario1 >= meta:\n",
    "    bonus = 0.1 * vendas_funcionario1\n",
    "else:\n",
    "    bonus = 0\n",
    "print(\"O funcionário 1 ganhou {} de bônus\".format(bonus))\n",
    "    \n",
    "if vendas_funcionario2 >= meta:\n",
    "    bonus = 0.1 * vendas_funcionario2\n",
    "else:\n",
    "    bonus = 0\n",
    "print(\"O funcionário 2 ganhou {} de bônus\".format(bonus))\n",
    "    \n",
    "if vendas_funcionario3 >= meta:\n",
    "    bonus = 0.1 * vendas_funcionario3\n",
    "else:\n",
    "    bonus = 0\n",
    "print(\"O funcionário 3 ganhou {} de bônus\".format(bonus))"
   ]
  },
  {
   "cell_type": "markdown",
   "metadata": {},
   "source": [
    "## 2. Cálculo de bônus com uma nova regra\n",
    "\n",
    "- Agora, crie um novo código que calcule e dê um print no bônus dos funcionários novamente. Porém há uma nova regra nesse 2º caso:\n",
    "\n",
    "A meta é 1000 vendas<br>\n",
    "Agora, os funcionários que venderem muito acima da meta ganham mais bônus do que os outros. Então o bônus é definido da seguinte forma:<br>\n",
    "\n",
    "- Se vendas funcionário for maior ou igual a 2000, então o bônus é de 15% sobre o valor de vendas\n",
    "- Se vendas funcionário for menor do que 2000 e maior ou igual a 1000, então o bônus é de 10% sobre o valor de vendas\n",
    "- Se vendas funcionário for menos do que 1000 então o bônus do funcionário é de 0.\n",
    "\n",
    "Use as mesmas variáveis de vendas_funcionários"
   ]
  },
  {
   "cell_type": "code",
   "execution_count": 8,
   "metadata": {},
   "outputs": [
    {
     "name": "stdout",
     "output_type": "stream",
     "text": [
      "O funcionário 1 ganhou 100.0 de bônus\n",
      "O funcionário 2 ganhou 0 de bônus\n",
      "O funcionário 3 ganhou 405.0 de bônus\n"
     ]
    }
   ],
   "source": [
    "meta = 1000\n",
    "\n",
    "vendas_funcionario1 = 1000\n",
    "\n",
    "vendas_funcionario2 = 770\n",
    "\n",
    "vendas_funcionario3 = 2700\n",
    "\n",
    "if vendas_funcionario1 >= 2000:\n",
    "    bonus = 0.15 * vendas_funcionario1\n",
    "elif vendas_funcionario1 < 2000 and vendas_funcionario1 >= 1000:\n",
    "    bonus = 0.1 * vendas_funcionario1\n",
    "elif vendas_funcionario1 < 1000:\n",
    "    bonus = 0\n",
    "print(\"O funcionário 1 ganhou {} de bônus\".format(bonus))\n",
    "\n",
    "if vendas_funcionario2 >= 2000:\n",
    "    bonus = 0.15 * vendas_funcionario2\n",
    "elif vendas_funcionario2 < 2000 and vendas_funcionario2 >= 1000:\n",
    "    bonus = 0.1 * vendas_funcionario2\n",
    "elif vendas_funcionario2 < 1000:\n",
    "    bonus = 0\n",
    "print(\"O funcionário 2 ganhou {} de bônus\".format(bonus))\n",
    "\n",
    "if vendas_funcionario3 >= 2000:\n",
    "    bonus = 0.15 * vendas_funcionario3\n",
    "elif vendas_funcionario3 < 2000 and vendas_funcionario3 >= 1000:\n",
    "    bonus = 0.1 * vendas_funcionario3\n",
    "elif vendas_funcionario3 < 1000:\n",
    "    bonus = 0\n",
    "print(\"O funcionário 3 ganhou {} de bônus\".format(bonus))"
   ]
  },
  {
   "cell_type": "markdown",
   "metadata": {},
   "source": [
    "## 3. Criando um mini sistema de controle de estoque\n",
    "\n",
    "- Crie um sistema para ser usado pelo time de controle de estoque de um centro de distribuição.\n",
    "- Imagine que ao fim de todo dia, o time conta quantas unidades de produto existem no estoque. Se tivermos um estoque abaixo do estoque permitido para aquela categoria do produto, o time deve ser avisado (print) para fazer um novo pedido daquele produto.\n",
    "- Cada categoria de produto tem um estoque mínimo diferente, segundo a regra abaixo:\n",
    "\n",
    "- alimentos -> Estoque mínimo: 50\n",
    "- bebidas -> Estoque mínimo: 75\n",
    "- limpeza -> Estoque mínimo: 30\n",
    "\n",
    "Para isso vamos criar um programa que pede 3 inputs do usuário: nome do produto, categoria e quantidade atual em estoque.\n",
    "\n",
    "Se o produto tiver abaixo do estoque mínimo da categoria dele, o programa deve printar a mensagem \"Solicitar {produto} à equipe de compras, temos apenas {unidades} em estoque\"\n",
    "\n",
    "Exemplo: Se o usuário preenche os inputs com: bebidas, dolly, 90, o programa não deve exibir nenhuma mensagem.<br>\n",
    "Agora, se o usuário preenche os inputs com: bebidas, guaraná, 60, o programa deve exibir a mensagem \"Solicitar guaraná à equipe de compras, temos apenas 60 unidades em estoque.\n",
    "\n",
    "Obs: lembre de usar o int() para transformar o número inserido pelo usuário no input de string para int.<br>\n",
    "Obs2: Caso o usuário não preencha alguma das 3 informações, o programa deve exibir uma mensagem para avisá-lo de preencher corretamente."
   ]
  },
  {
   "cell_type": "code",
   "execution_count": 8,
   "metadata": {},
   "outputs": [
    {
     "name": "stdout",
     "output_type": "stream",
     "text": [
      "Digite o nome do produto: Guaraná\n",
      "Digite a categoria do produto: Bebida\n",
      "Digite a quantidade atual em estoque: 60\n",
      "Solicitar Guaraná à equipe de compras, temos apenas 60 unidades em estoque.\n"
     ]
    }
   ],
   "source": [
    "nome = input(\"Digite o nome do produto: \")\n",
    "\n",
    "categoria = input(\"Digite a categoria do produto: \")\n",
    "\n",
    "qtd_estoque = input(\"Digite a quantidade atual em estoque: \")\n",
    "\n",
    "estoque_alimentos = 50\n",
    "\n",
    "estoque_bebidas = 75\n",
    "\n",
    "estoque_limpeza = 30\n",
    "\n",
    "\n",
    "if nome and categoria and qtd_estoque:\n",
    "    if categoria == \"Alimento\":\n",
    "        if int(qtd_estoque) < estoque_alimentos:\n",
    "            print(\"Solicitar {} à equipe de compras, temos apenas {} unidades em estoque.\".format(nome, int(qtd_estoque)))\n",
    "    elif categoria == \"Bebida\":\n",
    "        if int(qtd_estoque) < estoque_bebidas:\n",
    "            print(\"Solicitar {} à equipe de compras, temos apenas {} unidades em estoque.\".format(nome, int(qtd_estoque)))\n",
    "    elif categoria == \"Limpeza\":\n",
    "        if int(qtd_estoque) < estoque_limpeza:\n",
    "            print(\"Solicitar {} à equipe de compras, temos apenas {} unidades em estoque.\".format(nome, int(qtd_estoque)))\n",
    "else:\n",
    "    print(\"Preencha os campos corretamente\")"
   ]
  }
 ],
 "metadata": {
  "kernelspec": {
   "display_name": "Python 3 (ipykernel)",
   "language": "python",
   "name": "python3"
  },
  "language_info": {
   "codemirror_mode": {
    "name": "ipython",
    "version": 3
   },
   "file_extension": ".py",
   "mimetype": "text/x-python",
   "name": "python",
   "nbconvert_exporter": "python",
   "pygments_lexer": "ipython3",
   "version": "3.9.7"
  }
 },
 "nbformat": 4,
 "nbformat_minor": 4
}

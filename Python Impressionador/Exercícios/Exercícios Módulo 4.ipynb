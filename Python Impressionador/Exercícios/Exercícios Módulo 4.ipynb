{
 "cells": [
  {
   "cell_type": "markdown",
   "metadata": {},
   "source": [
    "# Exercícios\n",
    "\n",
    "## 1. Cadastro de CPF\n",
    "\n",
    "Crie um programa para cadastro de CPF de clientes que recebe o CPF em um input box apenas com números.\n",
    "\n",
    "Ex: 'Insira seu CPF (digite apenas números)'\n",
    "\n",
    "Caso o usuário digite algo diferente de números ou digite menos de 11 caracteres (tamanho do CPF brasileiro), o programa deve exibir uma mensagem de \"Digite seu CPF corretamente e digite apenas números\""
   ]
  },
  {
   "cell_type": "code",
   "execution_count": 10,
   "metadata": {},
   "outputs": [
    {
     "name": "stdout",
     "output_type": "stream",
     "text": [
      "Digite o CPF (apenas números): 45612378952\n",
      "O seu CPF é:  45612378952\n"
     ]
    }
   ],
   "source": [
    "CPF = input(\"Digite o CPF (apenas números): \")\n",
    "\n",
    "if len(CPF) < 11: \n",
    "    print(\"Digite o CPF corretamente\")\n",
    "elif CPF.isnumeric() == False:\n",
    "    print(\"Digite apenas números\")\n",
    "else:\n",
    "    print(\"O seu CPF é: \", CPF)\n",
    "    \n",
    "#Outro modo de resolver\n",
    "# if len(CPF) == 11 and CPF.isnumeric():\n",
    "#     print(CPF)\n",
    "# else:\n",
    "#     print(\"Digite seu CPF corretamente e digite apenas números\")"
   ]
  },
  {
   "cell_type": "markdown",
   "metadata": {},
   "source": [
    "## 2. Melhorando nosso Cadastro de CPF\n",
    "\n",
    "Agora, além das validações anteriores, vamos criar um input que permita que o usuário insira pontos, traços e inclusive espaços vazios.\n",
    "\n",
    "Nosso programa deve \"tratar\" o que o usuário inserir para padronizar o CPF dele em apenas números.\n",
    "\n",
    "A verificação de tamanho do CPF com 11 caracteres continua válida, mas ela só deve ser feita depois de retirar todos os pontos, traços e espaços do CPF que o cliente inserir e, uma vez retirados pontos, traços e espaços, devem sobrar apenas números no CPF. Qualquer outro caractere deve ser considerado inválido.\n",
    "\n",
    "No final, nosso programa deve exibir uma mensagem para o usuário, caso ele tenha inserido o CPF inválido ou então apenas deve printar o CPF correto já só com número."
   ]
  },
  {
   "cell_type": "code",
   "execution_count": 23,
   "metadata": {},
   "outputs": [
    {
     "name": "stdout",
     "output_type": "stream",
     "text": [
      "Digite o CPF:  123.456.789-10 \n",
      "O seu CPF é:  12345678910\n"
     ]
    }
   ],
   "source": [
    "CPF = input(\"Digite o CPF: \")\n",
    "\n",
    "#Tratando o CPF\n",
    "CPF = CPF.strip()\n",
    "CPF = CPF.replace('.', '')\n",
    "CPF = CPF.replace('-', '')\n",
    "\n",
    "if len(CPF) < 11: \n",
    "    print(\"Digite o CPF corretamente\")\n",
    "elif CPF.isnumeric() == False:\n",
    "    print(\"Digite apenas números\")\n",
    "else:\n",
    "    print(\"O seu CPF é: \", CPF)"
   ]
  },
  {
   "cell_type": "markdown",
   "metadata": {},
   "source": [
    "## 3. Cadastro de e-mails\n",
    "\n",
    "- A empresa sempre se comunica com seus clientes por e-mail. Para isso, a gente tem em cada página um cadastro de nome e e-mail. Nesse cadastro, nosso sistema verifica se o e-mail que a pessoa inseriu é um e-mail válido, verificando se ele tem '@' e se depois do '@' tem algum ponto, afinal:\n",
    "\n",
    "- pessoagmail.com NÃO é um e-mail válido\n",
    "- pessoa@gmail NÃO é um e-mail válido\n",
    "- pessoa@gmail.com é um e-mail válido\n",
    "\n",
    "Crie um programa que permita o cadastro de nome e e-mail de uma pessoa (por meio de inputs) e que verifique:\n",
    "1. Se nome e e-mail foram preenchidos, caso contrário ele deve avisar para preencher todos os dados corretamente\n",
    "2. Se o e-mail contém '@' e se depois do '@' existe algum '.', caso contrário ele deve exibir uma mensagem de e-mail inválido\n",
    "\n",
    "Obs: Pode te ajudar lembrar do método .find da aula de Métodos de String. Você pode testar o que ele dá como resposta caso ele não encontre um item dentro da string"
   ]
  },
  {
   "cell_type": "code",
   "execution_count": 28,
   "metadata": {},
   "outputs": [
    {
     "name": "stdout",
     "output_type": "stream",
     "text": [
      "Digite seu nome: Gio\n",
      "Digite seu email: gio@gmail.com\n",
      "Cadastro construído\n"
     ]
    }
   ],
   "source": [
    "nome = input(\"Digite seu nome: \")\n",
    "\n",
    "email = input(\"Digite seu email: \")\n",
    "\n",
    "if nome and email:\n",
    "    pos_arroba = email.find('@')\n",
    "    servidor = email[pos_arroba:]\n",
    "    if pos_arroba != -1 and '.' in servidor:\n",
    "        print(\"Cadastro construído\")\n",
    "    else:\n",
    "        print(\"Preencha o email corretamente\")\n",
    "else:\n",
    "    print(\"Preencha os campos corretamente\")"
   ]
  }
 ],
 "metadata": {
  "kernelspec": {
   "display_name": "Python 3 (ipykernel)",
   "language": "python",
   "name": "python3"
  },
  "language_info": {
   "codemirror_mode": {
    "name": "ipython",
    "version": 3
   },
   "file_extension": ".py",
   "mimetype": "text/x-python",
   "name": "python",
   "nbconvert_exporter": "python",
   "pygments_lexer": "ipython3",
   "version": "3.9.7"
  }
 },
 "nbformat": 4,
 "nbformat_minor": 4
}

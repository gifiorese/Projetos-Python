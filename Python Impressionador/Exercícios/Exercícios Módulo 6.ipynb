{
 "cells": [
  {
   "cell_type": "markdown",
   "metadata": {},
   "source": [
    "# Exercícios\n",
    "\n",
    "## 1. Criando um Registro de Hóspedes\n",
    "\n",
    "Digamos que você está criando o sistema para registrar a chegada de hóspedes em um hotel. No hotel, os hóspedes podem ter quartos com 1, 2, 3 e 4 pessoas. Seu sistema deve conseguir:\n",
    "\n",
    "1. Identificar quantas pessoas o hóspede que acabou de chegar vai ter no quarto (perguntando por meio de input)\n",
    "2. De acordo com a quantidade de pessoas do hóspede, ele deve fazer um for para perguntar o cpf e o nome de cada pessoa, a fim de registrá-la no quarto (2 inputs para cada pessoa, 1 para o cpf e outro para o nome)\n",
    "3. O seu programa então deve gerar uma lista com todas as pessoas que ficarão no quarto em que cada item dessa lista é o nome da pessoa e o cpf da pessoa, assim:"
   ]
  },
  {
   "cell_type": "raw",
   "metadata": {},
   "source": [
    "quarto = [\n",
    "    ['João', 'cpf:00000000000'],\n",
    "    ['Julia', 'cpf:11111111111'],\n",
    "    ['Marcus', 'cpf:22222222222'],\n",
    "    ['Maria', 'cpf:33333333333'],\n",
    "]"
   ]
  },
  {
   "cell_type": "markdown",
   "metadata": {},
   "source": [
    "- Para simplificar, não vamos nos preocupar com possibilidades de \"tentar colocar mais de 1 hóspede, digitar o cpf errado, etc. Nosso objetivo é treinar a criação de uma rotina de cadastro"
   ]
  },
  {
   "cell_type": "code",
   "execution_count": 9,
   "metadata": {},
   "outputs": [
    {
     "name": "stdout",
     "output_type": "stream",
     "text": [
      "Digite quantas pessoas tem no quarto: 2\n",
      "Digite o nome da pessoa: Gio\n",
      "Digite o cpf da pessoa: 12345678910\n",
      "Digite o nome da pessoa: Jane\n",
      "Digite o cpf da pessoa: 23456789101\n",
      "[['Gio', '12345678910'], ['Jane', '23456789101']]\n"
     ]
    }
   ],
   "source": [
    "qtd_pessoas = int(input(\"Digite quantas pessoas tem no quarto: \"))\n",
    "\n",
    "quarto = []\n",
    "\n",
    "for i in range(qtd_pessoas):\n",
    "        nome = input(\"Digite o nome da pessoa: \")\n",
    "        cpf = input(\"Digite o cpf da pessoa: \")\n",
    "        hospede = [nome, cpf]\n",
    "        quarto.append(hospede)\n",
    "        \n",
    "print(quarto)"
   ]
  },
  {
   "cell_type": "markdown",
   "metadata": {},
   "source": [
    "## 2. Análise de Vendas\n",
    "\n",
    "Nesse exercício vamos fazer uma \"análise simples\" de atingimento de Meta.\n",
    "\n",
    "Temos uma lista com os vendedores e os valores de vendas e queremos identificar (printar) quais os vendedores que bateram a meta e qual foi o valor que eles venderam."
   ]
  },
  {
   "cell_type": "code",
   "execution_count": 13,
   "metadata": {},
   "outputs": [
    {
     "name": "stdout",
     "output_type": "stream",
     "text": [
      "João vendeu 15000 unidades e bateu a meta!\n",
      "Julia vendeu 27000 unidades e bateu a meta!\n",
      "Ana vendeu 10300 unidades e bateu a meta!\n"
     ]
    }
   ],
   "source": [
    "meta = 10000\n",
    "vendas = [\n",
    "    ['João', 15000],\n",
    "    ['Julia', 27000],\n",
    "    ['Marcus', 9900],\n",
    "    ['Maria', 3750],\n",
    "    ['Ana', 10300],\n",
    "    ['Alon', 7870],\n",
    "]\n",
    "\n",
    "for venda in vendas:\n",
    "    if venda[1] >= meta:\n",
    "        print(\"{} vendeu {} unidades e bateu a meta!\"\\\n",
    "              .format(venda[0], venda[1]))"
   ]
  },
  {
   "cell_type": "markdown",
   "metadata": {},
   "source": [
    "## 3. Comparação com Ano Anterior\n",
    "\n",
    "Digamos que você está analisando as vendas de produtos de um ecommerce e quer identificar quais produtos tiveram no ano de 2020 mais vendas do que no ano de 2019, para reportar isso para a diretoria.\n",
    "\n",
    "Sua resposta pode ser um print de cada produto, qual foi a venda de 2019, a venda de 2020 e o % de crescimento de 2020 para 2019.\n",
    "\n",
    "Lembrando, para calcular o % de crescimento de um produto de um ano para o outro, podemos fazer: (vendas_produto2020/vendas_produto2019 - 1)\n",
    "\n",
    "Dica: lembre do enumerate, ele pode facilitar seu \"for\""
   ]
  },
  {
   "cell_type": "code",
   "execution_count": 17,
   "metadata": {},
   "outputs": [
    {
     "name": "stdout",
     "output_type": "stream",
     "text": [
      "iphone vendeu R$558147 em 2019 e R$951642 em 2020. O crescimento foi de 70.5%\n",
      "tv vendeu R$405252 em 2019 e R$787604 em 2020. O crescimento foi de 94.3%\n",
      "máquina de café vendeu R$718654 em 2019 e R$867660 em 2020. O crescimento foi de 20.7%\n",
      "notebook dell vendeu R$422760 em 2019 e R$694913 em 2020. O crescimento foi de 64.4%\n",
      "notebook hp vendeu R$154753 em 2019 e R$539704 em 2020. O crescimento foi de 248.8%\n",
      "microsoft surface vendeu R$438508 em 2019 e R$667179 em 2020. O crescimento foi de 52.1%\n",
      "webcam vendeu R$237467 em 2019 e R$295633 em 2020. O crescimento foi de 24.5%\n",
      "caixa de som vendeu R$489705 em 2019 e R$725316 em 2020. O crescimento foi de 48.1%\n",
      "microfone vendeu R$328311 em 2019 e R$644622 em 2020. O crescimento foi de 96.3%\n",
      "câmera canon vendeu R$591120 em 2019 e R$994303 em 2020. O crescimento foi de 68.2%\n"
     ]
    }
   ],
   "source": [
    "produtos = ['iphone', 'galaxy', 'ipad', 'tv', 'máquina de café', 'kindle',\\\n",
    "            'geladeira', 'adega', 'notebook dell', 'notebook hp',\\\n",
    "            'notebook asus', 'microsoft surface', 'webcam', 'caixa de som',\\\n",
    "            'microfone', 'câmera canon']\n",
    "\n",
    "vendas2019 = [558147,712350,573823,405252,718654,531580,973139,892292,\\\n",
    "              422760,154753,887061,438508,237467,489705,328311,591120]\n",
    "\n",
    "vendas2020 = [951642,244295,26964,787604,867660,78830,710331,646016,\\\n",
    "              694913,539704,324831,667179,295633,725316,644622,994303]\n",
    "\n",
    "for i, produto in enumerate(produtos):\n",
    "    if vendas2020[i] > vendas2019[i]:\n",
    "        porcentagem = (vendas2020[i] / vendas2019[i]) - 1\n",
    "        print(\"{} vendeu R${} em 2019 e R${} em 2020. O crescimento foi de {:.1%}\"\\\n",
    "             .format(produto, vendas2019[i], vendas2020[i], porcentagem))\n",
    "    "
   ]
  },
  {
   "cell_type": "markdown",
   "metadata": {},
   "source": [
    "## 4. Calculando % de uma lista\n",
    "\n",
    "Faremos algo parecido com \"filtrar\" uma lista. Mais pra frente no curso aprenderemos outras formas de fazer isso, mas com o nosso conhecimentos atual já conseguimos resolver o desafio.\n",
    "\n",
    "Digamos que a gente tenha uma lista de vendedores e ao invés de saber todos os vendedores que bateram a meta, eu quero conseguir calcular o % de vendedores que bateram a meta. Ou seja, se temos 10 vendedores e 3 bateram a meta, temos 30% dos vendedores que bateram a meta."
   ]
  },
  {
   "cell_type": "code",
   "execution_count": 25,
   "metadata": {},
   "outputs": [],
   "source": [
    "meta = 10000\n",
    "vendas = [\n",
    "    ['João', 15000],\n",
    "    ['Julia', 27000],\n",
    "    ['Marcus', 9900],\n",
    "    ['Maria', 3750],\n",
    "    ['Ana', 10300],\n",
    "    ['Alon', 7870],\n",
    "]"
   ]
  },
  {
   "cell_type": "markdown",
   "metadata": {},
   "source": [
    "### Resolvendo com lista auxiliar"
   ]
  },
  {
   "cell_type": "code",
   "execution_count": 21,
   "metadata": {},
   "outputs": [
    {
     "name": "stdout",
     "output_type": "stream",
     "text": [
      "50.0% dos vendedoress bateram a meta\n"
     ]
    }
   ],
   "source": [
    "acima_meta = []\n",
    "\n",
    "for venda in vendas:\n",
    "    if venda[1] >= meta:\n",
    "        acima_meta.append(venda)\n",
    "\n",
    "porcentagem = len(acima_meta) / len(vendas)\n",
    "\n",
    "print(\"{:.1%} dos vendedoress bateram a meta\".format(porcentagem))"
   ]
  },
  {
   "cell_type": "markdown",
   "metadata": {},
   "source": [
    "### Resolvendo diretamente na lista"
   ]
  },
  {
   "cell_type": "code",
   "execution_count": 22,
   "metadata": {},
   "outputs": [
    {
     "name": "stdout",
     "output_type": "stream",
     "text": [
      "50.0% dos vendedoress bateram a meta\n"
     ]
    }
   ],
   "source": [
    "qtd_vendedores = 0\n",
    "\n",
    "for venda in vendas:\n",
    "    if venda[1] >= meta:\n",
    "        qtd_vendedores += 1\n",
    "\n",
    "porcentagem = qtd_vendedores / len(vendas)\n",
    "\n",
    "print(\"{:.1%} dos vendedoress bateram a meta\".format(porcentagem))"
   ]
  },
  {
   "cell_type": "markdown",
   "metadata": {},
   "source": [
    "## 5. Para treinar uma estrutura parecida, crie um código para responder: quem foi o vendedor que mais vendeu?"
   ]
  },
  {
   "cell_type": "code",
   "execution_count": 30,
   "metadata": {},
   "outputs": [
    {
     "name": "stdout",
     "output_type": "stream",
     "text": [
      "O melhor vendedor foi Julia com 27000 vendas\n"
     ]
    }
   ],
   "source": [
    "melhor_vendedor = ''\n",
    "\n",
    "maior_vendas = 0\n",
    "\n",
    "for venda in vendas:\n",
    "    if venda[1] >= maior_vendas:\n",
    "        maior_vendas = venda[1]\n",
    "        melhor_vendedor = venda[0]\n",
    "\n",
    "print(\"O melhor vendedor foi {} com {} vendas\"\\\n",
    "      .format(melhor_vendedor, maior_vendas))"
   ]
  }
 ],
 "metadata": {
  "kernelspec": {
   "display_name": "Python 3 (ipykernel)",
   "language": "python",
   "name": "python3"
  },
  "language_info": {
   "codemirror_mode": {
    "name": "ipython",
    "version": 3
   },
   "file_extension": ".py",
   "mimetype": "text/x-python",
   "name": "python",
   "nbconvert_exporter": "python",
   "pygments_lexer": "ipython3",
   "version": "3.9.7"
  }
 },
 "nbformat": 4,
 "nbformat_minor": 4
}

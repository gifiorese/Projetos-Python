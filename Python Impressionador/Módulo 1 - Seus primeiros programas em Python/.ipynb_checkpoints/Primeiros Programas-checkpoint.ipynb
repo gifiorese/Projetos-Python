{
 "cells": [
  {
   "cell_type": "markdown",
   "id": "6b2c55e5",
   "metadata": {},
   "source": [
    "#  Criando seus primeiros programas em Python"
   ]
  },
  {
   "cell_type": "markdown",
   "id": "5a24d487",
   "metadata": {},
   "source": [
    "## PRINT"
   ]
  },
  {
   "cell_type": "code",
   "execution_count": 2,
   "id": "13fdea18",
   "metadata": {},
   "outputs": [
    {
     "name": "stdout",
     "output_type": "stream",
     "text": [
      "23\n",
      " \n",
      "Meu primeiro programa!\n",
      " \n",
      "Olha, mais uma linha!\n"
     ]
    }
   ],
   "source": [
    "print(23)\n",
    "\n",
    "print(\" \") #Apenas para pular uma linha\n",
    "\n",
    "print(\"Meu primeiro programa!\")\n",
    "\n",
    "print(\" \")\n",
    "\n",
    "print('Olha, mais uma linha!')"
   ]
  },
  {
   "cell_type": "markdown",
   "id": "7ed25ee8",
   "metadata": {},
   "source": [
    "## Operações básicas"
   ]
  },
  {
   "cell_type": "code",
   "execution_count": 5,
   "id": "1cb9aa6d",
   "metadata": {},
   "outputs": [
    {
     "name": "stdout",
     "output_type": "stream",
     "text": [
      "2\n",
      " \n",
      "1+1\n",
      " \n",
      "1\n",
      " \n",
      "4\n",
      " \n",
      "4\n",
      " \n",
      "0.6666666666666666\n"
     ]
    }
   ],
   "source": [
    "print(1+1) #Soma \n",
    "\n",
    "print(\" \")\n",
    "\n",
    "print(\"1+1\") #Texto\n",
    "\n",
    "print(\" \")\n",
    "\n",
    "print(3-2) #Subtração\n",
    "\n",
    "print(\" \")\n",
    "\n",
    "print(2*2) #Multiplicação\n",
    "\n",
    "print(\" \")\n",
    "\n",
    "print(2**2) #Potência\n",
    "\n",
    "print(\" \")\n",
    "\n",
    "print(2/3) #Divisão"
   ]
  },
  {
   "cell_type": "code",
   "execution_count": 8,
   "id": "fb481d47",
   "metadata": {},
   "outputs": [
    {
     "name": "stdout",
     "output_type": "stream",
     "text": [
      "11.0\n"
     ]
    }
   ],
   "source": [
    "print(2.2 * 5)"
   ]
  },
  {
   "cell_type": "code",
   "execution_count": 10,
   "id": "e06188e2",
   "metadata": {
    "scrolled": true
   },
   "outputs": [
    {
     "name": "stdout",
     "output_type": "stream",
     "text": [
      "1\n",
      " \n",
      "0\n"
     ]
    }
   ],
   "source": [
    "print(7%3)\n",
    "\n",
    "print(\" \")\n",
    "\n",
    "print(4%2)"
   ]
  },
  {
   "cell_type": "code",
   "execution_count": 13,
   "id": "ab1df8bc",
   "metadata": {},
   "outputs": [
    {
     "name": "stdout",
     "output_type": "stream",
     "text": [
      "5\n",
      " \n",
      "6\n"
     ]
    }
   ],
   "source": [
    "print(1 + 2 * 2)\n",
    "\n",
    "print(\" \")\n",
    "\n",
    "print( (1 + 2) * 2)"
   ]
  },
  {
   "cell_type": "markdown",
   "id": "8458568c",
   "metadata": {},
   "source": [
    "## Operações com texto - STRINGS"
   ]
  },
  {
   "cell_type": "markdown",
   "id": "d1e1c2dd",
   "metadata": {},
   "source": [
    "### Concatenar"
   ]
  },
  {
   "cell_type": "code",
   "execution_count": 16,
   "id": "ec88d86f",
   "metadata": {},
   "outputs": [
    {
     "name": "stdout",
     "output_type": "stream",
     "text": [
      "Texto 1Texto 2\n",
      " \n",
      "Texto 1 Texto 2\n"
     ]
    }
   ],
   "source": [
    "print(\"Texto 1\" + \"Texto 2\")\n",
    "\n",
    "print(\" \")\n",
    "\n",
    "print(\"Texto 1\" + \" \" + \"Texto 2\")"
   ]
  },
  {
   "cell_type": "markdown",
   "id": "7a4d9ea0",
   "metadata": {},
   "source": [
    "### IN"
   ]
  },
  {
   "cell_type": "code",
   "execution_count": 17,
   "id": "f6b44aad",
   "metadata": {},
   "outputs": [
    {
     "name": "stdout",
     "output_type": "stream",
     "text": [
      "False\n"
     ]
    }
   ],
   "source": [
    "print(\"Texto 1\" in \"Texto 2\")"
   ]
  },
  {
   "cell_type": "markdown",
   "id": "64c2f37f",
   "metadata": {},
   "source": [
    "## Variáveis"
   ]
  },
  {
   "cell_type": "code",
   "execution_count": 3,
   "id": "62d0c4d9",
   "metadata": {},
   "outputs": [
    {
     "name": "stdout",
     "output_type": "stream",
     "text": [
      "1500\n",
      " \n",
      "R2 D2\n"
     ]
    }
   ],
   "source": [
    "qtd_vendas = 1500\n",
    "\n",
    "nome = \"R2 D2\"\n",
    "\n",
    "print(qtd_vendas)\n",
    "\n",
    "print(\" \")\n",
    "\n",
    "print(nome)"
   ]
  },
  {
   "cell_type": "markdown",
   "id": "7e4d2395",
   "metadata": {},
   "source": [
    "### Erro comum - Execução de células"
   ]
  },
  {
   "cell_type": "code",
   "execution_count": 5,
   "id": "57fb8ac3",
   "metadata": {},
   "outputs": [],
   "source": [
    "faturamento = 150\n",
    "\n",
    "custo = 60"
   ]
  },
  {
   "cell_type": "code",
   "execution_count": 6,
   "id": "0bc49463",
   "metadata": {},
   "outputs": [
    {
     "name": "stdout",
     "output_type": "stream",
     "text": [
      "90\n"
     ]
    }
   ],
   "source": [
    "lucro = faturamento - custo\n",
    "\n",
    "print(lucro)"
   ]
  },
  {
   "cell_type": "markdown",
   "id": "9ec5ce4e",
   "metadata": {},
   "source": [
    "## INPUT"
   ]
  },
  {
   "cell_type": "code",
   "execution_count": 9,
   "id": "b2f40bab",
   "metadata": {},
   "outputs": [
    {
     "name": "stdout",
     "output_type": "stream",
     "text": [
      "Qual o seu nome? Arnaldo\n",
      "Arnaldo\n"
     ]
    }
   ],
   "source": [
    "# input(\"Qual o seu nome? \")\n",
    "\n",
    "nome = input(\"Qual o seu nome? \")\n",
    "\n",
    "print(nome)"
   ]
  },
  {
   "cell_type": "code",
   "execution_count": 10,
   "id": "f110d89e",
   "metadata": {},
   "outputs": [
    {
     "name": "stdout",
     "output_type": "stream",
     "text": [
      "Qual o seu nome? Arnaldo\n",
      "Qual o seu sobrenome? Jr.\n",
      "Arnaldo Jr.\n"
     ]
    }
   ],
   "source": [
    "nome = input(\"Qual o seu nome? \")\n",
    "\n",
    "sobrenome = input(\"Qual o seu sobrenome? \")\n",
    "\n",
    "print(nome + \" \" + sobrenome)"
   ]
  }
 ],
 "metadata": {
  "kernelspec": {
   "display_name": "Python 3 (ipykernel)",
   "language": "python",
   "name": "python3"
  },
  "language_info": {
   "codemirror_mode": {
    "name": "ipython",
    "version": 3
   },
   "file_extension": ".py",
   "mimetype": "text/x-python",
   "name": "python",
   "nbconvert_exporter": "python",
   "pygments_lexer": "ipython3",
   "version": "3.9.7"
  }
 },
 "nbformat": 4,
 "nbformat_minor": 5
}

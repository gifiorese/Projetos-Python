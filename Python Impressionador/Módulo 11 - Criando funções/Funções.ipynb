{
 "cells": [
  {
   "cell_type": "markdown",
   "id": "9bdde00d",
   "metadata": {},
   "source": [
    "# Módulo 11 - Funções"
   ]
  },
  {
   "cell_type": "markdown",
   "id": "511bcae0",
   "metadata": {},
   "source": [
    "- Exemplo: vamos criar uma função de cadastro de um Produto. Essa função deve garantir que o produto cadastrado está em letra minúscula."
   ]
  },
  {
   "cell_type": "code",
   "execution_count": 1,
   "id": "c30de517",
   "metadata": {},
   "outputs": [],
   "source": [
    "def cadastrar_produto():\n",
    "    produto = input('Digite o nome do produto: ')\n",
    "    produto = produto.casefold() #letras minúsculas\n",
    "    print('Produto {} cadastrado com sucesso'.format(produto))"
   ]
  },
  {
   "cell_type": "code",
   "execution_count": 3,
   "id": "a56955da",
   "metadata": {},
   "outputs": [
    {
     "name": "stdout",
     "output_type": "stream",
     "text": [
      "Digite o nome do produto: Feijão\n",
      "Produto feijão cadastrado com sucesso\n",
      "Digite o nome do produto: Macarrão\n",
      "Produto macarrão cadastrado com sucesso\n",
      "Digite o nome do produto: Arroz\n",
      "Produto arroz cadastrado com sucesso\n"
     ]
    }
   ],
   "source": [
    "for i in range(3):\n",
    "    cadastrar_produto()"
   ]
  },
  {
   "cell_type": "markdown",
   "id": "ac261fea",
   "metadata": {},
   "source": [
    "                                     -//-"
   ]
  },
  {
   "cell_type": "markdown",
   "id": "ff8a5637",
   "metadata": {},
   "source": [
    "## Retornar um valor"
   ]
  },
  {
   "cell_type": "markdown",
   "id": "c69fbed3",
   "metadata": {},
   "source": [
    "- Exemplo: vamos criar uma função de cadastro de um Produto. Essa função deve garantir que o produto cadastrado está em letra minúscula."
   ]
  },
  {
   "cell_type": "code",
   "execution_count": 10,
   "id": "e67760aa",
   "metadata": {},
   "outputs": [],
   "source": [
    "def cadastrar_produto():\n",
    "    produto = input('Digite o nome do produto que deseja cadastrar: ')\n",
    "    produto = produto.casefold() #Letra minúscula\n",
    "    produto = produto.strip() #Remove espaços\n",
    "    return produto"
   ]
  },
  {
   "cell_type": "code",
   "execution_count": 11,
   "id": "8f54dae3",
   "metadata": {},
   "outputs": [
    {
     "name": "stdout",
     "output_type": "stream",
     "text": [
      "Digite o nome do produto que deseja cadastrar: Arroz\n",
      "arroz\n"
     ]
    }
   ],
   "source": [
    "variavel_produto = cadastrar_produto()\n",
    "\n",
    "print(variavel_produto)"
   ]
  },
  {
   "cell_type": "markdown",
   "id": "0a72e11f",
   "metadata": {},
   "source": [
    "                                     -//-"
   ]
  },
  {
   "cell_type": "markdown",
   "id": "8d7bbd63",
   "metadata": {},
   "source": [
    "## Argumentos/Parâmetros"
   ]
  },
  {
   "cell_type": "markdown",
   "id": "cfee122f",
   "metadata": {},
   "source": [
    "- Exemplo: nosso famoso print (argumento)"
   ]
  },
  {
   "cell_type": "code",
   "execution_count": 13,
   "id": "9124fdbb",
   "metadata": {},
   "outputs": [
    {
     "name": "stdout",
     "output_type": "stream",
     "text": [
      "texto texto 2\n"
     ]
    }
   ],
   "source": [
    "print('texto', 'texto 2')"
   ]
  },
  {
   "cell_type": "markdown",
   "id": "a5ac1b41",
   "metadata": {},
   "source": [
    "- Só para mostrar o funcionamento, vamos criar uma função de soma"
   ]
  },
  {
   "cell_type": "code",
   "execution_count": 14,
   "id": "555f3a68",
   "metadata": {},
   "outputs": [
    {
     "name": "stdout",
     "output_type": "stream",
     "text": [
      "60\n"
     ]
    }
   ],
   "source": [
    "def minha_soma(num1, num2, num3):\n",
    "    return num1 + num2 + num3\n",
    "\n",
    "soma = minha_soma(10, 20, 30)\n",
    "\n",
    "print(soma)"
   ]
  },
  {
   "cell_type": "markdown",
   "id": "434a590f",
   "metadata": {},
   "source": [
    "- Vamos criar uma function com parâmetro\n",
    "\n",
    "Digamos que estamos criando um programa para categorizar os produtos de uma revendedora de bebidas.\n",
    "\n",
    "Cada produto tem um código. O tipo de produto é dado pelas 3 primeiras letras do código.\n",
    "\n",
    "Ex:<br>\n",
    "Vinho -> BEB12302<br>\n",
    "Cerveja -> BEB12043<br>\n",
    "Vodka -> BEB34501<br>\n",
    "\n",
    "Guaraná -> BSA11104<br>\n",
    "Coca -> BSA54301<br>\n",
    "Sprite -> BSA34012<br>\n",
    "Água -> BSA09871<br>\n",
    "\n",
    "Repare que bebidas não alcóolicas começam com BSA e bebidas alcoolicas começam com BEB.\n",
    "\n",
    "Crie um programa que analise uma lista de produtos e envie instruções para a equipe de estoque dizendo quais produtos devem ser enviados para a área de bebidas alcóolicas."
   ]
  },
  {
   "cell_type": "code",
   "execution_count": 2,
   "id": "96cf0dc3",
   "metadata": {},
   "outputs": [
    {
     "name": "stdout",
     "output_type": "stream",
     "text": [
      "Enviar BEB46275 para o setor de bebidas alcoólicas\n",
      "Enviar BEB21365 para o setor de bebidas alcoólicas\n",
      "Enviar BEB31623 para o setor de bebidas alcoólicas\n",
      "Enviar BEB73344 para o setor de bebidas alcoólicas\n",
      "Enviar BEB80694 para o setor de bebidas alcoólicas\n",
      "Enviar BEB19495 para o setor de bebidas alcoólicas\n",
      "Enviar BEB97471 para o setor de bebidas alcoólicas\n",
      "Enviar BEB62362 para o setor de bebidas alcoólicas\n",
      "Enviar BEB85146 para o setor de bebidas alcoólicas\n",
      "Enviar BEB48898 para o setor de bebidas alcoólicas\n",
      "Enviar BEB79496 para o setor de bebidas alcoólicas\n",
      "Enviar BEB15385 para o setor de bebidas alcoólicas\n",
      "Enviar BEB24213 para o setor de bebidas alcoólicas\n",
      "Enviar BEB56262 para o setor de bebidas alcoólicas\n",
      "Enviar BEB75073 para o setor de bebidas alcoólicas\n"
     ]
    }
   ],
   "source": [
    "def alcoolico(bebida):\n",
    "    bebida = bebida.upper()\n",
    "    if 'BEB' in bebida:\n",
    "        return True\n",
    "    else:\n",
    "        return False\n",
    "    \n",
    "\n",
    "produtos = ['beb46275','TFA23962','TFA64715',\\\n",
    "            'TFA69555','TFA56743','BSA45510','TFA44968','CAR75448',\\\n",
    "            'CAR23596','CAR13490','BEB21365','BEB31623','BSA62419',\\\n",
    "            'BEB73344','TFA20079','BEB80694','BSA11769','BEB19495',\\\n",
    "            'TFA14792','TFA78043','BSA33484','BEB97471','BEB62362',\\\n",
    "            'TFA27311','TFA17715','BEB85146','BEB48898','BEB79496',\\\n",
    "            'CAR38417','TFA19947','TFA58799','CAR94811','BSA59251',\\\n",
    "            'BEB15385','BEB24213','BEB56262','BSA96915','CAR53454',\\\n",
    "            'BEB75073']\n",
    "\n",
    "for produto in produtos:\n",
    "    if alcoolico(produto):\n",
    "        print('Enviar {} para o setor de bebidas alcoólicas'\\\n",
    "              .format(produto.upper()))"
   ]
  },
  {
   "cell_type": "markdown",
   "id": "1ab14450",
   "metadata": {},
   "source": [
    "                                     -//-"
   ]
  },
  {
   "cell_type": "markdown",
   "id": "93ba55c2",
   "metadata": {},
   "source": [
    "## Vários Parâmetros e Tipos de Parâmetros"
   ]
  },
  {
   "cell_type": "code",
   "execution_count": 3,
   "id": "1921f924",
   "metadata": {},
   "outputs": [
    {
     "name": "stdout",
     "output_type": "stream",
     "text": [
      "Enviar BEB46275 para o setor de bebidas alcoólicas\n",
      "Enviar BSA45510 para o setor de bebidas não alcoólicas\n",
      "Enviar BEB21365 para o setor de bebidas alcoólicas\n",
      "Enviar BEB31623 para o setor de bebidas alcoólicas\n",
      "Enviar BSA62419 para o setor de bebidas não alcoólicas\n",
      "Enviar BEB73344 para o setor de bebidas alcoólicas\n",
      "Enviar BEB80694 para o setor de bebidas alcoólicas\n",
      "Enviar BSA11769 para o setor de bebidas não alcoólicas\n",
      "Enviar BEB19495 para o setor de bebidas alcoólicas\n",
      "Enviar BSA33484 para o setor de bebidas não alcoólicas\n",
      "Enviar BEB97471 para o setor de bebidas alcoólicas\n",
      "Enviar BEB62362 para o setor de bebidas alcoólicas\n",
      "Enviar BEB85146 para o setor de bebidas alcoólicas\n",
      "Enviar BEB48898 para o setor de bebidas alcoólicas\n",
      "Enviar BEB79496 para o setor de bebidas alcoólicas\n",
      "Enviar BSA59251 para o setor de bebidas não alcoólicas\n",
      "Enviar BEB15385 para o setor de bebidas alcoólicas\n",
      "Enviar BEB24213 para o setor de bebidas alcoólicas\n",
      "Enviar BEB56262 para o setor de bebidas alcoólicas\n",
      "Enviar BSA96915 para o setor de bebidas não alcoólicas\n",
      "Enviar BEB75073 para o setor de bebidas alcoólicas\n"
     ]
    }
   ],
   "source": [
    "#Função\n",
    "def categoria(bebida, cod_categoria):\n",
    "    bebida = bebida.upper()\n",
    "    if cod_categoria in bebida:\n",
    "        return True\n",
    "    else:\n",
    "        return False\n",
    "    \n",
    "\n",
    "#Código\n",
    "produtos = ['beb46275','TFA23962','TFA64715',\\\n",
    "            'TFA69555','TFA56743','BSA45510','TFA44968','CAR75448',\\\n",
    "            'CAR23596','CAR13490','BEB21365','BEB31623','BSA62419',\\\n",
    "            'BEB73344','TFA20079','BEB80694','BSA11769','BEB19495',\\\n",
    "            'TFA14792','TFA78043','BSA33484','BEB97471','BEB62362',\\\n",
    "            'TFA27311','TFA17715','BEB85146','BEB48898','BEB79496',\\\n",
    "            'CAR38417','TFA19947','TFA58799','CAR94811','BSA59251',\\\n",
    "            'BEB15385','BEB24213','BEB56262','BSA96915','CAR53454',\\\n",
    "            'BEB75073']\n",
    "\n",
    "for produto in produtos:\n",
    "    if categoria(produto, 'BEB'):\n",
    "        print('Enviar {} para o setor de bebidas alcoólicas'\\\n",
    "              .format(produto.upper()))\n",
    "    elif categoria(produto, 'BSA'):\n",
    "        print('Enviar {} para o setor de bebidas não alcoólicas'\\\n",
    "              .format(produto.upper()))"
   ]
  },
  {
   "cell_type": "code",
   "execution_count": 4,
   "id": "544dc73f",
   "metadata": {},
   "outputs": [
    {
     "name": "stdout",
     "output_type": "stream",
     "text": [
      "Texto\n",
      "Texto\n",
      "Texto\n",
      "Texto\n"
     ]
    }
   ],
   "source": [
    "print('Texto', 'Texto', 'Texto', 'Texto', sep = '\\n')"
   ]
  },
  {
   "cell_type": "markdown",
   "id": "3f9bc619",
   "metadata": {},
   "source": [
    "                                     -//-"
   ]
  },
  {
   "cell_type": "markdown",
   "id": "79741375",
   "metadata": {},
   "source": [
    "## Dicas e Exemplos com Argumentos"
   ]
  },
  {
   "cell_type": "code",
   "execution_count": null,
   "id": "1cafb912",
   "metadata": {},
   "outputs": [],
   "source": [
    "def eh_da_categoria(bebida, cod_categoria):\n",
    "    bebida = bebida.upper()\n",
    "    if cod_categoria in bebida:\n",
    "        return True\n",
    "    else:\n",
    "        return False"
   ]
  },
  {
   "cell_type": "code",
   "execution_count": 1,
   "id": "f7f9e191",
   "metadata": {},
   "outputs": [
    {
     "name": "stdout",
     "output_type": "stream",
     "text": [
      "BEB12304\n"
     ]
    }
   ],
   "source": [
    "#texto para upper\n",
    "cod_produto = 'beb12304'\n",
    "\n",
    "print(cod_produto.upper())"
   ]
  },
  {
   "cell_type": "code",
   "execution_count": 4,
   "id": "fc1b1b60",
   "metadata": {},
   "outputs": [
    {
     "name": "stdout",
     "output_type": "stream",
     "text": [
      "Extend -->  [100, 200, 50, 90, 240, 300, 55, 10, 789, 60, 500, 1555]\n",
      " \n"
     ]
    }
   ],
   "source": [
    "# lista para sort e extend\n",
    "vendas_ano = [100, 200, 50, 90, 240, 300, 55, 10, 789, 60]\n",
    "vendas_novdez = [500, 1555]\n",
    "\n",
    "vendas_ano.extend(vendas_novdez)\n",
    "print(\"Extend --> \", vendas_ano)\n",
    "\n",
    "print(\" \")"
   ]
  },
  {
   "cell_type": "markdown",
   "id": "78e07867",
   "metadata": {},
   "source": [
    "                                     -//-"
   ]
  },
  {
   "cell_type": "markdown",
   "id": "67659d99",
   "metadata": {},
   "source": [
    "## Valores Padrões para Argumentos\n"
   ]
  },
  {
   "cell_type": "code",
   "execution_count": 8,
   "id": "ae9536d1",
   "metadata": {},
   "outputs": [
    {
     "name": "stdout",
     "output_type": "stream",
     "text": [
      "Crescente -->  ['airpods', 'apple tv', 'apple watch', 'iPad', 'iphone x', 'mac', 'mac book']\n",
      " \n",
      "Decrescente --> ['mac book', 'mac', 'iphone x', 'iPad', 'apple watch', 'apple tv', 'airpods']\n"
     ]
    }
   ],
   "source": [
    "produtos = ['apple tv', 'mac', 'iphone x', 'iPad', 'apple watch',\\\n",
    "            'mac book', 'airpods']\n",
    "\n",
    "produtos.sort()\n",
    "print(\"Crescente --> \", produtos)\n",
    "\n",
    "print(\" \")\n",
    "\n",
    "produtos.sort(reverse = True)\n",
    "print(\"Decrescente -->\", produtos)"
   ]
  },
  {
   "cell_type": "markdown",
   "id": "7d0a7084",
   "metadata": {},
   "source": [
    "- Vamos criar uma função que padronize códigos de produtos. O default será padronizar os códigos para letras minúsculas (dado por 'm'), mas se o usuário quiser pode padronizar para maiúscula, dado por ('M')."
   ]
  },
  {
   "cell_type": "code",
   "execution_count": 11,
   "id": "16c007c0",
   "metadata": {},
   "outputs": [
    {
     "name": "stdout",
     "output_type": "stream",
     "text": [
      "['abc12', 'abc34', 'abc37']\n"
     ]
    }
   ],
   "source": [
    "def padronizar_codigos(lista_codigos, padrao='m'):\n",
    "    for i, item in enumerate(lista_codigos):\n",
    "        item = item.replace('  ', ' ')\n",
    "        item = item.strip()\n",
    "        if padrao == 'm':\n",
    "            item = item.casefold()\n",
    "        elif padrao == 'M':\n",
    "            item = item.upper()\n",
    "        lista_codigos[i] = item\n",
    "    return lista_codigos\n",
    "\n",
    "\n",
    "cod_produtos = [' ABC12 ', 'abc34', 'AbC37']\n",
    "print(padronizar_codigos(cod_produtos, padrao = 'm'))"
   ]
  },
  {
   "cell_type": "markdown",
   "id": "caab400c",
   "metadata": {},
   "source": [
    "                                     -//-"
   ]
  },
  {
   "cell_type": "markdown",
   "id": "cd0d2c7d",
   "metadata": {},
   "source": [
    "## Mais sobre o RETURN\n"
   ]
  },
  {
   "cell_type": "code",
   "execution_count": 4,
   "id": "2f47e107",
   "metadata": {},
   "outputs": [],
   "source": [
    "#retornar um número\n",
    "def minha_soma(num1, num2, num3):\n",
    "    return num1 + num2 + num3\n",
    "\n",
    "#retornar um texto\n",
    "def padronizar_texto(texto):\n",
    "    texto = texto.casefold()\n",
    "    texto = texto.replace(\"  \", \" \")\n",
    "    texto = texto.strip()\n",
    "    return texto\n",
    "\n",
    "#retornar um boolean\n",
    "def bateu_meta(vendas, meta):\n",
    "    if vendas >= meta:\n",
    "        return True\n",
    "    else:\n",
    "        return False\n",
    "    \n",
    "#retornar uma lista, tupla ou dicionario\n",
    "def filtrar_lista_texto(lista, pedaco_texto):\n",
    "    lista_filtrada = []\n",
    "    for item in lista:\n",
    "        if pedaco_texto in item:\n",
    "            lista_filtrada.append(item)\n",
    "    return lista_filtrada"
   ]
  },
  {
   "cell_type": "code",
   "execution_count": 7,
   "id": "e25fc09c",
   "metadata": {},
   "outputs": [
    {
     "name": "stdout",
     "output_type": "stream",
     "text": [
      "['zezinho@hotmail.com']\n"
     ]
    }
   ],
   "source": [
    "lista_textos = ['gio@gmail.com', 'zezinho@hotmail.com',\\\n",
    "                'joao@gmail.com','julio@gmail.com']\n",
    "\n",
    "lista = filtrar_lista_texto(lista_textos, 'hotmail')\n",
    "\n",
    "print(lista)"
   ]
  },
  {
   "cell_type": "markdown",
   "id": "99eff0aa",
   "metadata": {},
   "source": [
    "                                     -//-"
   ]
  },
  {
   "cell_type": "markdown",
   "id": "45bf94ac",
   "metadata": {},
   "source": [
    "## RETURN com mais de um Objeto\n"
   ]
  },
  {
   "cell_type": "code",
   "execution_count": 8,
   "id": "09c11d96",
   "metadata": {},
   "outputs": [],
   "source": [
    "def operacoes_basicas(num1, num2):\n",
    "    soma = num1 + num2\n",
    "    diferenca = num1 - num2\n",
    "    mult = num1 * num2\n",
    "    divisao = num1 / num2\n",
    "    return soma, diferenca, mult, divisao"
   ]
  },
  {
   "cell_type": "code",
   "execution_count": 9,
   "id": "8fa2013c",
   "metadata": {},
   "outputs": [
    {
     "name": "stdout",
     "output_type": "stream",
     "text": [
      "(4, 0, 4, 1.0)\n"
     ]
    }
   ],
   "source": [
    "print(operacoes_basicas(2, 2))"
   ]
  },
  {
   "cell_type": "markdown",
   "id": "2ea8288d",
   "metadata": {},
   "source": [
    "### Desafio - RETURN com mais de um Objeto"
   ]
  },
  {
   "cell_type": "markdown",
   "id": "55ccf9d0",
   "metadata": {},
   "source": [
    "#### 10 itens"
   ]
  },
  {
   "cell_type": "code",
   "execution_count": 11,
   "id": "607c585c",
   "metadata": {},
   "outputs": [
    {
     "name": "stdout",
     "output_type": "stream",
     "text": [
      "Treino -->  [2.17, 1.54, 1.45, 1.94, 2.37, 2.3, 1.79, 1.8, 2.25]\n",
      "Teste -->  [1.37]\n"
     ]
    }
   ],
   "source": [
    "precos_imoveis = [2.17,1.54,1.45,1.94,2.37,2.3,1.79,1.8,2.25,1.37]\n",
    "\n",
    "tamanho_imoveis = [207,148,130,203,257,228,160,194,232,147]\n",
    "\n",
    "# Vamos definir qual o fator que vamos dividir as listas \n",
    "#(ou seja, quantos % da lista vai ficar pra teste. O resto fica pra treino)\n",
    "#Vamos usar 0.1 (10%)\n",
    "fator = 0.1\n",
    "\n",
    "#Isso significa que a lista de teste tem quantos itens?\n",
    "#Posição em que a lista tem que ser cortada\n",
    "i = int((1 - fator) * len(precos_imoveis))\n",
    "\n",
    "#Agora vamos entender qual conta temos que fazer para dividir a \n",
    "#lista em 2 listas. Uma com 90% dos valores e outra com 10%\n",
    "precos_treino = precos_imoveis[:i]\n",
    "precos_teste = precos_imoveis[i:]\n",
    "\n",
    "print('Treino --> ', precos_treino)\n",
    "print('Teste --> ', precos_teste)"
   ]
  },
  {
   "cell_type": "markdown",
   "id": "cbd91517",
   "metadata": {},
   "source": [
    "#### 100 itens"
   ]
  },
  {
   "cell_type": "code",
   "execution_count": 15,
   "id": "820826c6",
   "metadata": {},
   "outputs": [
    {
     "name": "stdout",
     "output_type": "stream",
     "text": [
      "precos_imoveis:  100\n",
      "tamanho_imoveis:  100\n",
      " \n",
      "Preços treino -->  [2.17, 1.54, 1.45, 1.94, 2.37, 2.3, 1.79, 1.8, 2.25, 1.37, 2.4, 1.72, 2, 1.69, 1.63, 2.01, 2.25, 1.61, 1.02, 1.19, 1.86, 2.15, 2.03, 1.61, 1.52, 1.56, 1.69, 1.47, 1.09, 2.47, 1.62, 2.15, 1.81, 2.49, 2.08, 1.02, 1.68, 1.53, 1.2, 1.29, 1.88, 1.92, 2.14, 1.95, 2.48, 2.44, 1.41, 1.98, 1.89, 1.69, 1.95, 1.42, 1.57, 2.32, 1.23, 1.43, 1.35, 1.49, 2.39, 2.37, 1.3, 2.25, 1.5, 1.35, 2.06, 1.05, 1.7, 2.29, 2.44, 2.09, 1.81, 2.04, 2.45, 1.42, 2.09, 2.19, 2.09, 1, 2.23, 1.39, 2, 1.29, 1.55, 1.67, 2.06, 1.89, 2.07, 2.39, 1.93, 1.51]\n",
      "Preços teste -->  [1.73, 1.66, 1.18, 1.13, 1.69, 2.48, 1.26, 1.75, 1.51, 1.73]\n",
      " \n",
      "Tamanhos treino -->  [207, 148, 130, 203, 257, 228, 160, 194, 232, 147, 222, 165, 184, 175, 147, 217, 214, 171, 86, 111, 180, 211, 210, 168, 156, 154, 179, 163, 99, 246, 162, 205, 195, 263, 198, 121, 149, 140, 122, 119, 197, 210, 218, 202, 258, 256, 135, 203, 173, 152, 197, 145, 154, 252, 141, 141, 151, 133, 232, 229, 134, 215, 155, 138, 186, 120, 152, 213, 256, 219, 200, 210, 238, 140, 224, 233, 222, 120, 233, 151, 185, 111, 149, 186, 194, 194, 222, 223, 185, 157]\n",
      "Tamanhos teste -->  [154, 164, 129, 128, 169, 240, 136, 191, 157, 154]\n"
     ]
    }
   ],
   "source": [
    "precos_imoveis=[2.17,1.54,1.45,1.94,2.37,2.3,1.79,1.8,2.25,1.37,2.4,1.72,2,1.69,1.63,2.01,2.25,1.61,1.02,1.19,1.86,2.15,2.03,1.61,1.52,1.56,1.69,1.47,1.09,2.47,1.62,2.15,1.81,2.49,2.08,1.02,1.68,1.53,1.2,1.29,1.88,1.92,2.14,1.95,2.48,2.44,1.41,1.98,1.89,1.69,1.95,1.42,1.57,2.32,1.23,1.43,1.35,1.49,2.39,2.37,1.3,2.25,1.5,1.35,2.06,1.05,1.7,2.29,2.44,2.09,1.81,2.04,2.45,1.42,2.09,2.19,2.09,1,2.23,1.39,2,1.29,1.55,1.67,2.06,1.89,2.07,2.39,1.93,1.51,1.73,1.66,1.18,1.13,1.69,2.48,1.26,1.75,1.51,1.73]\n",
    "\n",
    "tamanho_imoveis=[207,148,130,203,257,228,160,194,232,147,222,165,184,175,147,217,214,171,86,111,180,211,210,168,156,154,179,163,99,246,162,205,195,263,198,121,149,140,122,119,197,210,218,202,258,256,135,203,173,152,197,145,154,252,141,141,151,133,232,229,134,215,155,138,186,120,152,213,256,219,200,210,238,140,224,233,222,120,233,151,185,111,149,186,194,194,222,223,185,157,154,164,129,128,169,240,136,191,157,154]\n",
    "\n",
    "print('precos_imoveis: ', len(precos_imoveis))\n",
    "print('tamanho_imoveis: ', len(tamanho_imoveis))\n",
    "\n",
    "def separar_listas(precos, tamanhos, fator=0.1):\n",
    "    if len(precos) == len(tamanhos):\n",
    "        i = int((1 - fator) * len(precos))\n",
    "        \n",
    "        precos_imoveis_treino = precos[:i]\n",
    "        precos_imoveis_teste = precos[i:]\n",
    "        \n",
    "        tamanho_imoveis_treino = tamanhos[:i]\n",
    "        tamanho_imoveis_teste = tamanhos[i:]\n",
    "        \n",
    "        return precos_imoveis_treino, precos_imoveis_teste, tamanho_imoveis_treino, tamanho_imoveis_teste\n",
    "    \n",
    "    else:\n",
    "        print('As listas de preços e tamanhos dos imóveis não tem a mesma quantidade de itens')\n",
    "        \n",
    "        return\n",
    "\n",
    "#Separando as variáveis\n",
    "precos_treino, precos_teste, tamanhos_treino, tamanhos_teste = separar_listas(precos_imoveis, tamanho_imoveis)\n",
    "\n",
    "print(\" \")\n",
    "\n",
    "print('Preços treino --> ', precos_treino)\n",
    "print('Preços teste --> ', precos_teste)\n",
    "\n",
    "print(\" \")\n",
    "\n",
    "print('Tamanhos treino --> ', tamanhos_treino)\n",
    "print('Tamanhos teste --> ', tamanhos_teste)"
   ]
  },
  {
   "cell_type": "markdown",
   "id": "036e6f6c",
   "metadata": {},
   "source": [
    "                                     -//-"
   ]
  },
  {
   "cell_type": "markdown",
   "id": "805ff5f7",
   "metadata": {},
   "source": [
    "## Docstring e Annotations\n"
   ]
  },
  {
   "cell_type": "markdown",
   "id": "edcdda32",
   "metadata": {},
   "source": [
    "### Docstring"
   ]
  },
  {
   "cell_type": "code",
   "execution_count": null,
   "id": "208c3c8c",
   "metadata": {},
   "outputs": [],
   "source": [
    "def minha_soma(num1, num2, num3):\n",
    "    '''Faz a soma de 3 números inteiros e devolve como resposta um inteiro\n",
    "    \n",
    "    Parameters:\n",
    "        num1 (int): primeiro número a ser somado\n",
    "        num2 (int): segundo número a ser somado\n",
    "        num3 (int): terceiro número a ser somado\n",
    "    \n",
    "    Returns:\n",
    "        soma (int): o valor da soma dos 3 números dados como argumento\n",
    "    '''\n",
    "    return num1 + num2 + num3"
   ]
  },
  {
   "cell_type": "markdown",
   "id": "25f8ccfb",
   "metadata": {},
   "source": [
    "### Annotation"
   ]
  },
  {
   "cell_type": "code",
   "execution_count": null,
   "id": "7d85f8be",
   "metadata": {},
   "outputs": [],
   "source": [
    "def minha_soma(num1: int, num2: int, num3: int) -> int:\n",
    "    return num1 + num2 + num3"
   ]
  },
  {
   "cell_type": "markdown",
   "id": "e62971f9",
   "metadata": {},
   "source": [
    "                                     -//-"
   ]
  },
  {
   "cell_type": "markdown",
   "id": "4844c349",
   "metadata": {},
   "source": [
    "## Exceções e Erros em Funções"
   ]
  },
  {
   "cell_type": "markdown",
   "id": "b9a07915",
   "metadata": {},
   "source": [
    "### Testando Erros e Tratando Exceções"
   ]
  },
  {
   "cell_type": "code",
   "execution_count": 9,
   "id": "285ba12b",
   "metadata": {},
   "outputs": [],
   "source": [
    "def descobrir_servidor(email):\n",
    "    try:\n",
    "        posicao_a = email.index('@')\n",
    "        \n",
    "        servidor = email[posicao_a:]\n",
    "        \n",
    "        if 'gmail' in servidor:\n",
    "            return 'gmail'\n",
    "        elif 'hotmail' in servidor or 'outlook' in servidor or 'live' in servidor:\n",
    "            return 'hotmail'\n",
    "        elif 'yahoo' in servidor:\n",
    "            return 'yahoo'\n",
    "        elif 'uol' in servidor or 'bol' in servidor:\n",
    "            return 'uol'\n",
    "        else:\n",
    "            return 'não determinado'\n",
    "    except:\n",
    "        print('Email digitado não tem @, digite novamente')"
   ]
  },
  {
   "cell_type": "code",
   "execution_count": 10,
   "id": "d9617176",
   "metadata": {},
   "outputs": [
    {
     "name": "stdout",
     "output_type": "stream",
     "text": [
      "Qual o seu e-mail?giogmail.com\n",
      "Email digitado não tem @, digite novamente\n",
      "None\n"
     ]
    }
   ],
   "source": [
    "email = input('Qual o seu e-mail?')\n",
    "print(descobrir_servidor(email))"
   ]
  },
  {
   "cell_type": "markdown",
   "id": "74761f77",
   "metadata": {},
   "source": [
    "### Printando um Erro em uma Function"
   ]
  },
  {
   "cell_type": "code",
   "execution_count": 11,
   "id": "790f2207",
   "metadata": {},
   "outputs": [],
   "source": [
    "def descobrir_servidor(email):\n",
    "    try:\n",
    "        posicao_a = email.index('@')\n",
    "        \n",
    "        servidor = email[posicao_a:]\n",
    "        \n",
    "        if 'gmail' in servidor:\n",
    "            return 'gmail'\n",
    "        elif 'hotmail' in servidor or 'outlook' in servidor or 'live' in servidor:\n",
    "            return 'hotmail'\n",
    "        elif 'yahoo' in servidor:\n",
    "            return 'yahoo'\n",
    "        elif 'uol' in servidor or 'bol' in servidor:\n",
    "            return 'uol'\n",
    "        else:\n",
    "            return 'não determinado'\n",
    "    except:\n",
    "        raise Exception('Email digitado não tem @, digite novamente')"
   ]
  },
  {
   "cell_type": "code",
   "execution_count": 12,
   "id": "dbaba4c2",
   "metadata": {},
   "outputs": [
    {
     "name": "stdout",
     "output_type": "stream",
     "text": [
      "Qual o seu e-mail?giogmail.com\n"
     ]
    },
    {
     "ename": "Exception",
     "evalue": "Email digitado não tem @, digite novamente",
     "output_type": "error",
     "traceback": [
      "\u001b[1;31m---------------------------------------------------------------------------\u001b[0m",
      "\u001b[1;31mValueError\u001b[0m                                Traceback (most recent call last)",
      "\u001b[1;32m~\\AppData\\Local\\Temp/ipykernel_4920/2119099592.py\u001b[0m in \u001b[0;36mdescobrir_servidor\u001b[1;34m(email)\u001b[0m\n\u001b[0;32m      2\u001b[0m     \u001b[1;32mtry\u001b[0m\u001b[1;33m:\u001b[0m\u001b[1;33m\u001b[0m\u001b[1;33m\u001b[0m\u001b[0m\n\u001b[1;32m----> 3\u001b[1;33m         \u001b[0mposicao_a\u001b[0m \u001b[1;33m=\u001b[0m \u001b[0memail\u001b[0m\u001b[1;33m.\u001b[0m\u001b[0mindex\u001b[0m\u001b[1;33m(\u001b[0m\u001b[1;34m'@'\u001b[0m\u001b[1;33m)\u001b[0m\u001b[1;33m\u001b[0m\u001b[1;33m\u001b[0m\u001b[0m\n\u001b[0m\u001b[0;32m      4\u001b[0m \u001b[1;33m\u001b[0m\u001b[0m\n",
      "\u001b[1;31mValueError\u001b[0m: substring not found",
      "\nDuring handling of the above exception, another exception occurred:\n",
      "\u001b[1;31mException\u001b[0m                                 Traceback (most recent call last)",
      "\u001b[1;32m~\\AppData\\Local\\Temp/ipykernel_4920/71606327.py\u001b[0m in \u001b[0;36m<module>\u001b[1;34m\u001b[0m\n\u001b[0;32m      1\u001b[0m \u001b[0memail\u001b[0m \u001b[1;33m=\u001b[0m \u001b[0minput\u001b[0m\u001b[1;33m(\u001b[0m\u001b[1;34m'Qual o seu e-mail?'\u001b[0m\u001b[1;33m)\u001b[0m\u001b[1;33m\u001b[0m\u001b[1;33m\u001b[0m\u001b[0m\n\u001b[1;32m----> 2\u001b[1;33m \u001b[0mprint\u001b[0m\u001b[1;33m(\u001b[0m\u001b[0mdescobrir_servidor\u001b[0m\u001b[1;33m(\u001b[0m\u001b[0memail\u001b[0m\u001b[1;33m)\u001b[0m\u001b[1;33m)\u001b[0m\u001b[1;33m\u001b[0m\u001b[1;33m\u001b[0m\u001b[0m\n\u001b[0m",
      "\u001b[1;32m~\\AppData\\Local\\Temp/ipykernel_4920/2119099592.py\u001b[0m in \u001b[0;36mdescobrir_servidor\u001b[1;34m(email)\u001b[0m\n\u001b[0;32m     16\u001b[0m             \u001b[1;32mreturn\u001b[0m \u001b[1;34m'não determinado'\u001b[0m\u001b[1;33m\u001b[0m\u001b[1;33m\u001b[0m\u001b[0m\n\u001b[0;32m     17\u001b[0m     \u001b[1;32mexcept\u001b[0m\u001b[1;33m:\u001b[0m\u001b[1;33m\u001b[0m\u001b[1;33m\u001b[0m\u001b[0m\n\u001b[1;32m---> 18\u001b[1;33m         \u001b[1;32mraise\u001b[0m \u001b[0mException\u001b[0m\u001b[1;33m(\u001b[0m\u001b[1;34m'Email digitado não tem @, digite novamente'\u001b[0m\u001b[1;33m)\u001b[0m\u001b[1;33m\u001b[0m\u001b[1;33m\u001b[0m\u001b[0m\n\u001b[0m",
      "\u001b[1;31mException\u001b[0m: Email digitado não tem @, digite novamente"
     ]
    }
   ],
   "source": [
    "email = input('Qual o seu e-mail?')\n",
    "print(descobrir_servidor(email))"
   ]
  },
  {
   "cell_type": "markdown",
   "id": "a21fea20",
   "metadata": {},
   "source": [
    "                                     -//-"
   ]
  },
  {
   "cell_type": "markdown",
   "id": "969ea7a6",
   "metadata": {},
   "source": [
    "## Quantidade Indefinida de Argumentos\n"
   ]
  },
  {
   "cell_type": "code",
   "execution_count": 13,
   "id": "c94bdf7a",
   "metadata": {},
   "outputs": [],
   "source": [
    "def minha_soma(*numeros):\n",
    "    print(numeros)\n",
    "    soma = 0\n",
    "    for numero in numeros:\n",
    "        soma += numero\n",
    "    return soma"
   ]
  },
  {
   "cell_type": "code",
   "execution_count": 14,
   "id": "3bebac0b",
   "metadata": {},
   "outputs": [
    {
     "name": "stdout",
     "output_type": "stream",
     "text": [
      "(10, 20, 30, 40)\n",
      "100\n"
     ]
    }
   ],
   "source": [
    "print(minha_soma(10, 20, 30, 40))"
   ]
  },
  {
   "cell_type": "code",
   "execution_count": 15,
   "id": "62e4c274",
   "metadata": {},
   "outputs": [],
   "source": [
    "def preco_final(preco, **adicionais):\n",
    "    print(adicionais)\n",
    "    if 'desconto' in adicionais:\n",
    "        preco *= (1 - adicionais['desconto'])\n",
    "    if 'garantia_extra' in adicionais:\n",
    "        preco += adicionais['garantia_extra'] \n",
    "    if 'imposto' in adicionais:\n",
    "        preco *= (1 + adicionais['imposto'])\n",
    "    return preco"
   ]
  },
  {
   "cell_type": "code",
   "execution_count": 17,
   "id": "1464fd44",
   "metadata": {},
   "outputs": [
    {
     "name": "stdout",
     "output_type": "stream",
     "text": [
      "{'desconto': 0.1, 'garantia_extra': 100}\n",
      "1000.0\n"
     ]
    }
   ],
   "source": [
    "print(preco_final(1000, desconto=0.1, garantia_extra=100))"
   ]
  }
 ],
 "metadata": {
  "kernelspec": {
   "display_name": "Python 3 (ipykernel)",
   "language": "python",
   "name": "python3"
  },
  "language_info": {
   "codemirror_mode": {
    "name": "ipython",
    "version": 3
   },
   "file_extension": ".py",
   "mimetype": "text/x-python",
   "name": "python",
   "nbconvert_exporter": "python",
   "pygments_lexer": "ipython3",
   "version": "3.9.7"
  }
 },
 "nbformat": 4,
 "nbformat_minor": 5
}

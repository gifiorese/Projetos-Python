{
 "cells": [
  {
   "cell_type": "markdown",
   "id": "9bdde00d",
   "metadata": {},
   "source": [
    "# Módulo 12 - Módulos, Bibliotecas e Introdução a Orientação a Objeto"
   ]
  },
  {
   "cell_type": "markdown",
   "id": "1459e28b",
   "metadata": {},
   "source": [
    "## O que são Módulos e qual a Importância deles?"
   ]
  },
  {
   "cell_type": "markdown",
   "id": "d94d6429",
   "metadata": {},
   "source": [
    "- Exemplo: Como pode fazer o nosso código abrir um site específico na internet?"
   ]
  },
  {
   "cell_type": "code",
   "execution_count": 1,
   "id": "fccb79e2",
   "metadata": {},
   "outputs": [
    {
     "data": {
      "text/plain": [
       "True"
      ]
     },
     "execution_count": 1,
     "metadata": {},
     "output_type": "execute_result"
    }
   ],
   "source": [
    "import webbrowser\n",
    "\n",
    "webbrowser.open('https://github.com/gifiorese/gifiorese')"
   ]
  },
  {
   "cell_type": "code",
   "execution_count": 3,
   "id": "3559d69f",
   "metadata": {},
   "outputs": [
    {
     "data": {
      "text/plain": [
       "True"
      ]
     },
     "execution_count": 3,
     "metadata": {},
     "output_type": "execute_result"
    }
   ],
   "source": [
    "import webbrowser as wb\n",
    "\n",
    "wb.open('https://github.com/gifiorese/gifiorese')"
   ]
  },
  {
   "cell_type": "markdown",
   "id": "ac261fea",
   "metadata": {},
   "source": [
    "                                     -//-"
   ]
  },
  {
   "cell_type": "markdown",
   "id": "ff8a5637",
   "metadata": {},
   "source": [
    "## Começando a Ler um Módulo"
   ]
  },
  {
   "cell_type": "code",
   "execution_count": 1,
   "id": "d56336fa",
   "metadata": {},
   "outputs": [
    {
     "data": {
      "text/plain": [
       "True"
      ]
     },
     "execution_count": 1,
     "metadata": {},
     "output_type": "execute_result"
    }
   ],
   "source": [
    "import webbrowser\n",
    "\n",
    "webbrowser.open_new('https://github.com/gifiorese/gifiorese')\n",
    "#webbrowser.open('https://github.com/gifiorese/Projetos---Python')"
   ]
  },
  {
   "cell_type": "markdown",
   "id": "0a72e11f",
   "metadata": {},
   "source": [
    "                                     -//-"
   ]
  },
  {
   "cell_type": "markdown",
   "id": "8d7bbd63",
   "metadata": {},
   "source": [
    "## Módulo TIME"
   ]
  },
  {
   "cell_type": "code",
   "execution_count": 2,
   "id": "78b78ef7",
   "metadata": {},
   "outputs": [],
   "source": [
    "import time"
   ]
  },
  {
   "cell_type": "markdown",
   "id": "5b30acd4",
   "metadata": {},
   "source": [
    "### TIME - Segundos"
   ]
  },
  {
   "cell_type": "code",
   "execution_count": 3,
   "id": "4b9bbc3b",
   "metadata": {},
   "outputs": [
    {
     "name": "stdout",
     "output_type": "stream",
     "text": [
      "1655822691.711434\n"
     ]
    }
   ],
   "source": [
    "segundos_hoje = time.time()\n",
    "print(segundos_hoje)"
   ]
  },
  {
   "cell_type": "markdown",
   "id": "e21bb266",
   "metadata": {},
   "source": [
    "### CTIME - Data em String no formato UTC"
   ]
  },
  {
   "cell_type": "code",
   "execution_count": 4,
   "id": "dd342041",
   "metadata": {},
   "outputs": [
    {
     "name": "stdout",
     "output_type": "stream",
     "text": [
      "Tue Jun 21 11:45:44 2022\n"
     ]
    }
   ],
   "source": [
    "data_hoje = time.ctime()\n",
    "#ou entao data_hoje = time.ctime(time())\n",
    "print(data_hoje)"
   ]
  },
  {
   "cell_type": "markdown",
   "id": "09e1bda4",
   "metadata": {},
   "source": [
    "### Exemplo de Aplicação"
   ]
  },
  {
   "cell_type": "code",
   "execution_count": 5,
   "id": "625da375",
   "metadata": {},
   "outputs": [
    {
     "name": "stdout",
     "output_type": "stream",
     "text": [
      "O programa levou 7.146049737930298 segundos para rodar\n"
     ]
    }
   ],
   "source": [
    "tempo_inicial = time.time()\n",
    "\n",
    "for i in range(100000000):\n",
    "    pass\n",
    "\n",
    "tempo_final = time.time()\n",
    "\n",
    "duracao = tempo_final - tempo_inicial\n",
    "\n",
    "print('O programa levou {} segundos para rodar'.format(duracao))"
   ]
  },
  {
   "cell_type": "markdown",
   "id": "0086a5b7",
   "metadata": {},
   "source": [
    "### Fazer o Código dar uma Pausa"
   ]
  },
  {
   "cell_type": "code",
   "execution_count": 6,
   "id": "9703d895",
   "metadata": {},
   "outputs": [
    {
     "name": "stdout",
     "output_type": "stream",
     "text": [
      "Começando\n",
      "Rodou 5 segundos após\n"
     ]
    }
   ],
   "source": [
    "print('Começando')\n",
    "time.sleep(5)\n",
    "print('Rodou 5 segundos após')"
   ]
  },
  {
   "cell_type": "markdown",
   "id": "20cc186a",
   "metadata": {},
   "source": [
    "### Informações de Dias, Horas, Segundos, Minutos (Detalhado)"
   ]
  },
  {
   "cell_type": "code",
   "execution_count": 7,
   "id": "6767b30d",
   "metadata": {},
   "outputs": [
    {
     "name": "stdout",
     "output_type": "stream",
     "text": [
      "time.struct_time(tm_year=2022, tm_mon=6, tm_mday=21, tm_hour=14, tm_min=52, tm_sec=10, tm_wday=1, tm_yday=172, tm_isdst=0)\n"
     ]
    }
   ],
   "source": [
    "data_atual = time.gmtime()\n",
    "print(data_atual)"
   ]
  },
  {
   "cell_type": "code",
   "execution_count": 8,
   "id": "74d2a8fb",
   "metadata": {},
   "outputs": [
    {
     "name": "stdout",
     "output_type": "stream",
     "text": [
      "Hoje é dia 21/6/2022\n"
     ]
    }
   ],
   "source": [
    "ano = data_atual.tm_year\n",
    "mes = data_atual.tm_mon\n",
    "dia = data_atual.tm_mday\n",
    "hora = data_atual.tm_hour\n",
    "dia_da_semana = data_atual.tm_wday\n",
    "\n",
    "print('Hoje é dia {}/{}/{}'.format(dia, mes, ano))"
   ]
  },
  {
   "cell_type": "markdown",
   "id": "1ab14450",
   "metadata": {},
   "source": [
    "                                     -//-"
   ]
  },
  {
   "cell_type": "markdown",
   "id": "93ba55c2",
   "metadata": {},
   "source": [
    "## Usando Módulos para Ajudar a Resolver Desafios"
   ]
  },
  {
   "cell_type": "markdown",
   "id": "5100e207",
   "metadata": {},
   "source": [
    "### Exemplo\n",
    "\n",
    "- Digamos que você está analisando todas as vendas dos produtos de tecnologia de um e-commerce e quer saber quais foram os 5 produtos que mais venderam (e suas respectivas quantidades de vendas) - ou seja, queremos descobrir um top 3 produtos de forma simples"
   ]
  },
  {
   "cell_type": "code",
   "execution_count": 9,
   "id": "24397414",
   "metadata": {},
   "outputs": [
    {
     "name": "stdout",
     "output_type": "stream",
     "text": [
      "[('notebook dell', 17000), ('iphone', 15000), ('ps5', 14300)]\n"
     ]
    }
   ],
   "source": [
    "from collections import Counter\n",
    "\n",
    "vendas_tecnologia = {'notebook asus': 2450, 'iphone': 15000, 'samsung galaxy': 12000, 'tv samsung': 10000, 'ps5': 14300, 'tablet': 1720, 'notebook dell': 17000, 'ipad': 1000, 'tv philco': 2500, 'notebook hp': 1000}\n",
    "\n",
    "aux = Counter(vendas_tecnologia)\n",
    "\n",
    "print(aux.most_common(3))"
   ]
  },
  {
   "cell_type": "markdown",
   "id": "3f9bc619",
   "metadata": {},
   "source": [
    "                                     -//-"
   ]
  },
  {
   "cell_type": "markdown",
   "id": "79741375",
   "metadata": {},
   "source": [
    "## Exibindo Gráficos no Python"
   ]
  },
  {
   "cell_type": "code",
   "execution_count": 10,
   "id": "1cafb912",
   "metadata": {},
   "outputs": [],
   "source": [
    "vendas_meses = [1500, 1727, 1350, 999, 1050, 1027, 1022, 1500, 2000, 2362, 2100, 2762]\n",
    "meses = ['jan', 'fev', 'mar', 'abr', 'mai', 'jun', 'jul', 'ago', 'set', 'out', 'nov', 'dez']\n"
   ]
  },
  {
   "cell_type": "markdown",
   "id": "b851a76b",
   "metadata": {},
   "source": [
    "### Gráfico simples"
   ]
  },
  {
   "cell_type": "code",
   "execution_count": 16,
   "id": "6cebc5ad",
   "metadata": {},
   "outputs": [
    {
     "data": {
      "image/png": "[encoded data removed]",
      "text/plain": [
       "<Figure size 432x288 with 1 Axes>"
      ]
     },
     "metadata": {
      "needs_background": "light"
     },
     "output_type": "display_data"
    }
   ],
   "source": [
    "import matplotlib.pyplot as plt\n",
    "\n",
    "#Ajeitando os valores\n",
    "plt.plot(meses, vendas_meses)\n",
    "\n",
    "#Adicionar um Label nos eixos X e Y\n",
    "plt.ylabel('Vendas')\n",
    "plt.xlabel('Meses')\n",
    "\n",
    "#Ajustando a escala\n",
    "plt.axis([0, 12, 0, max(vendas_meses)])\n",
    "\n",
    "#Exibição do gráfico\n",
    "plt.show()"
   ]
  },
  {
   "cell_type": "markdown",
   "id": "78e07867",
   "metadata": {},
   "source": [
    "                                     -//-"
   ]
  },
  {
   "cell_type": "markdown",
   "id": "0acd4efa",
   "metadata": {},
   "source": [
    "## Mais Edições de Gráficos e Módulo NUMPY"
   ]
  },
  {
   "cell_type": "code",
   "execution_count": 17,
   "id": "9733c545",
   "metadata": {},
   "outputs": [],
   "source": [
    "#importando o matplotlib\n",
    "import matplotlib.pyplot as plt\n",
    "\n",
    "#importando o módulo numpy\n",
    "import numpy as np"
   ]
  },
  {
   "cell_type": "markdown",
   "id": "21065513",
   "metadata": {},
   "source": [
    "### Outros tipos de gráficos"
   ]
  },
  {
   "cell_type": "code",
   "execution_count": 19,
   "id": "a45168d7",
   "metadata": {},
   "outputs": [],
   "source": [
    "vendas = np.random.randint(1000, 3000, 50) #Número inteiro aleatório\n",
    "meses = np.arange(1, 51)"
   ]
  },
  {
   "cell_type": "markdown",
   "id": "748253a1",
   "metadata": {},
   "source": [
    "#### Linha"
   ]
  },
  {
   "cell_type": "code",
   "execution_count": 21,
   "id": "7806131a",
   "metadata": {},
   "outputs": [
    {
     "data": {
      "image/png": "[encoded data removed]",
      "text/plain": [
       "<Figure size 432x288 with 1 Axes>"
      ]
     },
     "metadata": {
      "needs_background": "light"
     },
     "output_type": "display_data"
    }
   ],
   "source": [
    "plt.plot(meses, vendas)\n",
    "\n",
    "plt.ylabel('Vendas')\n",
    "plt.xlabel('Meses')\n",
    "\n",
    "plt.axis([0, 50, 0, max(vendas)+200])\n",
    "\n",
    "plt.show()"
   ]
  },
  {
   "cell_type": "code",
   "execution_count": 26,
   "id": "304f5007",
   "metadata": {},
   "outputs": [
    {
     "data": {
      "image/png": "[encoded data removed]",
      "text/plain": [
       "<Figure size 432x288 with 1 Axes>"
      ]
     },
     "metadata": {
      "needs_background": "light"
     },
     "output_type": "display_data"
    }
   ],
   "source": [
    "plt.plot(meses, vendas, color='orange')\n",
    "\n",
    "plt.ylabel('Vendas')\n",
    "plt.xlabel('Meses')\n",
    "\n",
    "plt.axis([0, 50, 0, max(vendas)+200])\n",
    "\n",
    "plt.show()"
   ]
  },
  {
   "cell_type": "markdown",
   "id": "34bd898d",
   "metadata": {},
   "source": [
    "#### Dispersão"
   ]
  },
  {
   "cell_type": "code",
   "execution_count": 28,
   "id": "91141058",
   "metadata": {},
   "outputs": [
    {
     "data": {
      "image/png": "[encoded data removed]",
      "text/plain": [
       "<Figure size 432x288 with 1 Axes>"
      ]
     },
     "metadata": {
      "needs_background": "light"
     },
     "output_type": "display_data"
    }
   ],
   "source": [
    "plt.scatter(meses, vendas)\n",
    "\n",
    "plt.ylabel('Vendas')\n",
    "plt.xlabel('Meses')\n",
    "\n",
    "plt.axis([0, 50, 0, max(vendas)+200])\n",
    "\n",
    "plt.show()"
   ]
  },
  {
   "cell_type": "markdown",
   "id": "36c2190c",
   "metadata": {},
   "source": [
    "#### Barras"
   ]
  },
  {
   "cell_type": "code",
   "execution_count": 29,
   "id": "5450bb47",
   "metadata": {
    "scrolled": true
   },
   "outputs": [
    {
     "data": {
      "image/png": "[encoded data removed]",
      "text/plain": [
       "<Figure size 432x288 with 1 Axes>"
      ]
     },
     "metadata": {
      "needs_background": "light"
     },
     "output_type": "display_data"
    }
   ],
   "source": [
    "plt.bar(meses, vendas)\n",
    "\n",
    "plt.ylabel('Vendas')\n",
    "plt.xlabel('Meses')\n",
    "\n",
    "plt.axis([0, 50, 0, max(vendas)+200])\n",
    "\n",
    "plt.show()"
   ]
  },
  {
   "cell_type": "markdown",
   "id": "f11d7e2f",
   "metadata": {},
   "source": [
    "### Múltiplos gráficos no mesmo plot"
   ]
  },
  {
   "cell_type": "code",
   "execution_count": 32,
   "id": "e312f674",
   "metadata": {},
   "outputs": [
    {
     "data": {
      "image/png": "[encoded data removed]",
      "text/plain": [
       "<Figure size 1080x216 with 3 Axes>"
      ]
     },
     "metadata": {
      "needs_background": "light"
     },
     "output_type": "display_data"
    }
   ],
   "source": [
    "plt.figure(1, figsize=(15, 3))\n",
    "\n",
    "plt.subplot(1, 3, 1) #1 linha, 3 colunas, 1º gráfico\n",
    "plt.plot(meses, vendas, color='green')\n",
    "\n",
    "plt.subplot(1, 3, 2) #1 linha, 3 colunas, 2º gráfico\n",
    "plt.scatter(meses, vendas, color='yellow')\n",
    "\n",
    "plt.subplot(1, 3, 3) #1 linha, 3 colunas, 3º gráfico\n",
    "plt.bar(meses, vendas)\n",
    "\n",
    "plt.show()"
   ]
  },
  {
   "cell_type": "markdown",
   "id": "33159297",
   "metadata": {},
   "source": [
    "                                     -//-"
   ]
  },
  {
   "cell_type": "markdown",
   "id": "a4120258",
   "metadata": {},
   "source": [
    "## Como Instalar Novos Módulos - PIP"
   ]
  },
  {
   "cell_type": "code",
   "execution_count": 2,
   "id": "21d5685c",
   "metadata": {},
   "outputs": [],
   "source": [
    "import keyboard\n",
    "\n",
    "keyboard.press_and_release('ctrl+t')\n",
    "\n",
    "keyboard.write('https://github.com/gifiorese')\n",
    "\n",
    "keyboard.press_and_release('enter')"
   ]
  },
  {
   "cell_type": "markdown",
   "id": "d95f64f5",
   "metadata": {},
   "source": [
    "                                     -//-"
   ]
  }
 ],
 "metadata": {
  "kernelspec": {
   "display_name": "Python 3 (ipykernel)",
   "language": "python",
   "name": "python3"
  },
  "language_info": {
   "codemirror_mode": {
    "name": "ipython",
    "version": 3
   },
   "file_extension": ".py",
   "mimetype": "text/x-python",
   "name": "python",
   "nbconvert_exporter": "python",
   "pygments_lexer": "ipython3",
   "version": "3.9.7"
  }
 },
 "nbformat": 4,
 "nbformat_minor": 5
}

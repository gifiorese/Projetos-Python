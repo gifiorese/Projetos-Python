{
 "cells": [
  {
   "cell_type": "markdown",
   "id": "9bdde00d",
   "metadata": {},
   "source": [
    "# Módulo 13 - List Comprehension"
   ]
  },
  {
   "cell_type": "markdown",
   "id": "1459e28b",
   "metadata": {},
   "source": [
    "## O que é List Comprehension"
   ]
  },
  {
   "cell_type": "code",
   "execution_count": 5,
   "id": "7dd1a5a7",
   "metadata": {},
   "outputs": [],
   "source": [
    "preco_produtos = [100, 150, 300, 5500]\n",
    "produtos = ['vinho', 'cafeiteira', 'microondas', 'iphone']\n",
    "\n",
    "#digamos que o imposto sobre os produtos é de 30%, ou seja, 0.3. \n",
    "    #Como eu faria para criar uma lista com os valores de imposto de \n",
    "        #cada produto?"
   ]
  },
  {
   "cell_type": "markdown",
   "id": "deac9c2e",
   "metadata": {},
   "source": [
    "### Usando FOR"
   ]
  },
  {
   "cell_type": "code",
   "execution_count": 6,
   "id": "1aa53d11",
   "metadata": {},
   "outputs": [
    {
     "name": "stdout",
     "output_type": "stream",
     "text": [
      "[30.0, 45.0, 90.0, 1650.0]\n"
     ]
    }
   ],
   "source": [
    "impostos = []\n",
    "\n",
    "for item in preco_produtos:\n",
    "    impostos.append(item*0.3)\n",
    "    \n",
    "print(impostos)"
   ]
  },
  {
   "cell_type": "markdown",
   "id": "03532e61",
   "metadata": {},
   "source": [
    "### Usando LIST COMPREHENSION"
   ]
  },
  {
   "cell_type": "code",
   "execution_count": 7,
   "id": "748dd732",
   "metadata": {},
   "outputs": [
    {
     "name": "stdout",
     "output_type": "stream",
     "text": [
      "[30.0, 45.0, 90.0, 1650.0]\n"
     ]
    }
   ],
   "source": [
    "impostos = [preco*0.3 for preco in preco_produtos]\n",
    "\n",
    "print(impostos)"
   ]
  },
  {
   "cell_type": "markdown",
   "id": "ee4471d7",
   "metadata": {},
   "source": [
    "### List Comprehension como FUNCTION"
   ]
  },
  {
   "cell_type": "code",
   "execution_count": 8,
   "id": "888e3187",
   "metadata": {},
   "outputs": [
    {
     "name": "stdout",
     "output_type": "stream",
     "text": [
      "[30.0, 45.0, 90.0, 1650.0]\n"
     ]
    }
   ],
   "source": [
    "def calcular_imposto(preco, imposto):\n",
    "    return preco * imposto\n",
    "\n",
    "impostos = [calcular_imposto(preco, 0.3) for preco in preco_produtos]\n",
    "print(impostos)"
   ]
  },
  {
   "cell_type": "markdown",
   "id": "ac261fea",
   "metadata": {},
   "source": [
    "                                     -//-"
   ]
  },
  {
   "cell_type": "markdown",
   "id": "ff8a5637",
   "metadata": {},
   "source": [
    "## Exemplo Prático de List Comprehension"
   ]
  },
  {
   "cell_type": "markdown",
   "id": "d49241dd",
   "metadata": {},
   "source": [
    "Ordenando 2 listas"
   ]
  },
  {
   "cell_type": "code",
   "execution_count": 11,
   "id": "83e98acd",
   "metadata": {},
   "outputs": [
    {
     "name": "stdout",
     "output_type": "stream",
     "text": [
      "['microondas', 'iphone', 'vinho', 'cafeiteira']\n"
     ]
    }
   ],
   "source": [
    "vendas_produtos = [1500, 150, 2100, 1950]\n",
    "produtos = ['vinho', 'cafeiteira', 'microondas', 'iphone']\n",
    "\n",
    "aux = zip(vendas_produtos, produtos) #Junta os itens de uma lista (Tupla)\n",
    "lista_aux = list(aux)\n",
    "\n",
    "lista_aux.sort(reverse=True)\n",
    "\n",
    "produtos = [produto for vendas, produto in lista_aux] #Unpacking da Tupla\n",
    "\n",
    "print(produtos)"
   ]
  },
  {
   "cell_type": "markdown",
   "id": "0a72e11f",
   "metadata": {},
   "source": [
    "                                     -//-"
   ]
  },
  {
   "cell_type": "markdown",
   "id": "8d7bbd63",
   "metadata": {},
   "source": [
    "## List Comprehension com IF para filtrar itens"
   ]
  },
  {
   "cell_type": "code",
   "execution_count": 1,
   "id": "78b78ef7",
   "metadata": {},
   "outputs": [],
   "source": [
    "meta = 1000\n",
    "vendas_produtos = [1500, 150, 2100, 1950]\n",
    "produtos = ['vinho', 'cafeiteira', 'microondas', 'iphone']"
   ]
  },
  {
   "cell_type": "markdown",
   "id": "958fa6ca",
   "metadata": {},
   "source": [
    "### FOR tradicional"
   ]
  },
  {
   "cell_type": "code",
   "execution_count": 2,
   "id": "2d79b6d8",
   "metadata": {},
   "outputs": [
    {
     "name": "stdout",
     "output_type": "stream",
     "text": [
      "['vinho', 'microondas', 'iphone']\n"
     ]
    }
   ],
   "source": [
    "produtos_acima_meta = []\n",
    "\n",
    "for i, produto in enumerate(produtos):\n",
    "    if vendas_produtos[i] > meta:\n",
    "        produtos_acima_meta.append(produto)\n",
    "\n",
    "print(produtos_acima_meta)"
   ]
  },
  {
   "cell_type": "markdown",
   "id": "6b897d11",
   "metadata": {},
   "source": [
    "### List Comprehension"
   ]
  },
  {
   "cell_type": "code",
   "execution_count": 3,
   "id": "9a747fae",
   "metadata": {},
   "outputs": [
    {
     "name": "stdout",
     "output_type": "stream",
     "text": [
      "['vinho', 'microondas', 'iphone']\n"
     ]
    }
   ],
   "source": [
    "produtos_acima_meta = [produto for i, produto in enumerate(produtos)\\\n",
    "                       if vendas_produtos[i] > meta]\n",
    "\n",
    "print(produtos_acima_meta)"
   ]
  },
  {
   "cell_type": "markdown",
   "id": "1ab14450",
   "metadata": {},
   "source": [
    "                                     -//-"
   ]
  },
  {
   "cell_type": "markdown",
   "id": "93ba55c2",
   "metadata": {},
   "source": [
    "## Tratando Casos em List Comprehension"
   ]
  },
  {
   "cell_type": "markdown",
   "id": "19abb1f3",
   "metadata": {},
   "source": [
    "- Digamos que eu esteja analisando os vendedores de uma loja e queira criar uma lista para enviar para o RH com o bônus de cada vendedor.\n",
    "- O bônus é dado por 10% do valor de vendas dele, caso ele tenha batido a meta"
   ]
  },
  {
   "cell_type": "code",
   "execution_count": 5,
   "id": "1921f924",
   "metadata": {},
   "outputs": [],
   "source": [
    "vendedores_dic = {'Maria': 1200, 'José': 300, 'Antônio': 800, 'João': 1500, 'Francisco': 1900, 'Ana': 2750, 'Luiz': 400, 'Paulo': 20, 'Carlos': 23, 'Manoel': 70, 'Pedro': 90, 'Francisca': 80, 'Marcos': 1100, 'Raimundo': 999, 'Sebastião': 900, 'Antônia': 880, 'Marcelo': 870, 'Jorge': 50, 'Márcia': 1111, 'Geraldo': 120, 'Adriana': 300, 'Sandra': 450, 'Luis': 800}\n",
    "meta = 1000"
   ]
  },
  {
   "cell_type": "markdown",
   "id": "0fd2b225",
   "metadata": {},
   "source": [
    "### Usando FOR"
   ]
  },
  {
   "cell_type": "code",
   "execution_count": 6,
   "id": "f0c0ae48",
   "metadata": {},
   "outputs": [
    {
     "name": "stdout",
     "output_type": "stream",
     "text": [
      "[120.0, 0, 0, 150.0, 190.0, 275.0, 0, 0, 0, 0, 0, 0, 110.0, 0, 0, 0, 0, 0, 111.10000000000001, 0, 0, 0, 0]\n"
     ]
    }
   ],
   "source": [
    "bonus = []\n",
    "\n",
    "for item in vendedores_dic:\n",
    "    if vendedores_dic[item] > meta:\n",
    "        bonus.append(vendedores_dic[item]*0.1)\n",
    "    else:\n",
    "        bonus.append(0)  \n",
    "\n",
    "print(bonus)"
   ]
  },
  {
   "cell_type": "markdown",
   "id": "5f8104e9",
   "metadata": {},
   "source": [
    "### Usando List Comprehension"
   ]
  },
  {
   "cell_type": "code",
   "execution_count": 7,
   "id": "e7b75134",
   "metadata": {},
   "outputs": [
    {
     "name": "stdout",
     "output_type": "stream",
     "text": [
      "[120.0, 0, 0, 150.0, 190.0, 275.0, 0, 0, 0, 0, 0, 0, 110.0, 0, 0, 0, 0, 0, 111.10000000000001, 0, 0, 0, 0]\n"
     ]
    }
   ],
   "source": [
    "bonus = [vendedores_dic[item]*0.1 if vendedores_dic[item] > meta\\\n",
    "         else 0 for item in vendedores_dic]\n",
    "\n",
    "print(bonus)"
   ]
  },
  {
   "cell_type": "markdown",
   "id": "3f9bc619",
   "metadata": {},
   "source": [
    "                                     -//-"
   ]
  },
  {
   "cell_type": "markdown",
   "id": "79741375",
   "metadata": {},
   "source": [
    "## Outras Aplicações\n",
    "\n",
    "### Exemplo:\n",
    "\n",
    "- Vamos calcular quantos % das vendas o meu top 5 produtos representa das vendas totais"
   ]
  },
  {
   "cell_type": "code",
   "execution_count": 8,
   "id": "1cafb912",
   "metadata": {},
   "outputs": [],
   "source": [
    "produtos = ['coca', 'pepsi', 'guarana', 'skol', 'brahma', 'agua', 'del valle', 'dolly', 'red bull', 'cachaça', 'vinho tinto', 'vodka', 'vinho branco', 'tequila', 'champagne', 'gin', 'guaracamp', 'matte', 'leite de castanha', 'leite', 'jurupinga', 'sprite', 'fanta']\n",
    "vendas = [1200, 300, 800, 1500, 1900, 2750, 400, 20, 23, 70, 90, 80, 1100, 999, 900, 880, 870, 50, 1111, 120, 300, 450, 800]\n",
    "top5 = ['agua', 'brahma', 'skol', 'coca', 'leite de castanha']"
   ]
  },
  {
   "cell_type": "markdown",
   "id": "715c5e4c",
   "metadata": {},
   "source": [
    "### Usando FOR"
   ]
  },
  {
   "cell_type": "code",
   "execution_count": 9,
   "id": "dedff206",
   "metadata": {},
   "outputs": [
    {
     "name": "stdout",
     "output_type": "stream",
     "text": [
      "O top 5 representou 50.6% das vendas\n"
     ]
    }
   ],
   "source": [
    "total_top5 = 0\n",
    "\n",
    "for i, produto in enumerate(produtos):\n",
    "    if produto in top5:\n",
    "        total_top5 += vendas[i]\n",
    "\n",
    "porcentagem = total_top5/sum(vendas)\n",
    "\n",
    "print(\"O top 5 representou {:0.1%} das vendas\".format(porcentagem))"
   ]
  },
  {
   "cell_type": "markdown",
   "id": "c98e4812",
   "metadata": {},
   "source": [
    "### Usando List Comprehension"
   ]
  },
  {
   "cell_type": "code",
   "execution_count": 10,
   "id": "b8db63fb",
   "metadata": {},
   "outputs": [
    {
     "name": "stdout",
     "output_type": "stream",
     "text": [
      "O top 5 representou 50.6% das vendas\n"
     ]
    }
   ],
   "source": [
    "total_top5 = sum([vendas[i] for i, produto in enumerate(produtos)\\\n",
    "                  if produto in top5])\n",
    "\n",
    "porcentagem = total_top5/sum(vendas)\n",
    "\n",
    "print(\"O top 5 representou {:0.1%} das vendas\".format(porcentagem))"
   ]
  },
  {
   "cell_type": "markdown",
   "id": "78e07867",
   "metadata": {},
   "source": [
    "                                     -//-"
   ]
  },
  {
   "cell_type": "markdown",
   "id": "b5967b3d",
   "metadata": {},
   "source": [
    "## Título 2"
   ]
  },
  {
   "cell_type": "code",
   "execution_count": null,
   "id": "c73e6230",
   "metadata": {},
   "outputs": [],
   "source": []
  },
  {
   "cell_type": "markdown",
   "id": "98085e5d",
   "metadata": {},
   "source": [
    "                                     -//-"
   ]
  },
  {
   "cell_type": "markdown",
   "id": "1bee0e40",
   "metadata": {},
   "source": [
    "## Título 2"
   ]
  },
  {
   "cell_type": "code",
   "execution_count": null,
   "id": "b548dc16",
   "metadata": {},
   "outputs": [],
   "source": []
  },
  {
   "cell_type": "markdown",
   "id": "6bb8ea49",
   "metadata": {},
   "source": [
    "                                     -//-"
   ]
  },
  {
   "cell_type": "markdown",
   "id": "1427746d",
   "metadata": {},
   "source": [
    "## Título 2"
   ]
  },
  {
   "cell_type": "code",
   "execution_count": null,
   "id": "ca905fac",
   "metadata": {},
   "outputs": [],
   "source": []
  },
  {
   "cell_type": "markdown",
   "id": "fa5742aa",
   "metadata": {},
   "source": [
    "                                     -//-"
   ]
  }
 ],
 "metadata": {
  "kernelspec": {
   "display_name": "Python 3 (ipykernel)",
   "language": "python",
   "name": "python3"
  },
  "language_info": {
   "codemirror_mode": {
    "name": "ipython",
    "version": 3
   },
   "file_extension": ".py",
   "mimetype": "text/x-python",
   "name": "python",
   "nbconvert_exporter": "python",
   "pygments_lexer": "ipython3",
   "version": "3.9.7"
  }
 },
 "nbformat": 4,
 "nbformat_minor": 5
}

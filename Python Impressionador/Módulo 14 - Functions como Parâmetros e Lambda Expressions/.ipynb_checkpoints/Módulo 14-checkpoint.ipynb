{
 "cells": [
  {
   "cell_type": "markdown",
   "id": "9bdde00d",
   "metadata": {},
   "source": [
    "# Módulo 14 - Function como Parâmetro e Lambda Expressions"
   ]
  },
  {
   "cell_type": "markdown",
   "id": "1459e28b",
   "metadata": {},
   "source": [
    "## Functions em Iterables e Função MAP"
   ]
  },
  {
   "cell_type": "markdown",
   "id": "4c0bfdfe",
   "metadata": {},
   "source": [
    "- Exemplo: digamos que eu tenha uma function que corrige um código de um produto (semelhante ao que fizemos na seção de function aqui do curso)"
   ]
  },
  {
   "cell_type": "code",
   "execution_count": 1,
   "id": "ddfa795f",
   "metadata": {},
   "outputs": [],
   "source": [
    "def padronizar_texto(texto):\n",
    "    texto = texto.casefold()\n",
    "    texto = texto.replace(\"  \", \" \")\n",
    "    texto = texto.strip()\n",
    "    return texto"
   ]
  },
  {
   "cell_type": "markdown",
   "id": "7a1a0c54",
   "metadata": {},
   "source": [
    "- Agora queremos padronizar uma lista de códigos:"
   ]
  },
  {
   "cell_type": "code",
   "execution_count": 2,
   "id": "351b17fa",
   "metadata": {},
   "outputs": [],
   "source": [
    "produtos = [' ABC12 ', 'abc34', 'AbC37', 'beb12', ' BSA151', 'BEB23']"
   ]
  },
  {
   "cell_type": "markdown",
   "id": "4c5b8019",
   "metadata": {},
   "source": [
    "### Usando FOR"
   ]
  },
  {
   "cell_type": "code",
   "execution_count": 4,
   "id": "f3d8de19",
   "metadata": {},
   "outputs": [
    {
     "name": "stdout",
     "output_type": "stream",
     "text": [
      "['abc12', 'abc34', 'abc37', 'beb12', 'bsa151', 'beb23']\n"
     ]
    }
   ],
   "source": [
    "for i, produto in enumerate(produtos):\n",
    "    produtos[i] = padronizar_texto(produto)\n",
    "    \n",
    "print(produtos)"
   ]
  },
  {
   "cell_type": "markdown",
   "id": "72070c1a",
   "metadata": {},
   "source": [
    "### Usando o MAP"
   ]
  },
  {
   "cell_type": "code",
   "execution_count": 5,
   "id": "28daf2ed",
   "metadata": {},
   "outputs": [
    {
     "name": "stdout",
     "output_type": "stream",
     "text": [
      "['abc12', 'abc34', 'abc37', 'beb12', 'bsa151', 'beb23']\n"
     ]
    }
   ],
   "source": [
    "produtos = list(map(padronizar_texto, produtos))\n",
    "\n",
    "print(produtos)"
   ]
  },
  {
   "cell_type": "markdown",
   "id": "ac261fea",
   "metadata": {},
   "source": [
    "                                     -//-"
   ]
  },
  {
   "cell_type": "markdown",
   "id": "ff8a5637",
   "metadata": {},
   "source": [
    "## SORT com Function"
   ]
  },
  {
   "cell_type": "code",
   "execution_count": 6,
   "id": "d56336fa",
   "metadata": {},
   "outputs": [
    {
     "name": "stdout",
     "output_type": "stream",
     "text": [
      "['IPad', 'IPhone 11', 'IPhone x', 'airpods', 'apple tv', 'apple watch', 'mac', 'mac book']\n"
     ]
    }
   ],
   "source": [
    "produtos = ['apple tv', 'mac', 'IPhone x', 'IPhone 11', 'IPad', 'apple watch', 'mac book', 'airpods']\n",
    "produtos.sort()\n",
    "print(produtos)"
   ]
  },
  {
   "cell_type": "markdown",
   "id": "5fffae00",
   "metadata": {},
   "source": [
    "### Ordenando corretamente"
   ]
  },
  {
   "cell_type": "code",
   "execution_count": 7,
   "id": "3525b8b7",
   "metadata": {},
   "outputs": [
    {
     "name": "stdout",
     "output_type": "stream",
     "text": [
      "['airpods', 'apple tv', 'apple watch', 'IPad', 'IPhone 11', 'IPhone x', 'mac', 'mac book']\n"
     ]
    }
   ],
   "source": [
    "produtos.sort(key=str.casefold)\n",
    "print(produtos)"
   ]
  },
  {
   "cell_type": "markdown",
   "id": "d4e5b72b",
   "metadata": {},
   "source": [
    "### Ordenando um Dicionário de acordo com o valor"
   ]
  },
  {
   "cell_type": "code",
   "execution_count": 8,
   "id": "7fea2aa2",
   "metadata": {},
   "outputs": [],
   "source": [
    "vendas_produtos = {'vinho': 100, 'cafeiteira': 150, 'microondas': 300, 'iphone': 5500}"
   ]
  },
  {
   "cell_type": "markdown",
   "id": "7dddb6a0",
   "metadata": {},
   "source": [
    "Listar da maior quantia de vendas para a menor"
   ]
  },
  {
   "cell_type": "code",
   "execution_count": 11,
   "id": "82b7c581",
   "metadata": {},
   "outputs": [
    {
     "name": "stdout",
     "output_type": "stream",
     "text": [
      "{'vinho': 100, 'cafeiteira': 150, 'microondas': 300, 'iphone': 5500}\n"
     ]
    }
   ],
   "source": [
    "def segundo_item(tupla):\n",
    "    return tupla[1] #Segundo item da Tupla\n",
    "\n",
    "lista_vendas = list(vendas_produtos.items()) #Lista de Tuplas\n",
    "\n",
    "lista_vendas.sort(key=segundo_item)\n",
    "\n",
    "print(dict(lista_vendas)) #Retornando a um Dicionário"
   ]
  },
  {
   "cell_type": "markdown",
   "id": "0a72e11f",
   "metadata": {},
   "source": [
    "                                     -//-"
   ]
  },
  {
   "cell_type": "markdown",
   "id": "8d7bbd63",
   "metadata": {},
   "source": [
    "## Lambda Expressions"
   ]
  },
  {
   "cell_type": "code",
   "execution_count": 12,
   "id": "78b78ef7",
   "metadata": {},
   "outputs": [
    {
     "name": "stdout",
     "output_type": "stream",
     "text": [
      "10\n"
     ]
    }
   ],
   "source": [
    "minha_funcao = lambda num: num * 2\n",
    "\n",
    "print(minha_funcao(5))"
   ]
  },
  {
   "cell_type": "code",
   "execution_count": 13,
   "id": "67023ee5",
   "metadata": {},
   "outputs": [
    {
     "name": "stdout",
     "output_type": "stream",
     "text": [
      "Function ->  130.0\n",
      "Lambda Expression ->  130.0\n"
     ]
    }
   ],
   "source": [
    "imposto = 0.3\n",
    "\n",
    "#Function\n",
    "def preco_imposto(preco):\n",
    "    return preco * (1 + imposto)\n",
    "\n",
    "#Lambda Expression\n",
    "preco_imposto2 = lambda preco: preco * (1 + imposto)\n",
    "\n",
    "print(\"Function -> \", preco_imposto(100))\n",
    "print(\"Lambda Expression -> \", preco_imposto2(100))"
   ]
  },
  {
   "cell_type": "markdown",
   "id": "1ab14450",
   "metadata": {},
   "source": [
    "                                     -//-"
   ]
  },
  {
   "cell_type": "markdown",
   "id": "93ba55c2",
   "metadata": {},
   "source": [
    "## PrincipaisAplicações de Lambda Expressions"
   ]
  },
  {
   "cell_type": "markdown",
   "id": "11ef658e",
   "metadata": {},
   "source": [
    "### Usar com ARGUMENTO em outra função"
   ]
  },
  {
   "cell_type": "code",
   "execution_count": 1,
   "id": "9d5d43e4",
   "metadata": {},
   "outputs": [],
   "source": [
    "preco_tecnologia = {'notebook asus': 2450, 'iphone': 4500, 'samsung galaxy': 3000, 'tv samsung': 1000, 'ps5': 3000, 'tablet': 1000, 'notebook dell': 3000, 'ipad': 3000, 'tv philco': 800, 'notebook hp': 1700}"
   ]
  },
  {
   "cell_type": "markdown",
   "id": "7bbcc420",
   "metadata": {},
   "source": [
    "#### MAP()"
   ]
  },
  {
   "cell_type": "markdown",
   "id": "18096de7",
   "metadata": {},
   "source": [
    "##### Fazendo por Function"
   ]
  },
  {
   "cell_type": "code",
   "execution_count": 2,
   "id": "a6397e48",
   "metadata": {},
   "outputs": [
    {
     "name": "stdout",
     "output_type": "stream",
     "text": [
      "[3185.0, 5850.0, 3900.0, 1300.0, 3900.0, 1300.0, 3900.0, 3900.0, 1040.0, 2210.0]\n"
     ]
    }
   ],
   "source": [
    "def calcular_preco(preco):\n",
    "    imposto = 0.3\n",
    "    return preco * (1+imposto)\n",
    "\n",
    "preco_com_imposto = list(map(calcular_preco, preco_tecnologia.values()))\n",
    "\n",
    "print(preco_com_imposto)"
   ]
  },
  {
   "cell_type": "markdown",
   "id": "b06fdae3",
   "metadata": {},
   "source": [
    "##### Fazendo por Lambda Expression"
   ]
  },
  {
   "cell_type": "code",
   "execution_count": 3,
   "id": "bd3c1d98",
   "metadata": {},
   "outputs": [
    {
     "name": "stdout",
     "output_type": "stream",
     "text": [
      "[3185.0, 5850.0, 3900.0, 1300.0, 3900.0, 1300.0, 3900.0, 3900.0, 1040.0, 2210.0]\n"
     ]
    }
   ],
   "source": [
    "imposto2 = 0.3\n",
    "\n",
    "preco_com_imposto2 = list(map(lambda preco: preco*(1+imposto2),\\\n",
    "                              preco_tecnologia.values()))\n",
    "\n",
    "print(preco_com_imposto2)"
   ]
  },
  {
   "cell_type": "markdown",
   "id": "2f17224e",
   "metadata": {},
   "source": [
    "#### FILTER()\n",
    "\n",
    "Queremos apenas os produtos que custam acima de 2000"
   ]
  },
  {
   "cell_type": "markdown",
   "id": "d1059ffc",
   "metadata": {},
   "source": [
    "##### Fazendo por Function"
   ]
  },
  {
   "cell_type": "code",
   "execution_count": 5,
   "id": "71b78a0c",
   "metadata": {},
   "outputs": [
    {
     "name": "stdout",
     "output_type": "stream",
     "text": [
      "{'notebook asus': 2450, 'iphone': 4500, 'samsung galaxy': 3000, 'ps5': 3000, 'notebook dell': 3000, 'ipad': 3000}\n"
     ]
    }
   ],
   "source": [
    "def eMaior2000(item):\n",
    "    return item[1] > 2000\n",
    "\n",
    "produtos_acima2000 = dict(list(filter(eMaior2000, preco_tecnologia.items())))\n",
    "\n",
    "print(produtos_acima2000)"
   ]
  },
  {
   "cell_type": "markdown",
   "id": "f2a184d4",
   "metadata": {},
   "source": [
    "##### Fazendo por Lambda Expression"
   ]
  },
  {
   "cell_type": "code",
   "execution_count": 6,
   "id": "2b463245",
   "metadata": {},
   "outputs": [
    {
     "ename": "NameError",
     "evalue": "name 'item' is not defined",
     "output_type": "error",
     "traceback": [
      "\u001b[1;31m---------------------------------------------------------------------------\u001b[0m",
      "\u001b[1;31mNameError\u001b[0m                                 Traceback (most recent call last)",
      "\u001b[1;32m~\\AppData\\Local\\Temp/ipykernel_13328/1856605286.py\u001b[0m in \u001b[0;36m<module>\u001b[1;34m\u001b[0m\n\u001b[1;32m----> 1\u001b[1;33m produtos_acima2000 = dict(list(filter(lambda eMaior2000: item[1]>2000,\\\n\u001b[0m\u001b[0;32m      2\u001b[0m                                       preco_tecnologia.items())))\n\u001b[0;32m      3\u001b[0m \u001b[1;33m\u001b[0m\u001b[0m\n\u001b[0;32m      4\u001b[0m \u001b[0mprint\u001b[0m\u001b[1;33m(\u001b[0m\u001b[0mprodutos_acima2000\u001b[0m\u001b[1;33m)\u001b[0m\u001b[1;33m\u001b[0m\u001b[1;33m\u001b[0m\u001b[0m\n",
      "\u001b[1;32m~\\AppData\\Local\\Temp/ipykernel_13328/1856605286.py\u001b[0m in \u001b[0;36m<lambda>\u001b[1;34m(eMaior2000)\u001b[0m\n\u001b[1;32m----> 1\u001b[1;33m produtos_acima2000 = dict(list(filter(lambda eMaior2000: item[1]>2000,\\\n\u001b[0m\u001b[0;32m      2\u001b[0m                                       preco_tecnologia.items())))\n\u001b[0;32m      3\u001b[0m \u001b[1;33m\u001b[0m\u001b[0m\n\u001b[0;32m      4\u001b[0m \u001b[0mprint\u001b[0m\u001b[1;33m(\u001b[0m\u001b[0mprodutos_acima2000\u001b[0m\u001b[1;33m)\u001b[0m\u001b[1;33m\u001b[0m\u001b[1;33m\u001b[0m\u001b[0m\n",
      "\u001b[1;31mNameError\u001b[0m: name 'item' is not defined"
     ]
    }
   ],
   "source": [
    "produtos_acima2000 = dict(list(filter(lambda item: item[1]>2000,\\\n",
    "                                      preco_tecnologia.items())))\n",
    "\n",
    "print(produtos_acima2000)"
   ]
  },
  {
   "cell_type": "markdown",
   "id": "3f9bc619",
   "metadata": {},
   "source": [
    "                                     -//-"
   ]
  },
  {
   "cell_type": "markdown",
   "id": "79741375",
   "metadata": {},
   "source": [
    "## Título 2"
   ]
  },
  {
   "cell_type": "code",
   "execution_count": null,
   "id": "1cafb912",
   "metadata": {},
   "outputs": [],
   "source": []
  },
  {
   "cell_type": "markdown",
   "id": "78e07867",
   "metadata": {},
   "source": [
    "                                     -//-"
   ]
  }
 ],
 "metadata": {
  "kernelspec": {
   "display_name": "Python 3 (ipykernel)",
   "language": "python",
   "name": "python3"
  },
  "language_info": {
   "codemirror_mode": {
    "name": "ipython",
    "version": 3
   },
   "file_extension": ".py",
   "mimetype": "text/x-python",
   "name": "python",
   "nbconvert_exporter": "python",
   "pygments_lexer": "ipython3",
   "version": "3.9.7"
  }
 },
 "nbformat": 4,
 "nbformat_minor": 5
}

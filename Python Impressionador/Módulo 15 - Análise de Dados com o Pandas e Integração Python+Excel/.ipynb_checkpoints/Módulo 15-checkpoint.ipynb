{
 "cells": [
  {
   "cell_type": "markdown",
   "id": "9bdde00d",
   "metadata": {},
   "source": [
    "# Módulo 15 - Análise de Dados com o Pandas e Integração Python + Excel"
   ]
  },
  {
   "cell_type": "markdown",
   "id": "1459e28b",
   "metadata": {},
   "source": [
    "## Título 2"
   ]
  },
  {
   "cell_type": "code",
   "execution_count": null,
   "id": "7dd1a5a7",
   "metadata": {},
   "outputs": [],
   "source": []
  },
  {
   "cell_type": "markdown",
   "id": "ac261fea",
   "metadata": {},
   "source": [
    "                                     -//-"
   ]
  },
  {
   "cell_type": "markdown",
   "id": "ff8a5637",
   "metadata": {},
   "source": [
    "## Título 2"
   ]
  },
  {
   "cell_type": "code",
   "execution_count": null,
   "id": "d56336fa",
   "metadata": {},
   "outputs": [],
   "source": []
  },
  {
   "cell_type": "markdown",
   "id": "0a72e11f",
   "metadata": {},
   "source": [
    "                                     -//-"
   ]
  },
  {
   "cell_type": "markdown",
   "id": "8d7bbd63",
   "metadata": {},
   "source": [
    "## Título 2"
   ]
  },
  {
   "cell_type": "code",
   "execution_count": null,
   "id": "78b78ef7",
   "metadata": {},
   "outputs": [],
   "source": []
  },
  {
   "cell_type": "markdown",
   "id": "1ab14450",
   "metadata": {},
   "source": [
    "                                     -//-"
   ]
  },
  {
   "cell_type": "markdown",
   "id": "93ba55c2",
   "metadata": {},
   "source": [
    "## Título 2"
   ]
  },
  {
   "cell_type": "code",
   "execution_count": null,
   "id": "1921f924",
   "metadata": {},
   "outputs": [],
   "source": []
  },
  {
   "cell_type": "markdown",
   "id": "3f9bc619",
   "metadata": {},
   "source": [
    "                                     -//-"
   ]
  },
  {
   "cell_type": "markdown",
   "id": "79741375",
   "metadata": {},
   "source": [
    "## Título 2"
   ]
  },
  {
   "cell_type": "code",
   "execution_count": null,
   "id": "1cafb912",
   "metadata": {},
   "outputs": [],
   "source": []
  },
  {
   "cell_type": "markdown",
   "id": "78e07867",
   "metadata": {},
   "source": [
    "                                     -//-"
   ]
  }
 ],
 "metadata": {
  "kernelspec": {
   "display_name": "Python 3 (ipykernel)",
   "language": "python",
   "name": "python3"
  },
  "language_info": {
   "codemirror_mode": {
    "name": "ipython",
    "version": 3
   },
   "file_extension": ".py",
   "mimetype": "text/x-python",
   "name": "python",
   "nbconvert_exporter": "python",
   "pygments_lexer": "ipython3",
   "version": "3.9.7"
  }
 },
 "nbformat": 4,
 "nbformat_minor": 5
}

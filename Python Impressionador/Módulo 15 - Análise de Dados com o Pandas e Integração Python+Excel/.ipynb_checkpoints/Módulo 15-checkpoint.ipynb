{
 "cells": [
  {
   "cell_type": "markdown",
   "id": "9bdde00d",
   "metadata": {},
   "source": [
    "# Módulo 15 - Análise de Dados com o Pandas e Integração Python + Excel"
   ]
  },
  {
   "cell_type": "markdown",
   "id": "ed048f98",
   "metadata": {},
   "source": [
    "## Importações"
   ]
  },
  {
   "cell_type": "code",
   "execution_count": 1,
   "id": "c259e0ca",
   "metadata": {},
   "outputs": [],
   "source": [
    "import pandas as pd"
   ]
  },
  {
   "cell_type": "markdown",
   "id": "1459e28b",
   "metadata": {},
   "source": [
    "## Pandas e .csv"
   ]
  },
  {
   "cell_type": "code",
   "execution_count": 5,
   "id": "7dd1a5a7",
   "metadata": {},
   "outputs": [
    {
     "data": {
      "text/html": [
       "<div>\n",
       "<style scoped>\n",
       "    .dataframe tbody tr th:only-of-type {\n",
       "        vertical-align: middle;\n",
       "    }\n",
       "\n",
       "    .dataframe tbody tr th {\n",
       "        vertical-align: top;\n",
       "    }\n",
       "\n",
       "    .dataframe thead th {\n",
       "        text-align: right;\n",
       "    }\n",
       "</style>\n",
       "<table border=\"1\" class=\"dataframe\">\n",
       "  <thead>\n",
       "    <tr style=\"text-align: right;\">\n",
       "      <th></th>\n",
       "      <th>Numero da Venda;Data da Venda;Data do Envio;ID Canal;ID Loja;ID Produto;ID Promocao;ID Cliente;Quantidade Vendida;Quantidade Devolvida</th>\n",
       "    </tr>\n",
       "  </thead>\n",
       "  <tbody>\n",
       "    <tr>\n",
       "      <th>0</th>\n",
       "      <td>1;01/01/2017;02/01/2017;1;86;981;2;6825;9;1</td>\n",
       "    </tr>\n",
       "    <tr>\n",
       "      <th>1</th>\n",
       "      <td>2;01/01/2017;06/01/2017;5;308;1586;2;18469;9;1</td>\n",
       "    </tr>\n",
       "    <tr>\n",
       "      <th>2</th>\n",
       "      <td>3;01/01/2017;01/01/2017;0;294;1444;5;19730;13;1</td>\n",
       "    </tr>\n",
       "    <tr>\n",
       "      <th>3</th>\n",
       "      <td>4;01/01/2017;01/01/2017;0;251;1468;5;29326;6;1</td>\n",
       "    </tr>\n",
       "    <tr>\n",
       "      <th>4</th>\n",
       "      <td>5;01/01/2017;07/01/2017;6;94;1106;2;22617;4;1</td>\n",
       "    </tr>\n",
       "    <tr>\n",
       "      <th>...</th>\n",
       "      <td>...</td>\n",
       "    </tr>\n",
       "    <tr>\n",
       "      <th>980637</th>\n",
       "      <td>980638;31/12/2017;31/12/2017;0;194;2490;4;1035...</td>\n",
       "    </tr>\n",
       "    <tr>\n",
       "      <th>980638</th>\n",
       "      <td>980639;31/12/2017;06/01/2018;6;32;2488;4;31750...</td>\n",
       "    </tr>\n",
       "    <tr>\n",
       "      <th>980639</th>\n",
       "      <td>980640;31/12/2017;03/01/2018;3;210;2511;10;120...</td>\n",
       "    </tr>\n",
       "    <tr>\n",
       "      <th>980640</th>\n",
       "      <td>980641;31/12/2017;31/12/2017;0;53;436;4;25550;...</td>\n",
       "    </tr>\n",
       "    <tr>\n",
       "      <th>980641</th>\n",
       "      <td>980642;31/12/2017;31/12/2017;0;309;2510;10;287...</td>\n",
       "    </tr>\n",
       "  </tbody>\n",
       "</table>\n",
       "<p>980642 rows × 1 columns</p>\n",
       "</div>"
      ],
      "text/plain": [
       "       Numero da Venda;Data da Venda;Data do Envio;ID Canal;ID Loja;ID Produto;ID Promocao;ID Cliente;Quantidade Vendida;Quantidade Devolvida\n",
       "0             1;01/01/2017;02/01/2017;1;86;981;2;6825;9;1                                                                                    \n",
       "1          2;01/01/2017;06/01/2017;5;308;1586;2;18469;9;1                                                                                    \n",
       "2         3;01/01/2017;01/01/2017;0;294;1444;5;19730;13;1                                                                                    \n",
       "3          4;01/01/2017;01/01/2017;0;251;1468;5;29326;6;1                                                                                    \n",
       "4           5;01/01/2017;07/01/2017;6;94;1106;2;22617;4;1                                                                                    \n",
       "...                                                   ...                                                                                    \n",
       "980637  980638;31/12/2017;31/12/2017;0;194;2490;4;1035...                                                                                    \n",
       "980638  980639;31/12/2017;06/01/2018;6;32;2488;4;31750...                                                                                    \n",
       "980639  980640;31/12/2017;03/01/2018;3;210;2511;10;120...                                                                                    \n",
       "980640  980641;31/12/2017;31/12/2017;0;53;436;4;25550;...                                                                                    \n",
       "980641  980642;31/12/2017;31/12/2017;0;309;2510;10;287...                                                                                    \n",
       "\n",
       "[980642 rows x 1 columns]"
      ]
     },
     "execution_count": 5,
     "metadata": {},
     "output_type": "execute_result"
    }
   ],
   "source": [
    "vendas_df = pd.read_csv('Contoso - Vendas - 2017.csv', sep=';')\n",
    "\n",
    "vendas_df"
   ]
  },
  {
   "cell_type": "markdown",
   "id": "ac261fea",
   "metadata": {},
   "source": [
    "                                     -//-"
   ]
  },
  {
   "cell_type": "markdown",
   "id": "ff8a5637",
   "metadata": {},
   "source": [
    "## Título 2"
   ]
  },
  {
   "cell_type": "code",
   "execution_count": null,
   "id": "d56336fa",
   "metadata": {},
   "outputs": [],
   "source": []
  },
  {
   "cell_type": "markdown",
   "id": "0a72e11f",
   "metadata": {},
   "source": [
    "                                     -//-"
   ]
  },
  {
   "cell_type": "markdown",
   "id": "8d7bbd63",
   "metadata": {},
   "source": [
    "## Título 2"
   ]
  },
  {
   "cell_type": "code",
   "execution_count": null,
   "id": "78b78ef7",
   "metadata": {},
   "outputs": [],
   "source": []
  },
  {
   "cell_type": "markdown",
   "id": "1ab14450",
   "metadata": {},
   "source": [
    "                                     -//-"
   ]
  },
  {
   "cell_type": "markdown",
   "id": "93ba55c2",
   "metadata": {},
   "source": [
    "## Título 2"
   ]
  },
  {
   "cell_type": "code",
   "execution_count": null,
   "id": "1921f924",
   "metadata": {},
   "outputs": [],
   "source": []
  },
  {
   "cell_type": "markdown",
   "id": "3f9bc619",
   "metadata": {},
   "source": [
    "                                     -//-"
   ]
  },
  {
   "cell_type": "markdown",
   "id": "79741375",
   "metadata": {},
   "source": [
    "## Título 2"
   ]
  },
  {
   "cell_type": "code",
   "execution_count": null,
   "id": "1cafb912",
   "metadata": {},
   "outputs": [],
   "source": []
  },
  {
   "cell_type": "markdown",
   "id": "78e07867",
   "metadata": {},
   "source": [
    "                                     -//-"
   ]
  }
 ],
 "metadata": {
  "kernelspec": {
   "display_name": "Python 3 (ipykernel)",
   "language": "python",
   "name": "python3"
  },
  "language_info": {
   "codemirror_mode": {
    "name": "ipython",
    "version": 3
   },
   "file_extension": ".py",
   "mimetype": "text/x-python",
   "name": "python",
   "nbconvert_exporter": "python",
   "pygments_lexer": "ipython3",
   "version": "3.9.7"
  }
 },
 "nbformat": 4,
 "nbformat_minor": 5
}

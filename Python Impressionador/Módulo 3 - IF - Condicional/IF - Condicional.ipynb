{
 "cells": [
  {
   "cell_type": "markdown",
   "metadata": {},
   "source": [
    "# Condições no Python - IF\n",
    "\n",
    "## Estrutura\n",
    "\n",
    "### Uso mais simples"
   ]
  },
  {
   "cell_type": "raw",
   "metadata": {},
   "source": [
    "if CONDIÇÃO:\n",
    "    COMANDO - caso a condição seja verdadeira"
   ]
  },
  {
   "cell_type": "markdown",
   "metadata": {},
   "source": [
    "### Exemplo Real (informações 100% hipotéticas e inventadas):\n",
    "\n",
    "Digamos que você trabalha na Amazon (que tem centenas de milhares, se não milhões de produtos) e está analisando o resultado de vendas dos produtos.\n",
    "\n",
    "Você precisa criar um programa que vai analisar o resultado de vendas dos produtos da Amazon em um mês. Para simplificar vamos pensar em um único produto: um Iphone.\n",
    "\n",
    "Meta de Vendas do Iphone = 50.000 unidades<br>\n",
    "Quantidade vendida no Mês = 65.300 unidades\n",
    "\n",
    "O seu programa deve avisar (usaremos o print por enquanto) caso o produto tenha batido a meta do mês. Então devemos fazer:<br>\n",
    "- Caso o produto tenha batido a meta, devemos exibir a mensagem: \"Batemos a meta de vendas de Iphone, vendemos {} unidades\" \n",
    "- Se ele não bateu a meta do mês, o seu programa não deve fazer nada"
   ]
  },
  {
   "cell_type": "code",
   "execution_count": 1,
   "metadata": {},
   "outputs": [
    {
     "name": "stdout",
     "output_type": "stream",
     "text": [
      "Batemos a meta de vendas de iPhone, vendemos 65300 unidades!!\n"
     ]
    }
   ],
   "source": [
    "meta_vendas = 50000 \n",
    "\n",
    "qtd_vendas = 65300\n",
    "\n",
    "if qtd_vendas > meta_vendas:\n",
    "    print(\"Batemos a meta de vendas de iPhone, vendemos {} unidades!!\".format(qtd_vendas))"
   ]
  },
  {
   "cell_type": "markdown",
   "metadata": {},
   "source": [
    "### Tratando a condição falsa"
   ]
  },
  {
   "cell_type": "raw",
   "metadata": {},
   "source": [
    "if CONDIÇÃO:\n",
    "    COMANDO -  caso a condição seja verdadeira\n",
    "else:\n",
    "    COMANDO -  caso a condição seja falsa"
   ]
  },
  {
   "cell_type": "markdown",
   "metadata": {},
   "source": [
    "Voltando ao nosso Exemplo Real da Amazon e do Iphone, agora nossa programa deve avisar nos 2 casos:\n",
    "- Caso o produto tenha batido a meta, devemos exibir a mensagem: \"Batemos a meta de vendas de Iphone, vendemos {} unidades\" \n",
    "- Se ele não bateu a meta do mês, devemos exibir a mensagem: \"Infelizmente não batemos a meta, vendemos {} unidades. A meta era de {} unidades\""
   ]
  },
  {
   "cell_type": "code",
   "execution_count": 4,
   "metadata": {},
   "outputs": [
    {
     "name": "stdout",
     "output_type": "stream",
     "text": [
      "Infelizmente não batemos a meta de vendas de iPhone, vendemos 30000 unidades e a meta era 50000\n"
     ]
    }
   ],
   "source": [
    "meta_vendas = 50000 \n",
    "\n",
    "qtd_vendas = 30000\n",
    "\n",
    "if qtd_vendas > meta_vendas:\n",
    "    print(\"Batemos a meta de vendas de iPhone, vendemos {} unidades!!\".format(qtd_vendas))\n",
    "else:\n",
    "    print(\"Infelizmente não batemos a meta de vendas de iPhone, vendemos {} unidades e a meta era {}\" \\\n",
    "          .format(qtd_vendas, meta_vendas))"
   ]
  },
  {
   "cell_type": "markdown",
   "metadata": {},
   "source": [
    "                                  -//-"
   ]
  },
  {
   "cell_type": "markdown",
   "metadata": {},
   "source": [
    "## Blocos e Endentação"
   ]
  },
  {
   "cell_type": "markdown",
   "metadata": {},
   "source": [
    "### Várias ações em 1 IF"
   ]
  },
  {
   "cell_type": "markdown",
   "metadata": {},
   "source": [
    "### Exemplo\n",
    "Vamos fazer um novo exemplo abaixo:\n",
    "\n",
    "Digamos que você precisa criar um programa para um fundo de investimentos conseguir avaliar o resultado de uma carteira de ações e o quanto de taxa deverá ser pago.\n",
    "\n",
    "A regra desse fundo de investimentos é:\n",
    "\n",
    "- O fundo se compromete a entregar no mínimo 5% de retorno ao ano.\n",
    "- Caso o fundo não consiga entregar os 5% de retorno, ele não pode cobrar taxa dos seus investidores.\n",
    "- Caso o fundo consiga entregar mais de 5% de retorno, ele irá cobrar 2% de taxa dos seus investidores.\n",
    "- Caso o fundo consiga mais de 20% de retorno, ele irá cobrar 4% de taxa dos seus investidores."
   ]
  },
  {
   "cell_type": "markdown",
   "metadata": {},
   "source": [
    "### Mais de uma condição ao mesmo tempo"
   ]
  },
  {
   "cell_type": "code",
   "execution_count": 17,
   "metadata": {},
   "outputs": [
    {
     "name": "stdout",
     "output_type": "stream",
     "text": [
      "O retorno foi de 0.3. Aplicar taxa de 0.04 nos investidores\n"
     ]
    }
   ],
   "source": [
    "meta = 0.05\n",
    "\n",
    "rendimento = 0.3\n",
    "\n",
    "if rendimento > 0.05:\n",
    "    if rendimento > 0.2:\n",
    "        taxa = 0.04\n",
    "        print(\"O retorno foi de {}. Aplicar taxa de {} nos investidores\".format(rendimento, taxa))\n",
    "    else:\n",
    "        taxa = 0.02\n",
    "        print(\"O retorno foi de {}. Aplicar taxa de {} nos investidores\".format(rendimento, taxa))\n",
    "else:\n",
    "    print(\"O retorno foi de {}. Não é possível aplicar taxa nos investidores\".format(rendimento))"
   ]
  },
  {
   "cell_type": "markdown",
   "metadata": {},
   "source": [
    "                                  -//-"
   ]
  },
  {
   "cell_type": "markdown",
   "metadata": {},
   "source": [
    "## ELIF"
   ]
  },
  {
   "cell_type": "markdown",
   "metadata": {},
   "source": [
    "### Exemplo:\n",
    "\n",
    "Vamos criar um programa para analisar o bônus dos funcionários de uma empresa (pode parecer \"simples\", mas uma empresa como a Amazon tem 900.000 funcionários)\n",
    "\n",
    "Para os cargos de vendedores, a regra do bônus é de acordo com a meta de vendas da pessoa:\n",
    "\n",
    "Se ela vendeu abaixo da meta dela, ela não ganha bônus.\n",
    "\n",
    "Se ela vendeu acima da meta dela, ela ganha como bônus 3% do valor que ela vendeu.\n",
    "\n",
    "Se ela vendeu mais do que o dobro da meta dela, ela ganha como bônus 7% do valor que ela vendeu.\n",
    "\n",
    "Vamos criar um programa para avaliar uma pessoa que tinha como meta de vendas 20.000 reais e calcular o bônus dela de acordo com o valor de vendas que ela tiver."
   ]
  },
  {
   "cell_type": "code",
   "execution_count": 9,
   "metadata": {},
   "outputs": [
    {
     "name": "stdout",
     "output_type": "stream",
     "text": [
      "Você bateu a meta, a quantia vendida foi de 50000 unidades e o bônus será de 3500.0000000000005\n"
     ]
    }
   ],
   "source": [
    "meta = 20000\n",
    "\n",
    "vendas = 50000\n",
    "\n",
    "if vendas < meta:\n",
    "    print(\"Você não bateu a meta, a quantia vendida foi de {} unidades e a meta era de {}\"\\\n",
    "          .format(vendas, meta))\n",
    "elif vendas > (meta * 2):\n",
    "    bonus = 0.07 * vendas\n",
    "    print(\"Você bateu a meta, a quantia vendida foi de {} unidades e o bônus será de {}\"\\\n",
    "          .format(vendas, bonus))   \n",
    "else:\n",
    "    bonus = 0.03 * vendas\n",
    "    print(\"Você bateu a meta, a quantia vendida foi de {} unidades e o bônus será de {}\"\\\n",
    "          .format(vendas, bonus))"
   ]
  },
  {
   "cell_type": "markdown",
   "metadata": {},
   "source": [
    "                                  -//-"
   ]
  },
  {
   "cell_type": "markdown",
   "metadata": {},
   "source": [
    "## Comparadores"
   ]
  },
  {
   "cell_type": "code",
   "execution_count": 12,
   "metadata": {},
   "outputs": [
    {
     "name": "stdout",
     "output_type": "stream",
     "text": [
      "Programa 1\n",
      "Os faturamentos são diferentes\n"
     ]
    }
   ],
   "source": [
    "faturamento_loja_1 = 2500\n",
    "faturamento_loja_2 = 2200\n",
    "email = \"giogmail.com\"\n",
    "\n",
    "print('Programa 1')\n",
    "if faturamento_loja_1 == faturamento_loja_2:\n",
    "    print('Os faturamentos são iguais')\n",
    "else:\n",
    "    print('Os faturamentos são diferentes')"
   ]
  },
  {
   "cell_type": "code",
   "execution_count": 14,
   "metadata": {},
   "outputs": [
    {
     "name": "stdout",
     "output_type": "stream",
     "text": [
      "Programa 2\n",
      "Esse não é o email da Gio\n"
     ]
    }
   ],
   "source": [
    "print('Programa 2')\n",
    "if email != 'gio@gmail.com':\n",
    "    print('Esse não é o email da Gio')\n",
    "else:\n",
    "    print('Email errado')"
   ]
  },
  {
   "cell_type": "code",
   "execution_count": 16,
   "metadata": {},
   "outputs": [
    {
     "name": "stdout",
     "output_type": "stream",
     "text": [
      "Programa 3\n",
      "Insira seu e-mail:giogmail.com\n",
      "Email Inválido\n"
     ]
    }
   ],
   "source": [
    "print('Programa 3')\n",
    "email_usuario = input('Insira seu e-mail:')\n",
    "if not '@' in email_usuario:\n",
    "    print('Email Inválido')\n",
    "else:\n",
    "    pass"
   ]
  },
  {
   "cell_type": "markdown",
   "metadata": {},
   "source": [
    "                                  -//-"
   ]
  },
  {
   "cell_type": "markdown",
   "metadata": {},
   "source": [
    "## AND e OR"
   ]
  },
  {
   "cell_type": "markdown",
   "metadata": {},
   "source": [
    "### Exemplo\n",
    "\n",
    "Vamos voltar ao exemplo de cálculo de meta de vendas dos funcionários. Muitas empresas atribuem bonificação do salário dos funcionários de acordo com o resultado do funcionário e também com o resultado da empresa como um todo.\n",
    "\n",
    "Nesse caso, a regra funciona da seguinte forma:\n",
    "- Se o funcionário vendeu mais do que a meta de vendas e a loja bateu a meta de vendas da loja, o funcionário ganha 3% do que ele vendeu em forma de bônus.\n",
    "- Caso o funcionário tenha batido a meta de vendas individual dele, mas a loja não tenha batido a meta de vendas da loja como um todo, o funcionário não ganha bônus."
   ]
  },
  {
   "cell_type": "code",
   "execution_count": 21,
   "metadata": {},
   "outputs": [
    {
     "name": "stdout",
     "output_type": "stream",
     "text": [
      "O funcionário não ganhou bônus.\n"
     ]
    }
   ],
   "source": [
    "meta_funcionario = 10000\n",
    "\n",
    "meta_loja = 250000\n",
    "\n",
    "vendas_funcionario = 10000\n",
    "\n",
    "vendas_loja = 200000\n",
    "\n",
    "if vendas_funcionario > meta_funcionario and vendas_loja > meta_loja:\n",
    "    bonus = 0.03 * vendas_funcionario\n",
    "    print(\"O bõnus do funcionário foi de {}\".format(bonus))\n",
    "else:\n",
    "    print(\"O funcionário não ganhou bônus.\")"
   ]
  },
  {
   "cell_type": "markdown",
   "metadata": {},
   "source": [
    "### Exemplo 2\n",
    "\n",
    "Agora vamos levar essa análise mais a fundo.\n",
    "\n",
    "Nessa empresa, existe um outro caso também que garante que o funcionário ganhe um bônus, independente das vendas que ele fez naquele mês.\n",
    "\n",
    "Todo mês os diretores da empresa fazem uma avaliação qualitativa de todos os funcionários. Nessa avaliação os diretores dão uma nota de 0 a 10 para cada funcionário. Se a nota do funcionário for 9 ou 10, ele também ganha o bônus de 3% do valor de vendas. (os bônus não são cumulativos)"
   ]
  },
  {
   "cell_type": "code",
   "execution_count": 23,
   "metadata": {},
   "outputs": [
    {
     "name": "stdout",
     "output_type": "stream",
     "text": [
      "O bõnus do funcionário foi de 300.0\n"
     ]
    }
   ],
   "source": [
    "meta_funcionario = 10000\n",
    "\n",
    "meta_loja = 250000\n",
    "\n",
    "vendas_funcionario = 10000\n",
    "\n",
    "vendas_loja = 200000\n",
    "\n",
    "nota_funcionario = 10\n",
    "\n",
    "meta_nota = 9\n",
    "\n",
    "if nota_funcionario > meta_nota or\\\n",
    "(vendas_funcionario > meta_funcionario and vendas_loja > meta_loja):\n",
    "    bonus = 0.03 * vendas_funcionario\n",
    "    print(\"O bõnus do funcionário foi de {}\".format(bonus))\n",
    "else:\n",
    "    print(\"O funcionário não ganhou bônus.\")"
   ]
  },
  {
   "cell_type": "markdown",
   "metadata": {},
   "source": [
    "                                  -//-"
   ]
  },
  {
   "cell_type": "markdown",
   "metadata": {},
   "source": [
    "## Comparações contraintuitivas"
   ]
  },
  {
   "cell_type": "markdown",
   "metadata": {},
   "source": [
    "### Exemplo\n",
    "\n",
    "Digamos que você está construindo um sistema de controle de vendas e precisa de algumas informações para fazer o cálculo do resultado da loja no fim de um mês."
   ]
  },
  {
   "cell_type": "code",
   "execution_count": 26,
   "metadata": {
    "scrolled": true
   },
   "outputs": [
    {
     "name": "stdout",
     "output_type": "stream",
     "text": [
      "Qual foi o faturamento da loja nesse mês?10\n",
      "Qual foi o custo da loja nesse mês?10\n",
      "O lucro da loja foi de 0 reais\n"
     ]
    }
   ],
   "source": [
    "faturamento = input('Qual foi o faturamento da loja nesse mês?')\n",
    "custo = input('Qual foi o custo da loja nesse mês?')\n",
    "\n",
    "\n",
    "if faturamento == \"\" or custo == \"\":\n",
    "    print(\"Preencha o faturamento e o custo corretamente\")\n",
    "    \n",
    "lucro = int(faturamento) - int(custo)\n",
    "\n",
    "print(\"O lucro da loja foi de {} reais\".format(lucro))"
   ]
  },
  {
   "cell_type": "code",
   "execution_count": 28,
   "metadata": {},
   "outputs": [
    {
     "name": "stdout",
     "output_type": "stream",
     "text": [
      "Qual foi o faturamento da loja nesse mês?10\n",
      "Qual foi o custo da loja nesse mês?10\n",
      "O lucro da loja foi de 0 reais\n"
     ]
    }
   ],
   "source": [
    "faturamento = input('Qual foi o faturamento da loja nesse mês?')\n",
    "custo = input('Qual foi o custo da loja nesse mês?')\n",
    "\n",
    "\n",
    "if faturamento and custo:   \n",
    "    lucro = int(faturamento) - int(custo)\n",
    "    print(\"O lucro da loja foi de {} reais\".format(lucro))\n",
    "else:\n",
    "    print(\"Preencha o faturamento e o custo corretamente\")"
   ]
  }
 ],
 "metadata": {
  "kernelspec": {
   "display_name": "Python 3 (ipykernel)",
   "language": "python",
   "name": "python3"
  },
  "language_info": {
   "codemirror_mode": {
    "name": "ipython",
    "version": 3
   },
   "file_extension": ".py",
   "mimetype": "text/x-python",
   "name": "python",
   "nbconvert_exporter": "python",
   "pygments_lexer": "ipython3",
   "version": "3.9.7"
  }
 },
 "nbformat": 4,
 "nbformat_minor": 4
}

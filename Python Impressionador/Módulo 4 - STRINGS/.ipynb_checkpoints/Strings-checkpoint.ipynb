{
 "cells": [
  {
   "cell_type": "markdown",
   "id": "f3bc9c7c",
   "metadata": {},
   "source": [
    "# Módulo 4 - Strings"
   ]
  },
  {
   "cell_type": "code",
   "execution_count": 3,
   "id": "4a58cf37",
   "metadata": {},
   "outputs": [],
   "source": [
    "Texto = \"Gio\""
   ]
  },
  {
   "cell_type": "markdown",
   "id": "7192ddd7",
   "metadata": {},
   "source": [
    "## Índice e Tamanho"
   ]
  },
  {
   "cell_type": "code",
   "execution_count": 1,
   "id": "0d727eaf",
   "metadata": {},
   "outputs": [
    {
     "name": "stdout",
     "output_type": "stream",
     "text": [
      "g\n",
      " \n",
      "v\n",
      " \n",
      "18\n",
      " \n",
      "8\n"
     ]
    }
   ],
   "source": [
    "email = \"giovanna@email.com\"\n",
    "\n",
    "nome = \"Giovanna\"\n",
    "\n",
    "print(email[0])\n",
    "\n",
    "print(\" \")\n",
    "\n",
    "print(email[3])\n",
    "\n",
    "print(\" \")\n",
    "\n",
    "print(len(email))\n",
    "\n",
    "print(\" \")\n",
    "\n",
    "print(len(nome))"
   ]
  },
  {
   "cell_type": "markdown",
   "id": "8fad1065",
   "metadata": {},
   "source": [
    "                               -//-"
   ]
  },
  {
   "cell_type": "markdown",
   "id": "cc369733",
   "metadata": {},
   "source": [
    "## Índice negativo e Pedaço de texto"
   ]
  },
  {
   "cell_type": "code",
   "execution_count": 8,
   "id": "4aaf6d5a",
   "metadata": {},
   "outputs": [
    {
     "name": "stdout",
     "output_type": "stream",
     "text": [
      "Tamanho do e-mail 14 caracteres\n",
      "Primeiro Caractere g\n",
      "Último Caractere m\n",
      "Servidor do email gmail.com\n"
     ]
    }
   ],
   "source": [
    "email = 'gioo@gmail.com'\n",
    "\n",
    "nome = 'Giovanna'\n",
    "\n",
    "print('Tamanho do e-mail ' + str(len(email)) + ' caracteres')\n",
    "\n",
    "print('Primeiro Caractere ' + email[0])\n",
    "\n",
    "print('Último Caractere ' + email[-1])\n",
    "\n",
    "print('Servidor do email ' + email[5:])"
   ]
  },
  {
   "cell_type": "markdown",
   "id": "aabc756c",
   "metadata": {},
   "source": [
    "                               -//-"
   ]
  },
  {
   "cell_type": "markdown",
   "id": "5419e45f",
   "metadata": {},
   "source": [
    "## Operações"
   ]
  },
  {
   "cell_type": "code",
   "execution_count": 2,
   "id": "77b976a1",
   "metadata": {},
   "outputs": [],
   "source": [
    "faturamento = 1000\n",
    "custo = 500\n",
    "lucro = faturamento - custo"
   ]
  },
  {
   "cell_type": "code",
   "execution_count": 4,
   "id": "82b54980",
   "metadata": {},
   "outputs": [
    {
     "name": "stdout",
     "output_type": "stream",
     "text": [
      "O faturamento da loja foi de: 1000\n"
     ]
    }
   ],
   "source": [
    "print ('O faturamento da loja foi de: ' + str(faturamento))"
   ]
  },
  {
   "cell_type": "code",
   "execution_count": 9,
   "id": "74bf6e5c",
   "metadata": {},
   "outputs": [
    {
     "name": "stdout",
     "output_type": "stream",
     "text": [
      "O faturamento foi de 1000. O custo foi de 500. O lucro foi de 500. Lembrando, o faturamento foi de 1000.\n"
     ]
    }
   ],
   "source": [
    "print('O faturamento foi de {0}. O custo foi de {1}. O lucro foi de {2}. Lembrando, o faturamento foi de {0}.' \\\n",
    "      .format(faturamento, custo, lucro))"
   ]
  },
  {
   "cell_type": "code",
   "execution_count": 10,
   "id": "40ca40e1",
   "metadata": {},
   "outputs": [
    {
     "name": "stdout",
     "output_type": "stream",
     "text": [
      "O faturamento foi de: 1000\n"
     ]
    }
   ],
   "source": [
    "print ('O faturamento foi de: %d' % faturamento)"
   ]
  },
  {
   "cell_type": "code",
   "execution_count": 11,
   "id": "37275283",
   "metadata": {},
   "outputs": [
    {
     "name": "stdout",
     "output_type": "stream",
     "text": [
      "O faturamento foi de: 1000 reais\n"
     ]
    }
   ],
   "source": [
    "print ('O faturamento foi de: %s' % \"1000 reais\")"
   ]
  },
  {
   "cell_type": "code",
   "execution_count": 12,
   "id": "44dc0074",
   "metadata": {},
   "outputs": [
    {
     "name": "stdout",
     "output_type": "stream",
     "text": [
      "True\n",
      "False\n"
     ]
    }
   ],
   "source": [
    "print('@' in 'gio@gmail.com')\n",
    "print('@' in 'gio.gmail.com')"
   ]
  },
  {
   "cell_type": "markdown",
   "id": "541c1ad9",
   "metadata": {},
   "source": [
    "                               -//-"
   ]
  },
  {
   "cell_type": "markdown",
   "id": "d96ceada",
   "metadata": {},
   "source": [
    "## Formatação de números"
   ]
  },
  {
   "cell_type": "markdown",
   "id": "0fa9b95f",
   "metadata": {},
   "source": [
    "### Alinhamento"
   ]
  },
  {
   "cell_type": "code",
   "execution_count": 13,
   "id": "d9aedc33",
   "metadata": {},
   "outputs": [
    {
     "name": "stdout",
     "output_type": "stream",
     "text": [
      "Meu e-mail não é gio@gmail.com                 , show?\n"
     ]
    }
   ],
   "source": [
    "email = 'gio@gmail.com'\n",
    "print('Meu e-mail não é {:<30}, show?'.format(email))"
   ]
  },
  {
   "cell_type": "markdown",
   "id": "d9acccdb",
   "metadata": {},
   "source": [
    "### Edição de sinal"
   ]
  },
  {
   "cell_type": "code",
   "execution_count": 14,
   "id": "ed5b1af4",
   "metadata": {},
   "outputs": [
    {
     "name": "stdout",
     "output_type": "stream",
     "text": [
      "Faturamento foi +270 e lucro foi -230\n"
     ]
    }
   ],
   "source": [
    "custo = 500\n",
    "faturamento = 270\n",
    "lucro = faturamento - custo\n",
    "print('Faturamento foi {:+} e lucro foi {:+}'.format(faturamento, lucro))"
   ]
  },
  {
   "cell_type": "markdown",
   "id": "4271b145",
   "metadata": {},
   "source": [
    "### Separador de milhar"
   ]
  },
  {
   "cell_type": "code",
   "execution_count": 18,
   "id": "f62bb25c",
   "metadata": {},
   "outputs": [
    {
     "name": "stdout",
     "output_type": "stream",
     "text": [
      "Faturamento foi 2,700 e lucro foi -2,300\n"
     ]
    }
   ],
   "source": [
    "custo = 5000\n",
    "faturamento = 2700\n",
    "lucro = faturamento - custo\n",
    "print('Faturamento foi {:,} e lucro foi {:,}'.format(faturamento, lucro))"
   ]
  },
  {
   "cell_type": "markdown",
   "id": "bb43f266",
   "metadata": {},
   "source": [
    "### Casas decimais fixas"
   ]
  },
  {
   "cell_type": "code",
   "execution_count": 20,
   "id": "0bcac04e",
   "metadata": {},
   "outputs": [
    {
     "name": "stdout",
     "output_type": "stream",
     "text": [
      "Faturamento foi 270.00 e lucro foi -230.00\n"
     ]
    }
   ],
   "source": [
    "custo = 500\n",
    "faturamento = 270\n",
    "lucro = faturamento - custo\n",
    "print('Faturamento foi {:.2f} e lucro foi {:.2f}'.format(faturamento, lucro))"
   ]
  },
  {
   "cell_type": "markdown",
   "id": "5afb68c1",
   "metadata": {},
   "source": [
    "### Percentual"
   ]
  },
  {
   "cell_type": "code",
   "execution_count": 21,
   "id": "57231eef",
   "metadata": {},
   "outputs": [
    {
     "name": "stdout",
     "output_type": "stream",
     "text": [
      "Margem de lucro foi de 61.54%\n"
     ]
    }
   ],
   "source": [
    "custo = 500\n",
    "faturamento = 1300\n",
    "lucro = faturamento - custo\n",
    "margem = lucro / faturamento\n",
    "print('Margem de lucro foi de {:.2%}'.format(margem))"
   ]
  },
  {
   "cell_type": "markdown",
   "id": "40551ece",
   "metadata": {},
   "source": [
    "### Moeda"
   ]
  },
  {
   "cell_type": "code",
   "execution_count": 22,
   "id": "2737e54a",
   "metadata": {},
   "outputs": [
    {
     "name": "stdout",
     "output_type": "stream",
     "text": [
      "Faturamento foi R$27,000.00 e lucro foi R$22,000.00\n",
      "R$22.000,00\n"
     ]
    }
   ],
   "source": [
    "custo = 5000\n",
    "faturamento = 27000\n",
    "lucro = faturamento - custo\n",
    "print('Faturamento foi R${:,.2f} e lucro foi R${:,.2f}'.format(faturamento, lucro))\n",
    "\n",
    "#transformando no formato brasileiro\n",
    "lucro_texto = 'R${:_.2f}'.format(lucro)\n",
    "print(lucro_texto.replace('.', ',').replace('_', '.'))"
   ]
  },
  {
   "cell_type": "markdown",
   "id": "c29b9b27",
   "metadata": {},
   "source": [
    "### Arredondamento"
   ]
  },
  {
   "cell_type": "code",
   "execution_count": 23,
   "id": "f6be207f",
   "metadata": {},
   "outputs": [
    {
     "name": "stdout",
     "output_type": "stream",
     "text": [
      "Imposto sobre o preço é de 15.8\n"
     ]
    }
   ],
   "source": [
    "imposto = 0.15758\n",
    "preco = 100\n",
    "valor_imposto = round(preco * imposto, 1)\n",
    "print('Imposto sobre o preço é de {}'.format(valor_imposto))"
   ]
  }
 ],
 "metadata": {
  "kernelspec": {
   "display_name": "Python 3 (ipykernel)",
   "language": "python",
   "name": "python3"
  },
  "language_info": {
   "codemirror_mode": {
    "name": "ipython",
    "version": 3
   },
   "file_extension": ".py",
   "mimetype": "text/x-python",
   "name": "python",
   "nbconvert_exporter": "python",
   "pygments_lexer": "ipython3",
   "version": "3.9.7"
  }
 },
 "nbformat": 4,
 "nbformat_minor": 5
}

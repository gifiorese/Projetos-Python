{
 "cells": [
  {
   "cell_type": "markdown",
   "id": "925143fb",
   "metadata": {},
   "source": [
    "# Módulo 5 - Listas"
   ]
  },
  {
   "cell_type": "markdown",
   "id": "8f0ceeb4",
   "metadata": {},
   "source": [
    "## Exemplos"
   ]
  },
  {
   "cell_type": "code",
   "execution_count": 4,
   "id": "82a1cf0e",
   "metadata": {},
   "outputs": [
    {
     "name": "stdout",
     "output_type": "stream",
     "text": [
      "['tv', 'celular', 'mouse', 'teclado', 'tablet']\n"
     ]
    }
   ],
   "source": [
    "produtos = ['tv', 'celular', 'mouse', 'teclado', 'tablet']\n",
    "\n",
    "print(produtos)"
   ]
  },
  {
   "cell_type": "code",
   "execution_count": 5,
   "id": "30e0bb1e",
   "metadata": {},
   "outputs": [
    {
     "name": "stdout",
     "output_type": "stream",
     "text": [
      "[1000, 1500, 350, 270, 900]\n"
     ]
    }
   ],
   "source": [
    "vendas = [1000, 1500, 350, 270, 900]\n",
    "\n",
    "print(vendas)"
   ]
  },
  {
   "cell_type": "code",
   "execution_count": 3,
   "id": "4eb8a1c4",
   "metadata": {},
   "outputs": [],
   "source": [
    "lista_vazia = []"
   ]
  },
  {
   "cell_type": "markdown",
   "id": "6820d8c2",
   "metadata": {},
   "source": [
    "                                    -//-"
   ]
  },
  {
   "cell_type": "markdown",
   "id": "6ade241d",
   "metadata": {},
   "source": [
    "## Índices - Consultando e Modificando valores"
   ]
  },
  {
   "cell_type": "code",
   "execution_count": 7,
   "id": "085002a4",
   "metadata": {},
   "outputs": [
    {
     "name": "stdout",
     "output_type": "stream",
     "text": [
      "celular\n"
     ]
    }
   ],
   "source": [
    "produtos = ['tv', 'celular', 'mouse', 'teclado', 'tablet']\n",
    "print(produtos[1])"
   ]
  },
  {
   "cell_type": "code",
   "execution_count": 8,
   "id": "db202e1e",
   "metadata": {
    "scrolled": false
   },
   "outputs": [
    {
     "name": "stdout",
     "output_type": "stream",
     "text": [
      "1500\n"
     ]
    }
   ],
   "source": [
    "vendas = [1000, 1500, 350, 270, 900]\n",
    "print(vendas[1])"
   ]
  },
  {
   "cell_type": "code",
   "execution_count": 11,
   "id": "02e8d47e",
   "metadata": {},
   "outputs": [
    {
     "name": "stdout",
     "output_type": "stream",
     "text": [
      "Vendas do produto celular foram de 2000 unidades\n"
     ]
    }
   ],
   "source": [
    "vendas[1] = 2000\n",
    "\n",
    "print('Vendas do produto {} foram de {} unidades'\\\n",
    "      .format(produtos[1], vendas[1]))"
   ]
  },
  {
   "cell_type": "code",
   "execution_count": 14,
   "id": "ab4dde13",
   "metadata": {},
   "outputs": [
    {
     "name": "stdout",
     "output_type": "stream",
     "text": [
      "Texto:  gio@gmail.com\n",
      "Novo texto:  gao@gmaal.com\n"
     ]
    }
   ],
   "source": [
    "texto = 'gio@gmail.com'\n",
    "novo_texto = texto.replace('i', 'a')\n",
    "print('Texto: ',texto)\n",
    "print('Novo texto: ', novo_texto)"
   ]
  },
  {
   "cell_type": "markdown",
   "id": "02441d27",
   "metadata": {},
   "source": [
    "                                    -//-"
   ]
  },
  {
   "cell_type": "markdown",
   "id": "07e52311",
   "metadata": {},
   "source": [
    "## Como descobrir o índice de um item de uma lista"
   ]
  },
  {
   "cell_type": "markdown",
   "id": "104f2365",
   "metadata": {},
   "source": [
    "### Exemplo\n",
    "\n",
    "Digamos que você puxou do Banco de Dados da sua empresa uma lista com todos os produtos que a empresa vende e a quantidade em estoque de todos eles.\n"
   ]
  },
  {
   "cell_type": "code",
   "execution_count": 24,
   "id": "aeca7c50",
   "metadata": {},
   "outputs": [],
   "source": [
    "produtos = ['tv', 'celular', 'tablet', 'mouse', 'teclado', 'geladeira', 'forno']\n",
    "\n",
    "estoque = [100, 150, 100, 120, 70, 180, 80]"
   ]
  },
  {
   "cell_type": "markdown",
   "id": "1cbe07f5",
   "metadata": {},
   "source": [
    "Descubra a quantidade em estoque do produto geladeira"
   ]
  },
  {
   "cell_type": "code",
   "execution_count": 25,
   "id": "dd693de7",
   "metadata": {},
   "outputs": [
    {
     "name": "stdout",
     "output_type": "stream",
     "text": [
      "geladeira\n",
      "A quantidade de estoque de geladeira é de 180\n"
     ]
    }
   ],
   "source": [
    "i = produtos.index(\"geladeira\")\n",
    "\n",
    "print(produtos[i]) #verificação\n",
    "\n",
    "qtd_estoque = estoque[i]\n",
    "\n",
    "print(\"A quantidade de estoque de geladeira é de {}\".format(qtd_estoque))"
   ]
  },
  {
   "cell_type": "markdown",
   "id": "8a95231f",
   "metadata": {},
   "source": [
    "Crie um programa para fazer uma consulta de estoque. O usuário do programa deve inserir o nome do produto e, caso ele não exista na lista, ele deve ser avisado. Caso exista, o programa deve dizer a quantidade de unidades em estoque do produto."
   ]
  },
  {
   "cell_type": "code",
   "execution_count": 30,
   "id": "44fa3e31",
   "metadata": {},
   "outputs": [
    {
     "name": "stdout",
     "output_type": "stream",
     "text": [
      "Digite o nome do produto: geladeira\n",
      "Temos 180 unidades de geladeira em estoque\n"
     ]
    }
   ],
   "source": [
    "produto = input(\"Digite o nome do produto: \")\n",
    "\n",
    "if produto in produtos:\n",
    "    i = produtos.index(produto)\n",
    "    qtd_estoque = estoque[i]\n",
    "    print(\"Temos {} unidades de {} em estoque\".format(qtd_estoque, produto))\n",
    "else:\n",
    "    print(\"Digite o nome do produto corretamente\")"
   ]
  },
  {
   "cell_type": "markdown",
   "id": "230a66d0",
   "metadata": {},
   "source": [
    "                                    -//-"
   ]
  },
  {
   "cell_type": "markdown",
   "id": "030f9115",
   "metadata": {},
   "source": [
    "## Adicionar e Remover itens"
   ]
  },
  {
   "cell_type": "markdown",
   "id": "261c1155",
   "metadata": {},
   "source": [
    "### Exemplo\n",
    "\n",
    "Digamos que você está construindo o controle de produtos da Apple.<br>\n",
    "E a Apple lançou o IPhone 11 e irá tirar dos seus estoques o IPhone X"
   ]
  },
  {
   "cell_type": "code",
   "execution_count": 41,
   "id": "b3d0e0f8",
   "metadata": {},
   "outputs": [
    {
     "name": "stdout",
     "output_type": "stream",
     "text": [
      "['Apple TV', 'Mac', 'iPhone X', 'iPad', 'Apple Watch', 'Macbook', 'Airpods']\n",
      "['Apple TV', 'Mac', 'iPhone X', 'iPad', 'Apple Watch', 'Macbook', 'Airpods', 'iPhone 11']\n",
      "Digite o produto a ser removido: iPhone X\n",
      "Removemos o iPhone X da lista de produtos\n"
     ]
    }
   ],
   "source": [
    "produtos = ['Apple TV', 'Mac', 'iPhone X', 'iPad', 'Apple Watch', \\\n",
    "            'Macbook', 'Airpods']\n",
    "\n",
    "print(produtos)\n",
    "\n",
    "# Substituindo o iPhone X pelo 11\n",
    "# i = produtos.index(\"iPhone X\")\n",
    "\n",
    "# produtos[i] = \"iPhone 11\"\n",
    "\n",
    "# print(produtos)\n",
    "\n",
    "# Adicionando o iPhone 11 e removendo o X\n",
    "produtos.append('iPhone 11') #Adição\n",
    "\n",
    "print(produtos)\n",
    "\n",
    "#produtos.remove('iPhone X') #Remoção 1\n",
    "remover = input(\"Digite o produto a ser removido: \")\n",
    "\n",
    "if remover in produtos:\n",
    "    item_removido = produtos.pop(2) #Remoção 2\n",
    "    print(\"Removemos o {} da lista de produtos\".format(item_removido))\n",
    "else:\n",
    "    print(\"O item não consta no estoque. Verifique a ortografia\")"
   ]
  },
  {
   "cell_type": "code",
   "execution_count": 42,
   "id": "ccc8cc5f",
   "metadata": {},
   "outputs": [
    {
     "name": "stdout",
     "output_type": "stream",
     "text": [
      "Digite o produto a ser removido: iphonex\n",
      "O item não consta no estoque. Verifique a ortografia\n"
     ]
    }
   ],
   "source": [
    "produtos = ['Apple TV', 'Mac', 'iPhone X', 'iPad', 'Apple Watch', \\\n",
    "            'Macbook', 'Airpods']\n",
    "\n",
    "produtos.append('iPhone 11')\n",
    "\n",
    "remover = input(\"Digite o produto a ser removido: \")\n",
    "\n",
    "try:\n",
    "    produtos.remove(remover)\n",
    "except:\n",
    "    print(\"O item não consta no estoque. Verifique a ortografia\")\n",
    "    "
   ]
  },
  {
   "cell_type": "markdown",
   "id": "e4951f32",
   "metadata": {},
   "source": [
    "                                    -//-"
   ]
  },
  {
   "cell_type": "markdown",
   "id": "cee97c93",
   "metadata": {},
   "source": [
    "## Funções básicas"
   ]
  },
  {
   "cell_type": "markdown",
   "id": "effc3003",
   "metadata": {},
   "source": [
    "### Tamanho da lista"
   ]
  },
  {
   "cell_type": "code",
   "execution_count": null,
   "id": "f8eb647f",
   "metadata": {},
   "outputs": [],
   "source": [
    "produtos = ['apple tv', 'mac', 'iphone x', 'IPad', 'apple watch', 'mac book', 'airpods']"
   ]
  },
  {
   "cell_type": "markdown",
   "id": "09e636e2",
   "metadata": {},
   "source": [
    "Quantos produtos temos a venda?"
   ]
  },
  {
   "cell_type": "code",
   "execution_count": 43,
   "id": "e4e88472",
   "metadata": {},
   "outputs": [
    {
     "name": "stdout",
     "output_type": "stream",
     "text": [
      "Temos 8 produtos\n"
     ]
    }
   ],
   "source": [
    "tamanho = len(produtos)\n",
    "\n",
    "print(\"Temos {} produtos\".format(tamanho))"
   ]
  },
  {
   "cell_type": "markdown",
   "id": "3ebc78ac",
   "metadata": {},
   "source": [
    "### Maior e Menor valor"
   ]
  },
  {
   "cell_type": "code",
   "execution_count": 44,
   "id": "3cb71668",
   "metadata": {},
   "outputs": [],
   "source": [
    "vendas = [1000, 1500, 15000, 270, 900, 100, 1200]"
   ]
  },
  {
   "cell_type": "markdown",
   "id": "025cb97e",
   "metadata": {},
   "source": [
    "Qual o item mais vendido?\n",
    "\n",
    "Qual o item menos vendido?"
   ]
  },
  {
   "cell_type": "code",
   "execution_count": 45,
   "id": "56a5c821",
   "metadata": {},
   "outputs": [
    {
     "name": "stdout",
     "output_type": "stream",
     "text": [
      "O produto mais vendido teve 15000 unidades vendidas e o menos vendido 100\n"
     ]
    }
   ],
   "source": [
    "mais_vendido = max(vendas)\n",
    "\n",
    "menos_vendido = min(vendas)\n",
    "\n",
    "print(\"O produto mais vendido teve {} unidades vendidas e o menos vendido {}\"\\\n",
    "      .format(mais_vendido, menos_vendido))"
   ]
  },
  {
   "cell_type": "code",
   "execution_count": 47,
   "id": "63818eb4",
   "metadata": {},
   "outputs": [
    {
     "name": "stdout",
     "output_type": "stream",
     "text": [
      "O produto mais vendido foi o iPhone X e o menos vendido foi o Macbook\n"
     ]
    }
   ],
   "source": [
    "i = vendas.index(mais_vendido)\n",
    "\n",
    "j = vendas.index(menos_vendido)\n",
    "\n",
    "produto_mais_vendido = produtos[i]\n",
    "\n",
    "produto_menos_vendido = produtos[j]\n",
    "\n",
    "print(\"O produto mais vendido foi o {} e o menos vendido foi o {}\"\\\n",
    "      .format(produto_mais_vendido, produto_menos_vendido))"
   ]
  },
  {
   "cell_type": "markdown",
   "id": "be2f181e",
   "metadata": {},
   "source": [
    "                                    -//-"
   ]
  },
  {
   "cell_type": "markdown",
   "id": "e2599c7d",
   "metadata": {},
   "source": [
    "## Juntar, Ordenar e Cuidados Especiais"
   ]
  },
  {
   "cell_type": "raw",
   "id": "60f714c6",
   "metadata": {},
   "source": [
    "Juntar:\n",
    "lista1.extend(lista2)\n",
    "lista_nova = lista1 + lista2\n",
    "\n",
    "Ordenar:\n",
    "lista.sort()"
   ]
  },
  {
   "cell_type": "code",
   "execution_count": 52,
   "id": "d18395e5",
   "metadata": {},
   "outputs": [
    {
     "name": "stdout",
     "output_type": "stream",
     "text": [
      "['apple tv', 'mac', 'iphone x', 'iphone 11', 'IPad', 'apple watch', 'macbook', 'airpods', 'iphone 12', 'ioculos']\n"
     ]
    }
   ],
   "source": [
    "produtos = ['apple tv', 'mac', 'iphone x', 'iphone 11', 'IPad',\\\n",
    "            'apple watch', 'macbook', 'airpods']\n",
    "\n",
    "novos_produtos = ['iphone 12', 'ioculos']\n",
    "\n",
    "todos_produtos = produtos + novos_produtos\n",
    "\n",
    "print(todos_produtos)"
   ]
  },
  {
   "cell_type": "code",
   "execution_count": 63,
   "id": "81de570c",
   "metadata": {},
   "outputs": [
    {
     "name": "stdout",
     "output_type": "stream",
     "text": [
      "35000\n",
      "[20000, 15000]\n"
     ]
    }
   ],
   "source": [
    "vendas = [1000, 1500, 15000, 20000, 270, 900, 100, 1200]\n",
    "vendas_iphonex = [15000]\n",
    "vendas_iphone11 = [20000]\n",
    "\n",
    "total_iphone = vendas[2] + vendas[3]\n",
    "\n",
    "total_iphone_2 = vendas_iphone11 + vendas_iphonex\n",
    "\n",
    "print(total_iphone)\n",
    "print(total_iphone_2)"
   ]
  },
  {
   "cell_type": "code",
   "execution_count": 64,
   "id": "ea6309b3",
   "metadata": {},
   "outputs": [
    {
     "name": "stdout",
     "output_type": "stream",
     "text": [
      "['IPad', 'airpods', 'apple tv', 'apple watch', 'iphone 11', 'iphone x', 'mac', 'macbook']\n"
     ]
    }
   ],
   "source": [
    "produtos.sort()\n",
    "\n",
    "print(produtos)"
   ]
  },
  {
   "cell_type": "code",
   "execution_count": 67,
   "id": "91d2cc81",
   "metadata": {},
   "outputs": [
    {
     "name": "stdout",
     "output_type": "stream",
     "text": [
      "[20000, 15000, 1500, 1200, 1000, 900, 270, 100]\n"
     ]
    }
   ],
   "source": [
    "vendas.sort(reverse=True) #Maior para o menor\n",
    "\n",
    "print(vendas)"
   ]
  },
  {
   "cell_type": "markdown",
   "id": "cc6b770f",
   "metadata": {},
   "source": [
    "                                    -//-"
   ]
  },
  {
   "cell_type": "markdown",
   "id": "bf888506",
   "metadata": {},
   "source": [
    "## PRINT  e JOIN"
   ]
  },
  {
   "cell_type": "raw",
   "id": "61caa3a4",
   "metadata": {},
   "source": [
    "print(Lista)\n",
    "\n",
    "texto.join(Lista)\n",
    "\n",
    "Lista = texto.split(separador)"
   ]
  },
  {
   "cell_type": "code",
   "execution_count": 72,
   "id": "fb28bbe9",
   "metadata": {},
   "outputs": [
    {
     "name": "stdout",
     "output_type": "stream",
     "text": [
      "['apple tv', 'mac', 'iphone x', 'iphone 11', 'IPad', 'apple watch', 'mac book', 'airpods']\n",
      " \n",
      "apple tv | mac | iphone x | iphone 11 | IPad | apple watch | mac book | airpods\n",
      " \n",
      "apple tv\n",
      "mac\n",
      "iphone x\n",
      "iphone 11\n",
      "IPad\n",
      "apple watch\n",
      "mac book\n",
      "airpods\n"
     ]
    }
   ],
   "source": [
    "produtos = ['apple tv', 'mac', 'iphone x', 'iphone 11', 'IPad', \\\n",
    "            'apple watch', 'mac book', 'airpods']\n",
    "\n",
    "print(produtos)\n",
    "print(\" \")\n",
    "print(' | '.join(produtos))\n",
    "print(\" \")\n",
    "print('\\n'.join(produtos))"
   ]
  },
  {
   "cell_type": "code",
   "execution_count": 75,
   "id": "e230caad",
   "metadata": {},
   "outputs": [
    {
     "name": "stdout",
     "output_type": "stream",
     "text": [
      "['apple tv', 'mac', 'iphone x', 'iphone 11', 'IPad', 'apple watch', 'mac book', 'airpods']\n"
     ]
    }
   ],
   "source": [
    "produtos = 'apple tv, mac, iphone x, iphone 11, IPad, apple watch, mac book, airpods'\n",
    "\n",
    "lista = produtos.split(', ')\n",
    "\n",
    "print(lista)"
   ]
  },
  {
   "cell_type": "markdown",
   "id": "bf433bfb",
   "metadata": {},
   "source": [
    "                                    -//-"
   ]
  },
  {
   "cell_type": "markdown",
   "id": "438def52",
   "metadata": {},
   "source": [
    "## Alterações incrementais de variáveis\n",
    "#### Importante!!"
   ]
  },
  {
   "cell_type": "code",
   "execution_count": 2,
   "id": "1eafc907",
   "metadata": {
    "scrolled": true
   },
   "outputs": [
    {
     "name": "stdout",
     "output_type": "stream",
     "text": [
      "Valor inicial:  3000\n",
      "Valor incrementado:  4000\n"
     ]
    }
   ],
   "source": [
    "faturamento = 3000\n",
    "\n",
    "print(\"Valor inicial: \", faturamento)\n",
    "\n",
    "faturamento = faturamento + 1000\n",
    "\n",
    "print(\"Valor incrementado: \", faturamento)"
   ]
  },
  {
   "cell_type": "code",
   "execution_count": 3,
   "id": "931b8ec3",
   "metadata": {
    "scrolled": true
   },
   "outputs": [
    {
     "name": "stdout",
     "output_type": "stream",
     "text": [
      "Texto original:  gio@gmail\n",
      "Texto incrementado:  gio@gmail.com\n"
     ]
    }
   ],
   "source": [
    "email = \"gio@gmail\"\n",
    "\n",
    "print(\"Texto original: \", email)\n",
    "\n",
    "email += \".com\"\n",
    "\n",
    "print(\"Texto incrementado: \", email)"
   ]
  },
  {
   "cell_type": "code",
   "execution_count": 9,
   "id": "0e16ce23",
   "metadata": {},
   "outputs": [
    {
     "name": "stdout",
     "output_type": "stream",
     "text": [
      "Lista atualizada:  ['mac', 'iphone', 'IPad']\n",
      "Soma de vendas atualizada:  800\n",
      "Esse mês vendemos um total de 800 produtos, sendo:\n",
      "100 unidades de mac\n",
      "200 unidades de iphone\n",
      "500 unidades de IPad\n"
     ]
    }
   ],
   "source": [
    "lista = ['mac', 'iphone']\n",
    "vendas = [100, 200]\n",
    "\n",
    "#adicionando IPad na lista\n",
    "lista += [\"IPad\"]\n",
    "print(\"Lista atualizada: \", lista)\n",
    "\n",
    "soma_vendas = 300\n",
    "#adicionando na soma a quantidade de IPad\n",
    "soma_vendas += 500\n",
    "print(\"Soma de vendas atualizada: \", soma_vendas)\n",
    "\n",
    "email = 'Esse mês vendemos um total de {} produtos, sendo:\\n{} unidades de {}\\n{} unidades de {}'\\\n",
    ".format(soma_vendas, vendas[0], lista[0], vendas[1], lista[1])\n",
    "#adicionando no fim do texto o Ipad\n",
    "email += \"\\n{} unidades de IPad\".format(500)\n",
    "print(email)\n"
   ]
  },
  {
   "cell_type": "markdown",
   "id": "ccaf2c37",
   "metadata": {},
   "source": [
    "                                    -//-"
   ]
  },
  {
   "cell_type": "markdown",
   "id": "4360f4ee",
   "metadata": {},
   "source": [
    "## Copiar e Igualdade de Listas"
   ]
  },
  {
   "cell_type": "code",
   "execution_count": 13,
   "id": "2f5f8f96",
   "metadata": {
    "scrolled": false
   },
   "outputs": [
    {
     "name": "stdout",
     "output_type": "stream",
     "text": [
      "Lista:  ['ipad', 'iphone x', 'apple tv']\n",
      "Lista 2:  ['ipad', 'iphone x', 'apple tv']\n",
      " \n",
      "Lista:  ['ipad', 'iphone 11', 'apple tv']\n",
      "Lista 2:  ['ipad', 'iphone 11', 'apple tv']\n"
     ]
    }
   ],
   "source": [
    "lista = ['ipad', 'iphone x', 'apple tv']\n",
    "lista2 = lista\n",
    "\n",
    "print(\"Lista: \", lista)\n",
    "print(\"Lista 2: \", lista2)\n",
    "\n",
    "lista[1] = 'iphone 11'\n",
    "\n",
    "print(\" \")\n",
    "print(\"Lista: \", lista)\n",
    "print(\"Lista 2: \", lista2)"
   ]
  },
  {
   "cell_type": "code",
   "execution_count": 15,
   "id": "7213fee0",
   "metadata": {},
   "outputs": [
    {
     "name": "stdout",
     "output_type": "stream",
     "text": [
      "Lista:  ['ipad', 'iphone x', 'apple tv']\n",
      "Lista 2:  ['ipad', 'iphone x', 'apple tv']\n",
      " \n",
      "Lista:  ['ipad', 'iphone 11', 'apple tv']\n",
      "Lista 2:  ['ipad', 'iphone x', 'apple tv']\n"
     ]
    }
   ],
   "source": [
    "lista = ['ipad', 'iphone x', 'apple tv']\n",
    "lista2 = lista.copy()\n",
    "\n",
    "print(\"Lista: \", lista)\n",
    "print(\"Lista 2: \", lista2)\n",
    "\n",
    "lista[1] = 'iphone 11'\n",
    "\n",
    "print(\" \")\n",
    "print(\"Lista: \", lista)\n",
    "print(\"Lista 2: \", lista2)"
   ]
  },
  {
   "cell_type": "markdown",
   "id": "28fe3aca",
   "metadata": {},
   "source": [
    "                                    -//-"
   ]
  },
  {
   "cell_type": "markdown",
   "id": "81718642",
   "metadata": {},
   "source": [
    "## Lista de Listas"
   ]
  },
  {
   "cell_type": "code",
   "execution_count": 27,
   "id": "890ce1f0",
   "metadata": {},
   "outputs": [],
   "source": [
    "vendedores = ['José', 'João', 'Diego', 'Rafael']\n",
    "\n",
    "produtos = ['ipad', 'iphone']\n",
    "\n",
    "vendas = [\n",
    "    [100, 200],\n",
    "    [300, 500],\n",
    "    [50, 1000],\n",
    "    [900, 10],\n",
    "]"
   ]
  },
  {
   "cell_type": "markdown",
   "id": "a74055a0",
   "metadata": {},
   "source": [
    "- Quanto João vendeu de IPad?\n",
    "- Quanto Diego vendeu de IPhone\n",
    "- Qual o total de vendas de IPhone?"
   ]
  },
  {
   "cell_type": "code",
   "execution_count": 28,
   "id": "984926e3",
   "metadata": {},
   "outputs": [
    {
     "name": "stdout",
     "output_type": "stream",
     "text": [
      "João vendeu 300 unidades de ipad\n",
      "Diego vendeu 1000 unidades de iphone\n",
      "vendas totais de iphone:  1710\n"
     ]
    }
   ],
   "source": [
    "# João\n",
    "i = vendedores.index(\"João\")\n",
    "j = produtos.index(\"ipad\")\n",
    "\n",
    "vendas_ipad_joao = vendas[i][j]\n",
    "\n",
    "print(\"João vendeu {} unidades de {}\".format(vendas_ipad_joao, produtos[j]))\n",
    "\n",
    "\n",
    "# Diego\n",
    "k = vendedores.index(\"Diego\")\n",
    "l = produtos.index(\"iphone\")\n",
    "\n",
    "vendas_iphone_diego = vendas[k][l]\n",
    "\n",
    "print(\"Diego vendeu {} unidades de {}\"\\\n",
    "      .format(vendas_iphone_diego, produtos[l]))\n",
    "\n",
    "\n",
    "# Vendas iphone\n",
    "m = vendedores.index(\"José\")\n",
    "n = vendedores.index(\"Rafael\")\n",
    "\n",
    "vendas_iphone = vendas[i][l] + vendas[k][l] + vendas[m][l] + vendas[n][l]\n",
    "\n",
    "print(\"vendas totais de iphone: \", vendas_iphone)"
   ]
  },
  {
   "cell_type": "markdown",
   "id": "13517902",
   "metadata": {},
   "source": [
    "- E se José na verdade fez apenas 50 vendas de IPhone, como eu modifico na minha lista o valor de vendas dele?"
   ]
  },
  {
   "cell_type": "code",
   "execution_count": 25,
   "id": "76abacc9",
   "metadata": {
    "scrolled": true
   },
   "outputs": [
    {
     "name": "stdout",
     "output_type": "stream",
     "text": [
      "Valor anterior:  200\n",
      "Valor atualizado:  50\n"
     ]
    }
   ],
   "source": [
    "print(\"Valor anterior: \", vendas[m][l])\n",
    "\n",
    "vendas[m][l] = 50\n",
    "\n",
    "print(\"Valor atualizado: \", vendas[m][l])"
   ]
  },
  {
   "cell_type": "markdown",
   "id": "c555dcf7",
   "metadata": {},
   "source": [
    "- E se agora eu tenho um novo produto 'mac', como eu adiciono as vendas em cada um dos vendedores?"
   ]
  },
  {
   "cell_type": "code",
   "execution_count": 29,
   "id": "3dafbf55",
   "metadata": {},
   "outputs": [
    {
     "name": "stdout",
     "output_type": "stream",
     "text": [
      "[[100, 200, 10], [300, 500, 15], [50, 1000, 6], [900, 10, 70]]\n"
     ]
    }
   ],
   "source": [
    "vendas_mac = [10, 15, 6, 70]\n",
    "\n",
    "vendas[0].append(vendas_mac[0])\n",
    "vendas[1].append(vendas_mac[1])\n",
    "vendas[2].append(vendas_mac[2])\n",
    "vendas[3].append(vendas_mac[3])\n",
    "\n",
    "print(vendas)"
   ]
  }
 ],
 "metadata": {
  "kernelspec": {
   "display_name": "Python 3 (ipykernel)",
   "language": "python",
   "name": "python3"
  },
  "language_info": {
   "codemirror_mode": {
    "name": "ipython",
    "version": 3
   },
   "file_extension": ".py",
   "mimetype": "text/x-python",
   "name": "python",
   "nbconvert_exporter": "python",
   "pygments_lexer": "ipython3",
   "version": "3.9.7"
  }
 },
 "nbformat": 4,
 "nbformat_minor": 5
}

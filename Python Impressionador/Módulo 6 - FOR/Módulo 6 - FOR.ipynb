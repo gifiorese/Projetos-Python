{
 "cells": [
  {
   "cell_type": "markdown",
   "id": "4dfcf98b",
   "metadata": {},
   "source": [
    "# Módulo 6 - Estrutura de repetição - FOR"
   ]
  },
  {
   "cell_type": "raw",
   "id": "59074408",
   "metadata": {},
   "source": [
    "for i in range(n):\n",
    "    Código --> É repetido n vezes"
   ]
  },
  {
   "cell_type": "code",
   "execution_count": 1,
   "id": "f50afdda",
   "metadata": {},
   "outputs": [
    {
     "name": "stdout",
     "output_type": "stream",
     "text": [
      "Bom dia flor do dia\n",
      "Bom dia flor do dia\n",
      "Bom dia flor do dia\n",
      "Bom dia flor do dia\n",
      "Bom dia flor do dia\n"
     ]
    }
   ],
   "source": [
    "for i in range(5):\n",
    "    print(\"Bom dia flor do dia\")"
   ]
  },
  {
   "cell_type": "markdown",
   "id": "956e375d",
   "metadata": {},
   "source": [
    "Imagine que você está construindo uma automação para enviar todo dia por e-mail um resumo da produção de uma fábrica. Construa um código que exiba a quantidade produzida de cada os produto nesse \"e-mail\""
   ]
  },
  {
   "cell_type": "code",
   "execution_count": 3,
   "id": "921356e1",
   "metadata": {},
   "outputs": [
    {
     "name": "stdout",
     "output_type": "stream",
     "text": [
      "15000 unidades produzidas de coca\n",
      "12000 unidades produzidas de pepsi\n",
      "13000 unidades produzidas de guarana\n",
      "5000 unidades produzidas de sprite\n",
      "250 unidades produzidas de fanta\n"
     ]
    }
   ],
   "source": [
    "produtos = ['coca', 'pepsi', 'guarana', 'sprite', 'fanta']\n",
    "producao = [15000, 12000, 13000, 5000, 250]\n",
    "\n",
    "\n",
    "for i in range(len(produtos)):\n",
    "    print(\"{} unidades produzidas de {}\"\\\n",
    "          .format(producao[i], produtos[i]))"
   ]
  },
  {
   "cell_type": "markdown",
   "id": "baac9ac3",
   "metadata": {},
   "source": [
    "                                  -//-"
   ]
  },
  {
   "cell_type": "markdown",
   "id": "add1c3f3",
   "metadata": {},
   "source": [
    "## FOR each"
   ]
  },
  {
   "cell_type": "raw",
   "id": "3aa55523",
   "metadata": {},
   "source": [
    "for i in range(5):\n",
    "    print(i)\n",
    "\n",
    "range(5) é uma lista -> [0, 1, 2, 3, 4]"
   ]
  },
  {
   "cell_type": "raw",
   "id": "31b60be8",
   "metadata": {},
   "source": [
    "Lista\n",
    "    for item in lista:\n",
    "        print(item)\n",
    "\n",
    "String\n",
    "    for ch in texto:\n",
    "        print(ch)"
   ]
  },
  {
   "cell_type": "markdown",
   "id": "b34a1e08",
   "metadata": {},
   "source": [
    "### Para listas"
   ]
  },
  {
   "cell_type": "code",
   "execution_count": 9,
   "id": "11256a24",
   "metadata": {},
   "outputs": [
    {
     "name": "stdout",
     "output_type": "stream",
     "text": [
      "O produto é coca\n",
      "O produto é pepsi\n",
      "O produto é guarana\n",
      "O produto é sprite\n",
      "O produto é fanta\n",
      " \n",
      "g\n",
      "i\n",
      "o\n",
      "@\n",
      "g\n",
      "m\n",
      "a\n",
      "i\n",
      "l\n",
      ".\n",
      "c\n",
      "o\n",
      "m\n"
     ]
    }
   ],
   "source": [
    "produtos = ['coca', 'pepsi', 'guarana', 'sprite', 'fanta']\n",
    "texto = 'gio@gmail.com'\n",
    "\n",
    "for item in produtos:\n",
    "    print(\"O produto é {}\".format(item))\n",
    "\n",
    "print(\" \")    \n",
    "    \n",
    "for ch in texto:\n",
    "    print(ch)"
   ]
  },
  {
   "cell_type": "markdown",
   "id": "eccdd470",
   "metadata": {},
   "source": [
    "                                  -//-"
   ]
  },
  {
   "cell_type": "markdown",
   "id": "1465093b",
   "metadata": {},
   "source": [
    "## FOR + IF"
   ]
  },
  {
   "cell_type": "raw",
   "id": "001bfbd1",
   "metadata": {},
   "source": [
    "for item in lista:\n",
    "    if condição:\n",
    "        código\n",
    "    else:\n",
    "        outro código"
   ]
  },
  {
   "cell_type": "markdown",
   "id": "b09b96dc",
   "metadata": {},
   "source": [
    "Digamos que a gente esteja analisando a meta de vendas de vários funcionários de uma empresa. A meta de vendas é de 1000 reais em 1 dia.\n",
    "\n",
    "Temos uma lista com as vendas de todos os funcionários e quero calcular qual o % de pessoas que bateram a meta."
   ]
  },
  {
   "cell_type": "code",
   "execution_count": 17,
   "id": "17ce1662",
   "metadata": {},
   "outputs": [
    {
     "name": "stdout",
     "output_type": "stream",
     "text": [
      "26.1% das pessoas bateram a meta\n"
     ]
    }
   ],
   "source": [
    "vendas = [1200, 300, 800, 1500, 1900, 2750, 400, 20, 23,\\\n",
    "          70, 90, 80, 1100, 999, 900, 880, 870, 50, 1111,\\\n",
    "          120, 300, 450, 800]\n",
    "\n",
    "meta = 1000\n",
    "\n",
    "qtd_bateu_meta = 0\n",
    "\n",
    "qtd_total = len(vendas)\n",
    "\n",
    "for venda in vendas:\n",
    "    if venda >= meta:\n",
    "        qtd_bateu_meta += 1\n",
    "\n",
    "porcentagem = qtd_bateu_meta/qtd_total\n",
    "\n",
    "print(\"{:.1%} das pessoas bateram a meta\".format(porcentagem))"
   ]
  },
  {
   "cell_type": "markdown",
   "id": "a6eae683",
   "metadata": {},
   "source": [
    "                                  -//-"
   ]
  },
  {
   "cell_type": "markdown",
   "id": "f2386434",
   "metadata": {},
   "source": [
    "## ENUMERATE"
   ]
  },
  {
   "cell_type": "code",
   "execution_count": 19,
   "id": "ebd01e55",
   "metadata": {},
   "outputs": [
    {
     "name": "stdout",
     "output_type": "stream",
     "text": [
      "Maria\n",
      "José\n",
      "Antônio\n",
      "João\n",
      "Francisco\n",
      "Ana\n",
      "Luiz\n",
      "Paulo\n",
      "Carlos\n",
      "Manoel\n",
      "Pedro\n",
      "Francisca\n",
      "Marcos\n",
      "Raimundo\n",
      "Sebastião\n",
      "Antônia\n",
      "Marcelo\n",
      "Jorge\n",
      "Márcia\n",
      "Geraldo\n",
      "Adriana\n",
      "Sandra\n",
      "Luis\n"
     ]
    }
   ],
   "source": [
    "funcionarios = ['Maria', 'José', 'Antônio', 'João',\\\n",
    "                'Francisco', 'Ana', 'Luiz', 'Paulo', 'Carlos',\\\n",
    "                'Manoel', 'Pedro', 'Francisca', 'Marcos', 'Raimundo',\\\n",
    "                'Sebastião', 'Antônia', 'Marcelo', 'Jorge', 'Márcia',\\\n",
    "                'Geraldo', 'Adriana', 'Sandra', 'Luis']\n",
    "\n",
    "for funcionario in funcionarios:\n",
    "    print(funcionario)"
   ]
  },
  {
   "cell_type": "code",
   "execution_count": 20,
   "id": "84486eed",
   "metadata": {},
   "outputs": [
    {
     "name": "stdout",
     "output_type": "stream",
     "text": [
      "0 é o funcionário Maria\n",
      "1 é o funcionário José\n",
      "2 é o funcionário Antônio\n",
      "3 é o funcionário João\n",
      "4 é o funcionário Francisco\n",
      "5 é o funcionário Ana\n",
      "6 é o funcionário Luiz\n",
      "7 é o funcionário Paulo\n",
      "8 é o funcionário Carlos\n",
      "9 é o funcionário Manoel\n",
      "10 é o funcionário Pedro\n",
      "11 é o funcionário Francisca\n",
      "12 é o funcionário Marcos\n",
      "13 é o funcionário Raimundo\n",
      "14 é o funcionário Sebastião\n",
      "15 é o funcionário Antônia\n",
      "16 é o funcionário Marcelo\n",
      "17 é o funcionário Jorge\n",
      "18 é o funcionário Márcia\n",
      "19 é o funcionário Geraldo\n",
      "20 é o funcionário Adriana\n",
      "21 é o funcionário Sandra\n",
      "22 é o funcionário Luis\n"
     ]
    }
   ],
   "source": [
    "funcionarios = ['Maria', 'José', 'Antônio', 'João',\\\n",
    "                'Francisco', 'Ana', 'Luiz', 'Paulo', 'Carlos',\\\n",
    "                'Manoel', 'Pedro', 'Francisca', 'Marcos', 'Raimundo',\\\n",
    "                'Sebastião', 'Antônia', 'Marcelo', 'Jorge', 'Márcia',\\\n",
    "                'Geraldo', 'Adriana', 'Sandra', 'Luis']\n",
    "\n",
    "for i, funcionario in enumerate(funcionarios):\n",
    "    print('{} é o funcionário {}'.format(i, funcionario))"
   ]
  },
  {
   "cell_type": "markdown",
   "id": "8cee9eca",
   "metadata": {},
   "source": [
    "### Exemplo Prático\n",
    "\n",
    "Vamos pegar um exemplo de nível mínimo de estoque. Em uma fábrica você tem vários produtos e não pode deixar que os produtos fiquem em falta. Para isso, foi definido uma quantidade mínima de estoque que os produtos precisam ter:\n",
    "\n",
    "Identifique quais produtos estão abaixo do nível mínimo de estoque."
   ]
  },
  {
   "cell_type": "code",
   "execution_count": 26,
   "id": "a39b2d1a",
   "metadata": {},
   "outputs": [
    {
     "name": "stdout",
     "output_type": "stream",
     "text": [
      "O produto dolly está abaixo do nível mínimo. Temos 20 unidades em estoque\n",
      "O produto red bull está abaixo do nível mínimo. Temos 23 unidades em estoque\n"
     ]
    }
   ],
   "source": [
    "estoque = [1200, 300, 800, 1500, 1900, 2750, 400, 20, 23, 70, 90, 80,\\\n",
    "           1100, 999, 900, 880, 870, 50, 1111, 120, 300, 450, 800]\n",
    "\n",
    "produtos = ['coca', 'pepsi', 'guarana', 'skol', 'brahma', 'agua',\\\n",
    "            'del valle', 'dolly', 'red bull', 'cachaça', 'vinho tinto',\\\n",
    "            'vodka', 'vinho branco', 'tequila', 'champagne', 'gin',\\\n",
    "            'guaracamp', 'matte', 'leite de castanha', 'leite',\\\n",
    "            'jurupinga', 'sprite', 'fanta']\n",
    "\n",
    "nivel_minimo = 50\n",
    "\n",
    "for i, qtd in enumerate(estoque):\n",
    "    if qtd < nivel_minimo:\n",
    "        print(\"O produto {} está abaixo do nível mínimo. Temos {} unidades em estoque\".format(produtos[i], qtd))"
   ]
  },
  {
   "cell_type": "markdown",
   "id": "61065f87",
   "metadata": {},
   "source": [
    "                                  -//-"
   ]
  },
  {
   "cell_type": "markdown",
   "id": "20eb9ff4",
   "metadata": {},
   "source": [
    "## FOR dentro de FOR"
   ]
  },
  {
   "cell_type": "markdown",
   "id": "bb3411a0",
   "metadata": {},
   "source": [
    "Vamos pegar um exemplo de nível mínimo de estoque. Em uma fábrica você tem vários produtos e não pode deixar que os produtos fiquem em falta. Para isso, foi definido uma quantidade mínima de estoque que os produtos precisam ter:\n",
    "\n",
    "Identifique quais fábricas tem algum produto abaixo do nível de estoque\n",
    "\n",
    "- Agora ao invés de analisar o estoque de apenas 1 fábrica, vamos analisar o estoque de várias fábricas"
   ]
  },
  {
   "cell_type": "code",
   "execution_count": 32,
   "id": "cb80c063",
   "metadata": {},
   "outputs": [
    {
     "name": "stdout",
     "output_type": "stream",
     "text": [
      "['Gio Manufacturing', 'Fábrica x', 'Python Manufaturas']\n"
     ]
    }
   ],
   "source": [
    "estoque = [\n",
    "    [294, 125, 269, 208, 783, 852, 259, 371, 47, 102, 386, 87, 685, 686, 697, 941, 163, 631, 7, 714, 218, 670, 453],\n",
    "    [648, 816, 310, 555, 992, 643, 226, 319, 501, 23, 239, 42, 372, 441, 126, 645, 927, 911, 761, 445, 974, 2, 549],\n",
    "    [832, 683, 784, 449, 977, 705, 198, 937, 729, 327, 339, 10, 975, 310, 95, 689, 137, 795, 211, 538, 933, 751, 522],\n",
    "    [837, 168, 570, 397, 53, 297, 966, 714, 72, 737, 259, 629, 625, 469, 922, 305, 782, 243, 841, 848, 372, 621, 362],\n",
    "    [429, 242, 53, 985, 406, 186, 198, 50, 501, 870, 781, 632, 781, 105, 644, 509, 401, 88, 961, 765, 422, 340, 654],\n",
    "]\n",
    "\n",
    "fabricas = ['Gio Manufacturing', 'Fábrica x', 'Python Manufaturas', 'Produções e Cia', 'Manufatura e Cia']\n",
    "\n",
    "nivel_minimo = 50\n",
    "\n",
    "fabricas_abaixo = [] #Lista auxiliar\n",
    "\n",
    "for i, item in enumerate(estoque):\n",
    "    for qtd in item:\n",
    "        if qtd < nivel_minimo:\n",
    "            if fabricas[i] in fabricas_abaixo: #Não repete o nome da fábrica\n",
    "                pass\n",
    "            else:\n",
    "                fabricas_abaixo.append(fabricas[i])\n",
    "            \n",
    "print(fabricas_abaixo)"
   ]
  },
  {
   "cell_type": "markdown",
   "id": "bfd716e3",
   "metadata": {},
   "source": [
    "                                  -//-"
   ]
  },
  {
   "cell_type": "markdown",
   "id": "78e9e9db",
   "metadata": {},
   "source": [
    "## BREAK and CONTINUE - Interrompendo um Loop"
   ]
  },
  {
   "cell_type": "markdown",
   "id": "9c230166",
   "metadata": {},
   "source": [
    "Se todas as vendas forem acima da meta, a loja ganha bônus"
   ]
  },
  {
   "cell_type": "code",
   "execution_count": 36,
   "id": "dc9e6509",
   "metadata": {},
   "outputs": [
    {
     "name": "stdout",
     "output_type": "stream",
     "text": [
      "A loja não ganha bônus\n"
     ]
    }
   ],
   "source": [
    "vendas = [100, 150, 1500, 2000, 120]\n",
    "\n",
    "meta = 110\n",
    "\n",
    "for venda in vendas:\n",
    "    if venda < meta:\n",
    "        print(\"A loja não ganha bônus\")\n",
    "        break"
   ]
  },
  {
   "cell_type": "markdown",
   "id": "02228c26",
   "metadata": {},
   "source": [
    "Exiba quem bateu a meta"
   ]
  },
  {
   "cell_type": "code",
   "execution_count": 38,
   "id": "ca723cdd",
   "metadata": {},
   "outputs": [
    {
     "name": "stdout",
     "output_type": "stream",
     "text": [
      "Julia bateu a meta, vendeu 150 unidades\n",
      "Ana bateu a meta, vendeu 1500 unidades\n",
      "José bateu a meta, vendeu 2000 unidades\n"
     ]
    }
   ],
   "source": [
    "vendedores = ['João', 'Julia', 'Ana', 'José', 'Maria']\n",
    "\n",
    "meta = 130\n",
    "\n",
    "for i, venda in enumerate(vendas):\n",
    "    if venda < meta:\n",
    "        continue #Retorna para o FOR \n",
    "    print(\"{} bateu a meta, vendeu {} unidades\".format(vendedores[i], venda))"
   ]
  }
 ],
 "metadata": {
  "kernelspec": {
   "display_name": "Python 3 (ipykernel)",
   "language": "python",
   "name": "python3"
  },
  "language_info": {
   "codemirror_mode": {
    "name": "ipython",
    "version": 3
   },
   "file_extension": ".py",
   "mimetype": "text/x-python",
   "name": "python",
   "nbconvert_exporter": "python",
   "pygments_lexer": "ipython3",
   "version": "3.9.7"
  }
 },
 "nbformat": 4,
 "nbformat_minor": 5
}

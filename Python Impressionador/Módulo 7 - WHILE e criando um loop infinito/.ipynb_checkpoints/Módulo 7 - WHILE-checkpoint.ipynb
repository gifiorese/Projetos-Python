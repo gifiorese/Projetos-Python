{
 "cells": [
  {
   "cell_type": "markdown",
   "id": "60b53d1d",
   "metadata": {},
   "source": [
    "# Módulo 7 - WHILE e Loop Infinito"
   ]
  },
  {
   "cell_type": "markdown",
   "id": "c81ddfd7",
   "metadata": {},
   "source": [
    "## Estrutura"
   ]
  },
  {
   "cell_type": "code",
   "execution_count": 8,
   "id": "93f4c394",
   "metadata": {},
   "outputs": [
    {
     "name": "stdout",
     "output_type": "stream",
     "text": [
      "Registre um produto. Para cancelar o registro de um novo produto, basta apertar enter com a caixa vazia Arroz\n",
      "Registre um produto. Para cancelar o registro de um novo produto, basta apertar enter com a caixa vazia Frango\n",
      "Registre um produto. Para cancelar o registro de um novo produto, basta apertar enter com a caixa vazia Cenoura\n",
      "Registre um produto. Para cancelar o registro de um novo produto, basta apertar enter com a caixa vazia Bolacha\n",
      "Registre um produto. Para cancelar o registro de um novo produto, basta apertar enter com a caixa vazia \n",
      "Registro Finalizado. As vendas cadastradas foram: ['Arroz', 'Frango', 'Cenoura', 'Bolacha']\n"
     ]
    }
   ],
   "source": [
    "venda = input('Registre um produto. Para cancelar o registro de um novo produto, basta apertar enter com a caixa vazia ')\n",
    "\n",
    "vendas = []\n",
    "\n",
    "while venda != '':\n",
    "    vendas.append(venda)\n",
    "    venda = input('Registre um produto. Para cancelar o registro de um novo produto, basta apertar enter com a caixa vazia ')\n",
    "\n",
    "print('Registro Finalizado. As vendas cadastradas foram: {}'.format(vendas))"
   ]
  },
  {
   "cell_type": "markdown",
   "id": "5b01e23f",
   "metadata": {},
   "source": [
    "                                     -//-"
   ]
  },
  {
   "cell_type": "markdown",
   "id": "f9fd5928",
   "metadata": {},
   "source": [
    "## Loop Infinito no WHILE"
   ]
  },
  {
   "cell_type": "markdown",
   "id": "cce8cf88",
   "metadata": {},
   "source": [
    "Digamos que temos uma lista de vendedores e as quantidades vendidas e queremos identificar todos os vendedores que bateram a meta de 50 vendas."
   ]
  },
  {
   "cell_type": "code",
   "execution_count": null,
   "id": "781651da",
   "metadata": {},
   "outputs": [],
   "source": [
    "vendas = [941, 852, 783, 714, 697, 686, 685, 670, 631, 453, 386, 371, 294,\\\n",
    "          269, 259, 218, 208, 163, 125, 102, 87, 47, 7]\n",
    "\n",
    "vendedores = ['Maria', 'José', 'Antônio', 'João', 'Francisco', 'Ana', 'Luiz',\\\n",
    "              'Paulo', 'Carlos', 'Manoel', 'Pedro', 'Francisca', 'Marcos',\\\n",
    "              'Raimundo', 'Sebastião', 'Antônia', 'Marcelo', 'Jorge',\\\n",
    "              'Márcia', 'Geraldo', 'Adriana', 'Sandra', 'Luis']\n",
    "\n",
    "meta = 50"
   ]
  },
  {
   "cell_type": "markdown",
   "id": "2145c676",
   "metadata": {},
   "source": [
    "                                     -//-"
   ]
  },
  {
   "cell_type": "code",
   "execution_count": null,
   "id": "fb462977",
   "metadata": {},
   "outputs": [],
   "source": []
  },
  {
   "cell_type": "code",
   "execution_count": null,
   "id": "b64b5e54",
   "metadata": {},
   "outputs": [],
   "source": []
  },
  {
   "cell_type": "markdown",
   "id": "5756e678",
   "metadata": {},
   "source": [
    "                                     -//-"
   ]
  },
  {
   "cell_type": "code",
   "execution_count": null,
   "id": "5d9fc3ea",
   "metadata": {},
   "outputs": [],
   "source": []
  },
  {
   "cell_type": "code",
   "execution_count": null,
   "id": "9e84aaf3",
   "metadata": {},
   "outputs": [],
   "source": []
  },
  {
   "cell_type": "markdown",
   "id": "97203abc",
   "metadata": {},
   "source": [
    "                                     -//-"
   ]
  },
  {
   "cell_type": "code",
   "execution_count": null,
   "id": "c03383d8",
   "metadata": {},
   "outputs": [],
   "source": []
  },
  {
   "cell_type": "code",
   "execution_count": null,
   "id": "89e0b2f2",
   "metadata": {},
   "outputs": [],
   "source": []
  },
  {
   "cell_type": "markdown",
   "id": "f961deb0",
   "metadata": {},
   "source": [
    "                                     -//-"
   ]
  }
 ],
 "metadata": {
  "kernelspec": {
   "display_name": "Python 3 (ipykernel)",
   "language": "python",
   "name": "python3"
  },
  "language_info": {
   "codemirror_mode": {
    "name": "ipython",
    "version": 3
   },
   "file_extension": ".py",
   "mimetype": "text/x-python",
   "name": "python",
   "nbconvert_exporter": "python",
   "pygments_lexer": "ipython3",
   "version": "3.9.7"
  }
 },
 "nbformat": 4,
 "nbformat_minor": 5
}

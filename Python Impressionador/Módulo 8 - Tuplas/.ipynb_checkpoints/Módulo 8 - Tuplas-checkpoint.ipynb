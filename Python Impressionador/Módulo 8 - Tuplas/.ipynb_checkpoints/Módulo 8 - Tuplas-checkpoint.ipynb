{
 "cells": [
  {
   "cell_type": "markdown",
   "id": "9bdde00d",
   "metadata": {},
   "source": [
    "#  Módulo 8 - Tuplas"
   ]
  },
  {
   "cell_type": "code",
   "execution_count": 5,
   "id": "ccb69573",
   "metadata": {},
   "outputs": [
    {
     "name": "stdout",
     "output_type": "stream",
     "text": [
      "('Gio', '25/08/2020', '15/02/1994', 2000, 'Estagiário')\n"
     ]
    }
   ],
   "source": [
    "vendas = ('Gio', '25/08/2020', '15/02/1994', 2000, 'Estagiário')\n",
    "\n",
    "print(vendas)"
   ]
  },
  {
   "cell_type": "code",
   "execution_count": 6,
   "id": "cf15921d",
   "metadata": {},
   "outputs": [
    {
     "name": "stdout",
     "output_type": "stream",
     "text": [
      "Gio\n",
      "25/08/2020\n",
      "15/02/1994\n",
      "2000\n",
      "Estagiário\n"
     ]
    }
   ],
   "source": [
    "#Modo mais trabalhoso de acessar os valores\n",
    "nome = vendas[0]\n",
    "data_contratacao = vendas[1]\n",
    "data_nascimento = vendas[2]\n",
    "salario = vendas[3]\n",
    "cargo = vendas[4]\n",
    "\n",
    "print(nome)\n",
    "print(data_contratacao)\n",
    "print(data_nascimento)\n",
    "print(salario)\n",
    "print(cargo)"
   ]
  },
  {
   "cell_type": "markdown",
   "id": "ac261fea",
   "metadata": {},
   "source": [
    "                                     -//-"
   ]
  },
  {
   "cell_type": "markdown",
   "id": "ff8a5637",
   "metadata": {},
   "source": [
    "## Unpacking"
   ]
  },
  {
   "cell_type": "code",
   "execution_count": 7,
   "id": "cc6fae47",
   "metadata": {},
   "outputs": [
    {
     "name": "stdout",
     "output_type": "stream",
     "text": [
      "Gio\n",
      "25/08/2020\n",
      "15/02/1994\n",
      "2000\n",
      "Estagiário\n"
     ]
    }
   ],
   "source": [
    "#Modo mais simples de acessar os valores\n",
    "nome, data_contratacao, data_nascimento, salario, cargo = vendas\n",
    "\n",
    "print(nome)\n",
    "print(data_contratacao)\n",
    "print(data_nascimento)\n",
    "print(salario)\n",
    "print(cargo)"
   ]
  },
  {
   "cell_type": "code",
   "execution_count": 10,
   "id": "f94309b5",
   "metadata": {},
   "outputs": [
    {
     "name": "stdout",
     "output_type": "stream",
     "text": [
      "João vendeu 1000 unidades\n",
      "Lira vendeu 2000 unidades\n",
      "Ana vendeu 300 unidades\n",
      "Maria vendeu 300 unidades\n",
      "Paula vendeu 150 unidades\n"
     ]
    }
   ],
   "source": [
    "vendas = [1000, 2000, 300, 300, 150]\n",
    "funcionarios = ['João', 'Lira', 'Ana', 'Maria', 'Paula']\n",
    "\n",
    "for i, venda in enumerate(vendas):\n",
    "        print('{} vendeu {} unidades'.format(funcionarios[i], venda))"
   ]
  },
  {
   "cell_type": "markdown",
   "id": "0a72e11f",
   "metadata": {},
   "source": [
    "                                     -//-"
   ]
  },
  {
   "cell_type": "markdown",
   "id": "f679916c",
   "metadata": {},
   "source": [
    "## Lista de Tuplas"
   ]
  },
  {
   "cell_type": "markdown",
   "id": "21a467fa",
   "metadata": {},
   "source": [
    "### Exemplo:\n",
    "\n",
    "Digamos que você está analisando as vendas do Banco de Dados de um e-commerce.\n",
    "\n",
    "Em um determinado dia, você extraiu as vendas do Banco de Dados e elas vieram nesse formato:"
   ]
  },
  {
   "cell_type": "code",
   "execution_count": 11,
   "id": "cce40917",
   "metadata": {},
   "outputs": [],
   "source": [
    "#Informações da tupla --> (Data da venda, Produto, Cor, Memória Interna,\n",
    "#                         Quantidade Vendida e Preço unitário)\n",
    "\n",
    "vendas = [\n",
    "    ('20/08/2020', 'iphone x', 'azul', '128gb', 350, 4000),\n",
    "    ('20/08/2020', 'iphone x', 'prata', '128gb', 1500, 4000),\n",
    "    ('20/08/2020', 'ipad', 'prata', '256gb', 127, 6000),\n",
    "    ('20/08/2020', 'ipad', 'prata', '128gb', 981, 5000),\n",
    "    ('21/08/2020', 'iphone x', 'azul', '128gb', 397, 4000),\n",
    "    ('21/08/2020', 'iphone x', 'prata', '128gb', 1017, 4000),\n",
    "    ('21/08/2020', 'ipad', 'prata', '256gb', 50, 6000),\n",
    "    ('21/08/2020', 'ipad', 'prata', '128gb', 4000, 5000),\n",
    "]"
   ]
  },
  {
   "cell_type": "markdown",
   "id": "d005f03a",
   "metadata": {},
   "source": [
    "- Qual foi o faturamento de IPhone no dia 20/08/2020?\n",
    "- Qual foi o produto mais vendido (em unidades) no dia 21/08/2020?"
   ]
  },
  {
   "cell_type": "code",
   "execution_count": 23,
   "id": "37365928",
   "metadata": {},
   "outputs": [
    {
     "name": "stdout",
     "output_type": "stream",
     "text": [
      "O faturamento de iphone x no dia 20/08/2020 foi de R$7400000,00\n"
     ]
    }
   ],
   "source": [
    "#FATURAMENTO DE IPHONE\n",
    "\n",
    "faturamento = 0\n",
    "\n",
    "for item in vendas:\n",
    "    data, produto, cor, capacidade, unidades, valor_unitario = item #Unpacking\n",
    "    if produto == 'iphone x' and data == '20/08/2020':\n",
    "        faturamento += unidades * valor_unitario #Acumula o faturamento\n",
    "\n",
    "print(\"O faturamento de iphone x no dia 20/08/2020 foi de R${},00\".format(faturamento))"
   ]
  },
  {
   "cell_type": "code",
   "execution_count": 24,
   "id": "0c9e561d",
   "metadata": {},
   "outputs": [
    {
     "name": "stdout",
     "output_type": "stream",
     "text": [
      "O produto mais vendido foi ipad com 4000 unidades\n"
     ]
    }
   ],
   "source": [
    "#PRODUTO MAIS VENDIDO\n",
    "\n",
    "produto_mais_vendido = ''\n",
    "\n",
    "qtd_vendida = 0\n",
    "\n",
    "for item in vendas:\n",
    "    data, produto, cor, capacidade, unidades, valor_unitario = item\n",
    "    if data == '21/08/2020':\n",
    "        if unidades > qtd_vendida:\n",
    "            produto_mais_vendido = produto\n",
    "            qtd_vendida = unidades\n",
    "print(\"O produto mais vendido foi {} com {} unidades\"\\\n",
    "      .format(produto_mais_vendido, qtd_vendida))"
   ]
  },
  {
   "cell_type": "markdown",
   "id": "1ab14450",
   "metadata": {},
   "source": [
    "                                     -//-"
   ]
  },
  {
   "cell_type": "markdown",
   "id": "3e5d3291",
   "metadata": {},
   "source": [
    "## Título 2"
   ]
  },
  {
   "cell_type": "code",
   "execution_count": null,
   "id": "1921f924",
   "metadata": {},
   "outputs": [],
   "source": []
  },
  {
   "cell_type": "markdown",
   "id": "3f9bc619",
   "metadata": {},
   "source": [
    "                                     -//-"
   ]
  },
  {
   "cell_type": "markdown",
   "id": "4920a5d4",
   "metadata": {},
   "source": [
    "## Título 2"
   ]
  },
  {
   "cell_type": "code",
   "execution_count": null,
   "id": "1cafb912",
   "metadata": {},
   "outputs": [],
   "source": []
  },
  {
   "cell_type": "markdown",
   "id": "78e07867",
   "metadata": {},
   "source": [
    "                                     -//-"
   ]
  }
 ],
 "metadata": {
  "kernelspec": {
   "display_name": "Python 3 (ipykernel)",
   "language": "python",
   "name": "python3"
  },
  "language_info": {
   "codemirror_mode": {
    "name": "ipython",
    "version": 3
   },
   "file_extension": ".py",
   "mimetype": "text/x-python",
   "name": "python",
   "nbconvert_exporter": "python",
   "pygments_lexer": "ipython3",
   "version": "3.9.7"
  }
 },
 "nbformat": 4,
 "nbformat_minor": 5
}

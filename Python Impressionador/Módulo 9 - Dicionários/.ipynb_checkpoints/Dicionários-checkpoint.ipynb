{
 "cells": [
  {
   "cell_type": "markdown",
   "id": "9bdde00d",
   "metadata": {},
   "source": [
    "# Módulo 9 - Dicionários"
   ]
  },
  {
   "cell_type": "code",
   "execution_count": 1,
   "id": "7dd1a5a7",
   "metadata": {},
   "outputs": [],
   "source": [
    "mais_vendidos = {'tecnologia': 'iphone', 'refrigeracao': 'ar consul 12000 btu', 'livros': 'o alquimista',\\\n",
    "                 'eletrodoméstico': 'geladeira', 'lazer': 'prancha surf'}\n",
    "\n",
    "vendas_tecnologia = {'iphone': 15000, 'samsung galaxy': 12000, 'tv samsung': 10000, 'ps5': 14300, 'tablet': 1720,\\\n",
    "                     'ipad': 1000, 'tv philco': 2500, 'notebook hp': 1000, 'notebook dell': 17000, 'notebook asus': 2450}"
   ]
  },
  {
   "cell_type": "markdown",
   "id": "d7afc863",
   "metadata": {},
   "source": [
    "- Qual foi o item mais vendido nas categorias 'livros' e 'lazer'?\n",
    "- Quanto foi vendido de 'notebook asus' e de 'ipad'?"
   ]
  },
  {
   "cell_type": "code",
   "execution_count": 4,
   "id": "70fd4e0b",
   "metadata": {},
   "outputs": [
    {
     "name": "stdout",
     "output_type": "stream",
     "text": [
      "Livro mais vendido:  o alquimista\n",
      "Lazer mais vendido:  prancha surf\n",
      "Notebook Asus:  2450\n",
      "iPad:  1000\n"
     ]
    }
   ],
   "source": [
    "item1 = mais_vendidos['livros']\n",
    "\n",
    "item2 = mais_vendidos['lazer']\n",
    "\n",
    "print(\"Livro mais vendido: \", item1)\n",
    "\n",
    "print(\"Lazer mais vendido: \", item2)\n",
    "\n",
    "qtd_vendido1 = vendas_tecnologia['notebook asus']\n",
    "\n",
    "qtd_vendido2 = vendas_tecnologia['ipad']\n",
    "\n",
    "print(\"Notebook Asus: \", qtd_vendido1)\n",
    "\n",
    "print(\"iPad: \", qtd_vendido2)"
   ]
  },
  {
   "cell_type": "markdown",
   "id": "ac261fea",
   "metadata": {},
   "source": [
    "                                     -//-"
   ]
  },
  {
   "cell_type": "markdown",
   "id": "ff8a5637",
   "metadata": {},
   "source": [
    "## Pegar e Verificar itens "
   ]
  },
  {
   "cell_type": "code",
   "execution_count": null,
   "id": "03d5cd57",
   "metadata": {},
   "outputs": [],
   "source": [
    "mais_vendidos = {'tecnologia': 'iphone',\\\n",
    "                 'refrigeracao': 'ar consul 12000 btu',\\\n",
    "                 'livros': 'o alquimista', 'eletrodoméstico': 'geladeira',\\\n",
    "                 'lazer': 'prancha surf'}\n",
    "\n",
    "vendas_tecnologia = {'iphone': 15000, 'samsung galaxy': 12000,\\\n",
    "                     'tv samsung': 10000, 'ps5': 14300, 'tablet': 1720,\\\n",
    "                     'ipad': 1000, 'tv philco': 2500, 'notebook hp': 1000,\\\n",
    "                     'notebook dell': 17000, 'notebook asus': 2450}"
   ]
  },
  {
   "cell_type": "markdown",
   "id": "17165ed5",
   "metadata": {},
   "source": [
    "- Qual foi o item mais vendido nas categorias 'livros' e 'lazer'?\n",
    "- Quanto foi vendido de 'notebook asus' e de 'ipad'?"
   ]
  },
  {
   "cell_type": "markdown",
   "id": "57d66b16",
   "metadata": {},
   "source": [
    "### Chaves"
   ]
  },
  {
   "cell_type": "code",
   "execution_count": 5,
   "id": "cb5890c0",
   "metadata": {},
   "outputs": [
    {
     "name": "stdout",
     "output_type": "stream",
     "text": [
      "o alquimista\n",
      "prancha surf\n",
      "2450\n",
      "1000\n"
     ]
    }
   ],
   "source": [
    "print(mais_vendidos['livros'])\n",
    "\n",
    "print(mais_vendidos['lazer'])\n",
    "\n",
    "print(vendas_tecnologia['notebook asus'])\n",
    "\n",
    "print(vendas_tecnologia['ipad'])"
   ]
  },
  {
   "cell_type": "markdown",
   "id": "14b8772b",
   "metadata": {},
   "source": [
    "### Método GET"
   ]
  },
  {
   "cell_type": "code",
   "execution_count": 6,
   "id": "c2a66d0b",
   "metadata": {},
   "outputs": [
    {
     "name": "stdout",
     "output_type": "stream",
     "text": [
      "o alquimista\n",
      "prancha surf\n",
      "2450\n",
      "1000\n"
     ]
    }
   ],
   "source": [
    "print(mais_vendidos.get('livros'))\n",
    "\n",
    "print(mais_vendidos.get('lazer'))\n",
    "\n",
    "print(vendas_tecnologia.get('notebook asus'))\n",
    "\n",
    "print(vendas_tecnologia.get('ipad'))"
   ]
  },
  {
   "cell_type": "markdown",
   "id": "cd520078",
   "metadata": {},
   "source": [
    "### Verificando se um item está no dicionário (IF e GET)"
   ]
  },
  {
   "cell_type": "code",
   "execution_count": 8,
   "id": "f9e27fa6",
   "metadata": {},
   "outputs": [
    {
     "name": "stdout",
     "output_type": "stream",
     "text": [
      "Copo não está na lista de produtos de tecnologia\n"
     ]
    }
   ],
   "source": [
    "if 'copo' in vendas_tecnologia: #Copo é procurado nas chaves\n",
    "    print(vendas_tecnologia['copo'])\n",
    "else:\n",
    "    print('Copo não está na lista de produtos de tecnologia')"
   ]
  },
  {
   "cell_type": "code",
   "execution_count": 9,
   "id": "efcd5e28",
   "metadata": {},
   "outputs": [
    {
     "name": "stdout",
     "output_type": "stream",
     "text": [
      "Copo não está na lista de produtos de tecnologia\n"
     ]
    }
   ],
   "source": [
    "if vendas_tecnologia.get('copo') == None:\n",
    "    print('Copo não está na lista de produtos de tecnologia')\n",
    "else:\n",
    "   print(vendas_tecnologia.get('copo')) "
   ]
  },
  {
   "cell_type": "markdown",
   "id": "0a72e11f",
   "metadata": {},
   "source": [
    "                                     -//-"
   ]
  },
  {
   "cell_type": "markdown",
   "id": "8d7bbd63",
   "metadata": {},
   "source": [
    "## Adicionar, Modificar e Remover itens"
   ]
  },
  {
   "cell_type": "markdown",
   "id": "4dc27713",
   "metadata": {},
   "source": [
    "### Adicionar"
   ]
  },
  {
   "cell_type": "code",
   "execution_count": 27,
   "id": "b7e6d77a",
   "metadata": {},
   "outputs": [
    {
     "name": "stdout",
     "output_type": "stream",
     "text": [
      "{'janeiro': 100000, 'fevereiro': 120000, 'março': 90000}\n",
      "{'janeiro': 100000, 'fevereiro': 120000, 'março': 90000, 'abril': 88000, 'maio': 89000, 'junho': 120000}\n",
      "{'janeiro': 88000, 'fevereiro': 120000, 'março': 90000, 'abril': 88000, 'maio': 89000, 'junho': 120000}\n"
     ]
    }
   ],
   "source": [
    "lucro_1tri = {'janeiro': 100000, 'fevereiro': 120000, 'março': 90000}\n",
    "\n",
    "lucro_2tri = {'abril': 88000, 'maio': 89000, 'junho': 120000}\n",
    "\n",
    "print(lucro_1tri)\n",
    "\n",
    "# #adicionando 1 item\n",
    "# lucro_1tri['abril'] = 88000\n",
    "\n",
    "# print(lucro_1tri)\n",
    "\n",
    "#adicionando vários itens ou um dicionário a outro\n",
    "lucro_1tri.update(lucro_2tri)\n",
    "\n",
    "print(lucro_1tri)\n",
    "\n",
    "#adicionando um item já existente (manualmente ou pelo update)\n",
    "lucro_1tri['janeiro'] = 88000\n",
    "print(lucro_1tri)"
   ]
  },
  {
   "cell_type": "markdown",
   "id": "0b5cfe3c",
   "metadata": {},
   "source": [
    "### Modificar "
   ]
  },
  {
   "cell_type": "code",
   "execution_count": 28,
   "id": "2a7227c8",
   "metadata": {},
   "outputs": [
    {
     "name": "stdout",
     "output_type": "stream",
     "text": [
      "{'janeiro': 88000, 'fevereiro': 120000, 'março': 90000, 'abril': 88000, 'maio': 89000, 'junho': 120000}\n",
      "{'janeiro': 88000, 'fevereiro': 85000, 'março': 90000, 'abril': 88000, 'maio': 89000, 'junho': 120000}\n"
     ]
    }
   ],
   "source": [
    "print(lucro_1tri)\n",
    "\n",
    "lucro_fev = 85000\n",
    "\n",
    "lucro_1tri['fevereiro'] = lucro_fev\n",
    "\n",
    "print(lucro_1tri)"
   ]
  },
  {
   "cell_type": "markdown",
   "id": "8bef832a",
   "metadata": {},
   "source": [
    "### Remover"
   ]
  },
  {
   "cell_type": "code",
   "execution_count": 26,
   "id": "e99ba3f4",
   "metadata": {},
   "outputs": [
    {
     "name": "stdout",
     "output_type": "stream",
     "text": [
      "{'janeiro': 88000, 'fevereiro': 85000, 'março': 90000, 'abril': 88000, 'maio': 89000}\n"
     ]
    }
   ],
   "source": [
    "#removendo o mês de junho\n",
    "del lucro_1tri['junho']\n",
    "\n",
    "print(lucro_1tri)"
   ]
  },
  {
   "cell_type": "code",
   "execution_count": 29,
   "id": "91ccc01f",
   "metadata": {},
   "outputs": [
    {
     "name": "stdout",
     "output_type": "stream",
     "text": [
      "{'janeiro': 88000, 'fevereiro': 85000, 'março': 90000, 'abril': 88000, 'maio': 89000}\n",
      "120000\n"
     ]
    }
   ],
   "source": [
    "lucro_jun = lucro_1tri.pop('junho')\n",
    "\n",
    "print(lucro_1tri)\n",
    "\n",
    "print(lucro_jun)"
   ]
  },
  {
   "cell_type": "markdown",
   "id": "1ab14450",
   "metadata": {},
   "source": [
    "                                     -//-"
   ]
  },
  {
   "cell_type": "markdown",
   "id": "93ba55c2",
   "metadata": {},
   "source": [
    "## FOR"
   ]
  },
  {
   "cell_type": "code",
   "execution_count": 31,
   "id": "57f91b0f",
   "metadata": {
    "scrolled": true
   },
   "outputs": [
    {
     "name": "stdout",
     "output_type": "stream",
     "text": [
      "iphone: 15000 unidades\n",
      "samsung galaxy: 12000 unidades\n",
      "tv samsung: 10000 unidades\n",
      "ps5: 14300 unidades\n",
      "tablet: 1720 unidades\n",
      "ipad: 1000 unidades\n",
      "tv philco: 2500 unidades\n",
      "notebook hp: 1000 unidades\n",
      "notebook dell: 17000 unidades\n",
      "notebook asus: 2450 unidades\n"
     ]
    }
   ],
   "source": [
    "vendas_tecnologia = {'iphone': 15000, 'samsung galaxy': 12000,\\\n",
    "                     'tv samsung': 10000, 'ps5': 14300, 'tablet': 1720,\\\n",
    "                     'ipad': 1000, 'tv philco': 2500, 'notebook hp': 1000,\\\n",
    "                     'notebook dell': 17000, 'notebook asus': 2450}\n",
    "\n",
    "for chave in vendas_tecnologia:\n",
    "    print(\"{}: {} unidades\".format(chave, vendas_tecnologia[chave]))"
   ]
  },
  {
   "cell_type": "markdown",
   "id": "f4a04f9d",
   "metadata": {},
   "source": [
    "- Qual o total de notebooks vendidos?"
   ]
  },
  {
   "cell_type": "code",
   "execution_count": 32,
   "id": "92b57c4c",
   "metadata": {},
   "outputs": [
    {
     "name": "stdout",
     "output_type": "stream",
     "text": [
      "20450\n"
     ]
    }
   ],
   "source": [
    "total_notebooks = 0\n",
    "\n",
    "for chave in vendas_tecnologia:\n",
    "    if 'notebook' in chave:\n",
    "        total_notebooks += vendas_tecnologia[chave]\n",
    "        \n",
    "print(total_notebooks)"
   ]
  },
  {
   "cell_type": "markdown",
   "id": "3f9bc619",
   "metadata": {},
   "source": [
    "                                     -//-"
   ]
  },
  {
   "cell_type": "markdown",
   "id": "79741375",
   "metadata": {},
   "source": [
    "## Métodos úteis"
   ]
  },
  {
   "cell_type": "markdown",
   "id": "3ddbef1b",
   "metadata": {},
   "source": [
    "### ITEMS"
   ]
  },
  {
   "cell_type": "code",
   "execution_count": 9,
   "id": "1cafb912",
   "metadata": {},
   "outputs": [
    {
     "name": "stdout",
     "output_type": "stream",
     "text": [
      "notebook asus: 2450 unidades\n",
      "iphone: 15000 unidades\n",
      "samsung galaxy: 12000 unidades\n",
      "tv samsung: 10000 unidades\n",
      "ps5: 14300 unidades\n",
      "tablet: 1720 unidades\n",
      "notebook dell: 17000 unidades\n",
      "ipad: 1000 unidades\n",
      "tv philco: 2500 unidades\n",
      "notebook hp: 1000 unidades\n"
     ]
    }
   ],
   "source": [
    "vendas_tecnologia = {'notebook asus': 2450, 'iphone': 15000, 'samsung galaxy': 12000, 'tv samsung': 10000, 'ps5': 14300, 'tablet': 1720, 'notebook dell': 17000, 'ipad': 1000, 'tv philco': 2500, 'notebook hp': 1000}\n",
    "\n",
    "for produto, qtd in vendas_tecnologia.items():\n",
    "    print(\"{}: {} unidades\".format(produto, qtd))"
   ]
  },
  {
   "cell_type": "markdown",
   "id": "b2747dc5",
   "metadata": {},
   "source": [
    "- Quais produtos venderam mais de 5000 unidades?"
   ]
  },
  {
   "cell_type": "code",
   "execution_count": 10,
   "id": "9089f459",
   "metadata": {},
   "outputs": [
    {
     "name": "stdout",
     "output_type": "stream",
     "text": [
      "iphone: 15000 unidades\n",
      "samsung galaxy: 12000 unidades\n",
      "tv samsung: 10000 unidades\n",
      "ps5: 14300 unidades\n",
      "notebook dell: 17000 unidades\n"
     ]
    }
   ],
   "source": [
    "for chave in vendas_tecnologia:\n",
    "    if vendas_tecnologia[chave] > 5000:\n",
    "        print(\"{}: {} unidades\".format(chave, vendas_tecnologia[chave]))"
   ]
  },
  {
   "cell_type": "code",
   "execution_count": 11,
   "id": "f4768c45",
   "metadata": {},
   "outputs": [
    {
     "name": "stdout",
     "output_type": "stream",
     "text": [
      "iphone: 15000 unidades\n",
      "samsung galaxy: 12000 unidades\n",
      "tv samsung: 10000 unidades\n",
      "ps5: 14300 unidades\n",
      "notebook dell: 17000 unidades\n"
     ]
    }
   ],
   "source": [
    "for produto, qtd in vendas_tecnologia.items():\n",
    "    if qtd > 5000:\n",
    "        print(\"{}: {} unidades\".format(produto, qtd))"
   ]
  },
  {
   "cell_type": "markdown",
   "id": "feacaa09",
   "metadata": {},
   "source": [
    "### KEYS e VALUES"
   ]
  },
  {
   "cell_type": "code",
   "execution_count": 13,
   "id": "6fc6ee2d",
   "metadata": {},
   "outputs": [
    {
     "name": "stdout",
     "output_type": "stream",
     "text": [
      "dict_keys(['notebook asus', 'iphone', 'samsung galaxy', 'tv samsung', 'ps5', 'tablet', 'notebook dell', 'ipad', 'tv philco', 'notebook hp'])\n",
      " \n",
      "dict_values([2450, 15000, 12000, 10000, 14300, 1720, 17000, 1000, 2500, 1000])\n"
     ]
    }
   ],
   "source": [
    "chaves = vendas_tecnologia.keys()\n",
    "\n",
    "valores = vendas_tecnologia.values()\n",
    "\n",
    "print(chaves)\n",
    "\n",
    "print(\" \")\n",
    "\n",
    "print(valores)"
   ]
  },
  {
   "cell_type": "code",
   "execution_count": 16,
   "id": "d6293ede",
   "metadata": {},
   "outputs": [
    {
     "name": "stdout",
     "output_type": "stream",
     "text": [
      "dict_keys(['notebook asus', 'iphone', 'samsung galaxy', 'tv samsung', 'ps5', 'tablet', 'notebook dell', 'ipad', 'tv philco', 'notebook hp', 'megaphone'])\n",
      " \n",
      "dict_values([2450, 15000, 12000, 10000, 14300, 1720, 17000, 1000, 2500, 1000, 10])\n",
      "--------------------\n",
      "['notebook asus', 'iphone', 'samsung galaxy', 'tv samsung', 'ps5', 'tablet', 'notebook dell', 'ipad', 'tv philco', 'notebook hp', 'megaphone']\n",
      " \n",
      "[2450, 15000, 12000, 10000, 14300, 1720, 17000, 1000, 2500, 1000, 10]\n"
     ]
    }
   ],
   "source": [
    "vendas_tecnologia['megaphone'] = 10\n",
    "\n",
    "print(chaves)\n",
    "\n",
    "print(\" \")\n",
    "\n",
    "print(valores)\n",
    "\n",
    "print(\"--------------------\")\n",
    "\n",
    "print(list(chaves))\n",
    "\n",
    "print(\" \")\n",
    "\n",
    "print(list(valores))"
   ]
  },
  {
   "cell_type": "markdown",
   "id": "045d8283",
   "metadata": {},
   "source": [
    "- Imprimir uma lista com os valores em ordem alfabética, de forma que todas as tvs fiquem juntas, todos os iphone/ipad também e assim vai:"
   ]
  },
  {
   "cell_type": "code",
   "execution_count": 21,
   "id": "718d675c",
   "metadata": {},
   "outputs": [
    {
     "name": "stdout",
     "output_type": "stream",
     "text": [
      "notebook asus: 2450 unidades\n",
      "iphone: 15000 unidades\n",
      "samsung galaxy: 12000 unidades\n",
      "tv samsung: 10000 unidades\n",
      "ps5: 14300 unidades\n",
      "tablet: 1720 unidades\n",
      "notebook dell: 17000 unidades\n",
      "ipad: 1000 unidades\n",
      "tv philco: 2500 unidades\n",
      "notebook hp: 1000 unidades\n",
      "megaphone: 10 unidades\n",
      "----------------------------------------\n",
      "['ipad', 'iphone', 'megaphone', 'notebook asus', 'notebook dell', 'notebook hp', 'ps5', 'samsung galaxy', 'tablet', 'tv philco', 'tv samsung']\n",
      "----------------------------------------\n",
      "ipad: 1000 unidades\n",
      "iphone: 15000 unidades\n",
      "megaphone: 10 unidades\n",
      "notebook asus: 2450 unidades\n",
      "notebook dell: 17000 unidades\n",
      "notebook hp: 1000 unidades\n",
      "ps5: 14300 unidades\n",
      "samsung galaxy: 12000 unidades\n",
      "tablet: 1720 unidades\n",
      "tv philco: 2500 unidades\n",
      "tv samsung: 10000 unidades\n"
     ]
    }
   ],
   "source": [
    "for chave in vendas_tecnologia:\n",
    "     print('{}: {} unidades'.format(chave, vendas_tecnologia[chave]))\n",
    "\n",
    "print('-' * 40)\n",
    "\n",
    "#agora se quisermos organizar isso, fazemos:\n",
    "lista_chaves = list(chaves)\n",
    "\n",
    "lista_chaves.sort()\n",
    "\n",
    "print(lista_chaves)\n",
    "\n",
    "print('-' * 40)\n",
    "\n",
    "for chave in lista_chaves:\n",
    "    print('{}: {} unidades'.format(chave, vendas_tecnologia[chave]))"
   ]
  },
  {
   "cell_type": "markdown",
   "id": "3855426d",
   "metadata": {},
   "source": [
    "                                     -//-"
   ]
  },
  {
   "cell_type": "markdown",
   "id": "3abdc34d",
   "metadata": {},
   "source": [
    "## ZIP e Transformando Listas em Dicionários"
   ]
  },
  {
   "cell_type": "code",
   "execution_count": 23,
   "id": "e3e089fc",
   "metadata": {},
   "outputs": [],
   "source": [
    "produtos = ['iphone', 'samsung galaxy', 'tv samsung', 'ps5',\\\n",
    "            'tablet', 'ipad', 'tv philco', 'notebook hp', 'notebook dell',\\\n",
    "            'notebook asus']\n",
    "\n",
    "vendas = [15000, 12000, 10000, 14300, 1720, 1000, 2500, 1000, 17000, 2450]\n"
   ]
  },
  {
   "cell_type": "code",
   "execution_count": 24,
   "id": "23aae3ba",
   "metadata": {},
   "outputs": [
    {
     "name": "stdout",
     "output_type": "stream",
     "text": [
      "{'iphone': 0, 'samsung galaxy': 0, 'tv samsung': 0, 'ps5': 0, 'tablet': 0, 'ipad': 0, 'tv philco': 0, 'notebook hp': 0, 'notebook dell': 0, 'notebook asus': 0}\n"
     ]
    }
   ],
   "source": [
    "dicionario = dict.fromkeys(produtos, 0)\n",
    "\n",
    "print(dicionario)"
   ]
  },
  {
   "cell_type": "code",
   "execution_count": 28,
   "id": "408d9150",
   "metadata": {},
   "outputs": [
    {
     "name": "stdout",
     "output_type": "stream",
     "text": [
      "{'iphone': 15000, 'samsung galaxy': 12000, 'tv samsung': 10000, 'ps5': 14300, 'tablet': 1720, 'ipad': 1000, 'tv philco': 2500, 'notebook hp': 1000, 'notebook dell': 17000, 'notebook asus': 2450}\n"
     ]
    }
   ],
   "source": [
    "lista_tuplas = zip(produtos, vendas)\n",
    "\n",
    "dicionario_vendas = dict(lista_tuplas)\n",
    "\n",
    "print(dicionario_vendas)"
   ]
  },
  {
   "cell_type": "markdown",
   "id": "973b6ce0",
   "metadata": {},
   "source": [
    "- Quanto vendemos de ipad?"
   ]
  },
  {
   "cell_type": "code",
   "execution_count": 31,
   "id": "acc004df",
   "metadata": {},
   "outputs": [
    {
     "name": "stdout",
     "output_type": "stream",
     "text": [
      "ipad: 1000 unidades\n",
      "---------------------------------------------\n",
      "ipad: 1000 unidades\n"
     ]
    }
   ],
   "source": [
    "#fazendo por listas\n",
    "index = produtos.index('ipad')\n",
    "\n",
    "print(\"{}: {} unidades\".format(produtos[index], vendas[index]))\n",
    "\n",
    "print('-' * 45)\n",
    "\n",
    "#fazendo por dicionario\n",
    "chave = 'ipad'\n",
    "\n",
    "print(\"{}: {} unidades\".format(chave, dicionario_vendas[chave]))"
   ]
  }
 ],
 "metadata": {
  "kernelspec": {
   "display_name": "Python 3 (ipykernel)",
   "language": "python",
   "name": "python3"
  },
  "language_info": {
   "codemirror_mode": {
    "name": "ipython",
    "version": 3
   },
   "file_extension": ".py",
   "mimetype": "text/x-python",
   "name": "python",
   "nbconvert_exporter": "python",
   "pygments_lexer": "ipython3",
   "version": "3.9.7"
  }
 },
 "nbformat": 4,
 "nbformat_minor": 5
}
